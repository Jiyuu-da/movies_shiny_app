{
 "cells": [
  {
   "cell_type": "code",
   "execution_count": 1,
   "metadata": {},
   "outputs": [],
   "source": [
    "import polars as pl"
   ]
  },
  {
   "cell_type": "code",
   "execution_count": 89,
   "metadata": {},
   "outputs": [
    {
     "data": {
      "text/html": [
       "<div><style>\n",
       ".dataframe > thead > tr,\n",
       ".dataframe > tbody > tr {\n",
       "  text-align: right;\n",
       "  white-space: pre-wrap;\n",
       "}\n",
       "</style>\n",
       "<small>shape: (5, 14)</small><table border=\"1\" class=\"dataframe\"><thead><tr><th></th><th>Title</th><th>Movie Info</th><th>Year</th><th>Distributor</th><th>Budget (in $)</th><th>Domestic Opening (in $)</th><th>Domestic Sales (in $)</th><th>International Sales (in $)</th><th>World Wide Sales (in $)</th><th>Release Date</th><th>Genre</th><th>Running Time</th><th>License</th></tr><tr><td>i64</td><td>str</td><td>str</td><td>i64</td><td>str</td><td>str</td><td>str</td><td>i64</td><td>i64</td><td>i64</td><td>str</td><td>str</td><td>str</td><td>str</td></tr></thead><tbody><tr><td>0</td><td>&quot;Avatar&quot;</td><td>&quot;A paraplegic Marine dispatched…</td><td>2009</td><td>&quot;Twentieth Century Fox&quot;</td><td>&quot;237000000&quot;</td><td>&quot;77025481&quot;</td><td>785221649</td><td>2138484377</td><td>2923706026</td><td>&quot;16-Dec-09&quot;</td><td>&quot;[&#x27;Action&#x27;, &#x27;Adventure&#x27;, &#x27;Fanta…</td><td>&quot;2 hr 42 min&quot;</td><td>&quot;PG-13&quot;</td></tr><tr><td>1</td><td>&quot;Avengers: Endgame&quot;</td><td>&quot;After the devastating events o…</td><td>2019</td><td>&quot;Walt Disney Studios Motion Pic…</td><td>&quot;356000000&quot;</td><td>&quot;357115007&quot;</td><td>858373000</td><td>1941066100</td><td>2799439100</td><td>&quot;24-Apr-19&quot;</td><td>&quot;[&#x27;Action&#x27;, &#x27;Adventure&#x27;, &#x27;Drama…</td><td>&quot;3 hr 1 min&quot;</td><td>&quot;PG-13&quot;</td></tr><tr><td>2</td><td>&quot;Avatar: The Way of Water&quot;</td><td>&quot;Jake Sully lives with his newf…</td><td>2022</td><td>&quot;20th Century Studios&quot;</td><td>&quot;December 14 2022 (EMEA APAC)&quot;</td><td>&quot;134100226&quot;</td><td>684075767</td><td>1636174514</td><td>2320250281</td><td>&quot;24-Apr-19&quot;</td><td>&quot;[&#x27;Action&#x27;, &#x27;Adventure&#x27;, &#x27;Drama…</td><td>&quot;3 hr 1 min&quot;</td><td>&quot;PG-13&quot;</td></tr><tr><td>3</td><td>&quot;Titanic&quot;</td><td>&quot;A seventeen-year-old aristocra…</td><td>1997</td><td>&quot;Paramount Pictures&quot;</td><td>&quot;200000000&quot;</td><td>&quot;28638131&quot;</td><td>674292608</td><td>1590450697</td><td>2264743305</td><td>&quot;19-Dec-97&quot;</td><td>&quot;[&#x27;Drama&#x27;, &#x27;Romance&#x27;]&quot;</td><td>&quot;3 hr 14 min&quot;</td><td>&quot;PG-13&quot;</td></tr><tr><td>4</td><td>&quot;Star Wars: Episode VII - The F…</td><td>&quot;As a new threat to the galaxy …</td><td>2015</td><td>&quot;Walt Disney Studios Motion Pic…</td><td>&quot;245000000&quot;</td><td>&quot;247966675&quot;</td><td>936662225</td><td>1134647993</td><td>2071310218</td><td>&quot;16-Dec-15&quot;</td><td>&quot;[&#x27;Action&#x27;, &#x27;Adventure&#x27;, &#x27;Sci-F…</td><td>&quot;2 hr 18 min&quot;</td><td>&quot;PG-13&quot;</td></tr></tbody></table></div>"
      ],
      "text/plain": [
       "shape: (5, 14)\n",
       "┌─────┬──────────────┬──────────────┬──────┬───┬─────────────┬─────────────┬─────────────┬─────────┐\n",
       "│     ┆ Title        ┆ Movie Info   ┆ Year ┆ … ┆ Release     ┆ Genre       ┆ Running     ┆ License │\n",
       "│ --- ┆ ---          ┆ ---          ┆ ---  ┆   ┆ Date        ┆ ---         ┆ Time        ┆ ---     │\n",
       "│ i64 ┆ str          ┆ str          ┆ i64  ┆   ┆ ---         ┆ str         ┆ ---         ┆ str     │\n",
       "│     ┆              ┆              ┆      ┆   ┆ str         ┆             ┆ str         ┆         │\n",
       "╞═════╪══════════════╪══════════════╪══════╪═══╪═════════════╪═════════════╪═════════════╪═════════╡\n",
       "│ 0   ┆ Avatar       ┆ A paraplegic ┆ 2009 ┆ … ┆ 16-Dec-09   ┆ ['Action',  ┆ 2 hr 42 min ┆ PG-13   │\n",
       "│     ┆              ┆ Marine       ┆      ┆   ┆             ┆ 'Adventure' ┆             ┆         │\n",
       "│     ┆              ┆ dispatched…  ┆      ┆   ┆             ┆ , 'Fanta…   ┆             ┆         │\n",
       "│ 1   ┆ Avengers:    ┆ After the    ┆ 2019 ┆ … ┆ 24-Apr-19   ┆ ['Action',  ┆ 3 hr 1 min  ┆ PG-13   │\n",
       "│     ┆ Endgame      ┆ devastating  ┆      ┆   ┆             ┆ 'Adventure' ┆             ┆         │\n",
       "│     ┆              ┆ events o…    ┆      ┆   ┆             ┆ , 'Drama…   ┆             ┆         │\n",
       "│ 2   ┆ Avatar: The  ┆ Jake Sully   ┆ 2022 ┆ … ┆ 24-Apr-19   ┆ ['Action',  ┆ 3 hr 1 min  ┆ PG-13   │\n",
       "│     ┆ Way of Water ┆ lives with   ┆      ┆   ┆             ┆ 'Adventure' ┆             ┆         │\n",
       "│     ┆              ┆ his newf…    ┆      ┆   ┆             ┆ , 'Drama…   ┆             ┆         │\n",
       "│ 3   ┆ Titanic      ┆ A seventeen- ┆ 1997 ┆ … ┆ 19-Dec-97   ┆ ['Drama',   ┆ 3 hr 14 min ┆ PG-13   │\n",
       "│     ┆              ┆ year-old     ┆      ┆   ┆             ┆ 'Romance']  ┆             ┆         │\n",
       "│     ┆              ┆ aristocra…   ┆      ┆   ┆             ┆             ┆             ┆         │\n",
       "│ 4   ┆ Star Wars:   ┆ As a new     ┆ 2015 ┆ … ┆ 16-Dec-15   ┆ ['Action',  ┆ 2 hr 18 min ┆ PG-13   │\n",
       "│     ┆ Episode VII  ┆ threat to    ┆      ┆   ┆             ┆ 'Adventure' ┆             ┆         │\n",
       "│     ┆ - The F…     ┆ the galaxy … ┆      ┆   ┆             ┆ , 'Sci-F…   ┆             ┆         │\n",
       "└─────┴──────────────┴──────────────┴──────┴───┴─────────────┴─────────────┴─────────────┴─────────┘"
      ]
     },
     "execution_count": 89,
     "metadata": {},
     "output_type": "execute_result"
    }
   ],
   "source": [
    "df = pl.read_csv(\"./dataset/Movies.csv\")\n",
    "df.head()"
   ]
  },
  {
   "cell_type": "code",
   "execution_count": 90,
   "metadata": {},
   "outputs": [],
   "source": [
    "df = df.rename({\"\" : \"idx\"})"
   ]
  },
  {
   "cell_type": "code",
   "execution_count": 91,
   "metadata": {},
   "outputs": [
    {
     "data": {
      "text/html": [
       "<div><style>\n",
       ".dataframe > thead > tr,\n",
       ".dataframe > tbody > tr {\n",
       "  text-align: right;\n",
       "  white-space: pre-wrap;\n",
       "}\n",
       "</style>\n",
       "<small>shape: (1, 14)</small><table border=\"1\" class=\"dataframe\"><thead><tr><th>idx</th><th>Title</th><th>Movie Info</th><th>Year</th><th>Distributor</th><th>Budget (in $)</th><th>Domestic Opening (in $)</th><th>Domestic Sales (in $)</th><th>International Sales (in $)</th><th>World Wide Sales (in $)</th><th>Release Date</th><th>Genre</th><th>Running Time</th><th>License</th></tr><tr><td>i64</td><td>str</td><td>str</td><td>i64</td><td>str</td><td>str</td><td>str</td><td>i64</td><td>i64</td><td>i64</td><td>str</td><td>str</td><td>str</td><td>str</td></tr></thead><tbody><tr><td>95</td><td>&quot;Hi, Mom&quot;</td><td>&quot;A woman travels back in time t…</td><td>2021</td><td>&quot;February 12, 2021 (China)&quot;</td><td>&quot;149000000&quot;</td><td>&quot;2 hr 8 min&quot;</td><td>822009764</td><td>822009764</td><td>822854286</td><td>&quot;30-May-17&quot;</td><td>&quot;[&#x27;Action&#x27;, &#x27;Adventure&#x27;, &#x27;Fanta…</td><td>&quot;2 hr 21 min&quot;</td><td>&quot;PG-13&quot;</td></tr></tbody></table></div>"
      ],
      "text/plain": [
       "shape: (1, 14)\n",
       "┌─────┬─────────┬───────────────┬──────┬───┬──────────────┬───────────────┬──────────────┬─────────┐\n",
       "│ idx ┆ Title   ┆ Movie Info    ┆ Year ┆ … ┆ Release Date ┆ Genre         ┆ Running Time ┆ License │\n",
       "│ --- ┆ ---     ┆ ---           ┆ ---  ┆   ┆ ---          ┆ ---           ┆ ---          ┆ ---     │\n",
       "│ i64 ┆ str     ┆ str           ┆ i64  ┆   ┆ str          ┆ str           ┆ str          ┆ str     │\n",
       "╞═════╪═════════╪═══════════════╪══════╪═══╪══════════════╪═══════════════╪══════════════╪═════════╡\n",
       "│ 95  ┆ Hi, Mom ┆ A woman       ┆ 2021 ┆ … ┆ 30-May-17    ┆ ['Action',    ┆ 2 hr 21 min  ┆ PG-13   │\n",
       "│     ┆         ┆ travels back  ┆      ┆   ┆              ┆ 'Adventure',  ┆              ┆         │\n",
       "│     ┆         ┆ in time t…    ┆      ┆   ┆              ┆ 'Fanta…       ┆              ┆         │\n",
       "└─────┴─────────┴───────────────┴──────┴───┴──────────────┴───────────────┴──────────────┴─────────┘"
      ]
     },
     "execution_count": 91,
     "metadata": {},
     "output_type": "execute_result"
    }
   ],
   "source": [
    "df[95]"
   ]
  },
  {
   "cell_type": "code",
   "execution_count": 92,
   "metadata": {},
   "outputs": [],
   "source": [
    "invalid_dist = r\"^[A-Za-z]+ \\d{1,2}\"\n",
    "\n",
    "mask = ~df[\"Distributor\"].str.contains(invalid_dist)\n",
    "df = df.filter(mask)"
   ]
  },
  {
   "cell_type": "markdown",
   "metadata": {},
   "source": [
    "#### Handling string values in integer columns"
   ]
  },
  {
   "cell_type": "code",
   "execution_count": 98,
   "metadata": {},
   "outputs": [
    {
     "data": {
      "text/html": [
       "<div><style>\n",
       ".dataframe > thead > tr,\n",
       ".dataframe > tbody > tr {\n",
       "  text-align: right;\n",
       "  white-space: pre-wrap;\n",
       "}\n",
       "</style>\n",
       "<small>shape: (210,)</small><table border=\"1\" class=\"dataframe\"><thead><tr><th>Budget (in $)</th></tr><tr><td>str</td></tr></thead><tbody><tr><td>&quot;December 14 2022 (EMEA APAC)&quot;</td></tr><tr><td>&quot;April 25 2018 (APAC EMEA)&quot;</td></tr><tr><td>&quot;December 15 2021 (14 markets)&quot;</td></tr><tr><td>&quot;May 20 2022 (Iceland)&quot;</td></tr><tr><td>&quot;July 19 2023 (EMEA APAC)&quot;</td></tr><tr><td>&hellip;</td></tr><tr><td>&quot;November 15 1991 (Domestic)&quot;</td></tr><tr><td>&quot;September 20 1996 (Domestic)&quot;</td></tr><tr><td>&quot;April 29 2021 (New Zealand)&quot;</td></tr><tr><td>&quot;March 26 2004 (10 markets)&quot;</td></tr><tr><td>&quot;December 28 2022 (EMEA)&quot;</td></tr></tbody></table></div>"
      ],
      "text/plain": [
       "shape: (210,)\n",
       "Series: 'Budget (in $)' [str]\n",
       "[\n",
       "\t\"December 14 2022 (EMEA APAC)\"\n",
       "\t\"April 25 2018 (APAC EMEA)\"\n",
       "\t\"December 15 2021 (14 markets)\"\n",
       "\t\"May 20 2022 (Iceland)\"\n",
       "\t\"July 19 2023 (EMEA APAC)\"\n",
       "\t…\n",
       "\t\"November 15 1991 (Domestic)\"\n",
       "\t\"September 20 1996 (Domestic)\"\n",
       "\t\"April 29 2021 (New Zealand)\"\n",
       "\t\"March 26 2004 (10 markets)\"\n",
       "\t\"December 28 2022 (EMEA)\"\n",
       "]"
      ]
     },
     "execution_count": 98,
     "metadata": {},
     "output_type": "execute_result"
    }
   ],
   "source": [
    "df.filter(\n",
    "    pl.col(\"Budget (in $)\").str.contains(r\"\\D\")\n",
    ")[\"Budget (in $)\"]"
   ]
  },
  {
   "cell_type": "code",
   "execution_count": 99,
   "metadata": {},
   "outputs": [],
   "source": [
    "df = df.with_columns(\n",
    "    pl.when(pl.col(\"Budget (in $)\").str.contains(r\"\\D\"))\n",
    "    .then(None)\n",
    "    .otherwise(\"Budget (in $)\")\n",
    "    .alias(\"Budget (in $)\")\n",
    ")\n",
    "\n",
    "df = df.with_columns(\n",
    "    pl.col(\"Budget (in $)\").cast(pl.Int64)\n",
    ")\n"
   ]
  },
  {
   "cell_type": "code",
   "execution_count": 100,
   "metadata": {},
   "outputs": [
    {
     "data": {
      "text/html": [
       "<div><style>\n",
       ".dataframe > thead > tr,\n",
       ".dataframe > tbody > tr {\n",
       "  text-align: right;\n",
       "  white-space: pre-wrap;\n",
       "}\n",
       "</style>\n",
       "<small>shape: (5, 14)</small><table border=\"1\" class=\"dataframe\"><thead><tr><th>idx</th><th>Title</th><th>Movie Info</th><th>Year</th><th>Distributor</th><th>Budget (in $)</th><th>Domestic Opening (in $)</th><th>Domestic Sales (in $)</th><th>International Sales (in $)</th><th>World Wide Sales (in $)</th><th>Release Date</th><th>Genre</th><th>Running Time</th><th>License</th></tr><tr><td>i64</td><td>str</td><td>str</td><td>i64</td><td>str</td><td>i64</td><td>str</td><td>i64</td><td>i64</td><td>i64</td><td>str</td><td>str</td><td>str</td><td>str</td></tr></thead><tbody><tr><td>0</td><td>&quot;Avatar&quot;</td><td>&quot;A paraplegic Marine dispatched…</td><td>2009</td><td>&quot;Twentieth Century Fox&quot;</td><td>237000000</td><td>&quot;77025481&quot;</td><td>785221649</td><td>2138484377</td><td>2923706026</td><td>&quot;16-Dec-09&quot;</td><td>&quot;[&#x27;Action&#x27;, &#x27;Adventure&#x27;, &#x27;Fanta…</td><td>&quot;2 hr 42 min&quot;</td><td>&quot;PG-13&quot;</td></tr><tr><td>1</td><td>&quot;Avengers: Endgame&quot;</td><td>&quot;After the devastating events o…</td><td>2019</td><td>&quot;Walt Disney Studios Motion Pic…</td><td>356000000</td><td>&quot;357115007&quot;</td><td>858373000</td><td>1941066100</td><td>2799439100</td><td>&quot;24-Apr-19&quot;</td><td>&quot;[&#x27;Action&#x27;, &#x27;Adventure&#x27;, &#x27;Drama…</td><td>&quot;3 hr 1 min&quot;</td><td>&quot;PG-13&quot;</td></tr><tr><td>2</td><td>&quot;Avatar: The Way of Water&quot;</td><td>&quot;Jake Sully lives with his newf…</td><td>2022</td><td>&quot;20th Century Studios&quot;</td><td>null</td><td>&quot;134100226&quot;</td><td>684075767</td><td>1636174514</td><td>2320250281</td><td>&quot;24-Apr-19&quot;</td><td>&quot;[&#x27;Action&#x27;, &#x27;Adventure&#x27;, &#x27;Drama…</td><td>&quot;3 hr 1 min&quot;</td><td>&quot;PG-13&quot;</td></tr><tr><td>3</td><td>&quot;Titanic&quot;</td><td>&quot;A seventeen-year-old aristocra…</td><td>1997</td><td>&quot;Paramount Pictures&quot;</td><td>200000000</td><td>&quot;28638131&quot;</td><td>674292608</td><td>1590450697</td><td>2264743305</td><td>&quot;19-Dec-97&quot;</td><td>&quot;[&#x27;Drama&#x27;, &#x27;Romance&#x27;]&quot;</td><td>&quot;3 hr 14 min&quot;</td><td>&quot;PG-13&quot;</td></tr><tr><td>4</td><td>&quot;Star Wars: Episode VII - The F…</td><td>&quot;As a new threat to the galaxy …</td><td>2015</td><td>&quot;Walt Disney Studios Motion Pic…</td><td>245000000</td><td>&quot;247966675&quot;</td><td>936662225</td><td>1134647993</td><td>2071310218</td><td>&quot;16-Dec-15&quot;</td><td>&quot;[&#x27;Action&#x27;, &#x27;Adventure&#x27;, &#x27;Sci-F…</td><td>&quot;2 hr 18 min&quot;</td><td>&quot;PG-13&quot;</td></tr></tbody></table></div>"
      ],
      "text/plain": [
       "shape: (5, 14)\n",
       "┌─────┬──────────────┬──────────────┬──────┬───┬─────────────┬─────────────┬─────────────┬─────────┐\n",
       "│ idx ┆ Title        ┆ Movie Info   ┆ Year ┆ … ┆ Release     ┆ Genre       ┆ Running     ┆ License │\n",
       "│ --- ┆ ---          ┆ ---          ┆ ---  ┆   ┆ Date        ┆ ---         ┆ Time        ┆ ---     │\n",
       "│ i64 ┆ str          ┆ str          ┆ i64  ┆   ┆ ---         ┆ str         ┆ ---         ┆ str     │\n",
       "│     ┆              ┆              ┆      ┆   ┆ str         ┆             ┆ str         ┆         │\n",
       "╞═════╪══════════════╪══════════════╪══════╪═══╪═════════════╪═════════════╪═════════════╪═════════╡\n",
       "│ 0   ┆ Avatar       ┆ A paraplegic ┆ 2009 ┆ … ┆ 16-Dec-09   ┆ ['Action',  ┆ 2 hr 42 min ┆ PG-13   │\n",
       "│     ┆              ┆ Marine       ┆      ┆   ┆             ┆ 'Adventure' ┆             ┆         │\n",
       "│     ┆              ┆ dispatched…  ┆      ┆   ┆             ┆ , 'Fanta…   ┆             ┆         │\n",
       "│ 1   ┆ Avengers:    ┆ After the    ┆ 2019 ┆ … ┆ 24-Apr-19   ┆ ['Action',  ┆ 3 hr 1 min  ┆ PG-13   │\n",
       "│     ┆ Endgame      ┆ devastating  ┆      ┆   ┆             ┆ 'Adventure' ┆             ┆         │\n",
       "│     ┆              ┆ events o…    ┆      ┆   ┆             ┆ , 'Drama…   ┆             ┆         │\n",
       "│ 2   ┆ Avatar: The  ┆ Jake Sully   ┆ 2022 ┆ … ┆ 24-Apr-19   ┆ ['Action',  ┆ 3 hr 1 min  ┆ PG-13   │\n",
       "│     ┆ Way of Water ┆ lives with   ┆      ┆   ┆             ┆ 'Adventure' ┆             ┆         │\n",
       "│     ┆              ┆ his newf…    ┆      ┆   ┆             ┆ , 'Drama…   ┆             ┆         │\n",
       "│ 3   ┆ Titanic      ┆ A seventeen- ┆ 1997 ┆ … ┆ 19-Dec-97   ┆ ['Drama',   ┆ 3 hr 14 min ┆ PG-13   │\n",
       "│     ┆              ┆ year-old     ┆      ┆   ┆             ┆ 'Romance']  ┆             ┆         │\n",
       "│     ┆              ┆ aristocra…   ┆      ┆   ┆             ┆             ┆             ┆         │\n",
       "│ 4   ┆ Star Wars:   ┆ As a new     ┆ 2015 ┆ … ┆ 16-Dec-15   ┆ ['Action',  ┆ 2 hr 18 min ┆ PG-13   │\n",
       "│     ┆ Episode VII  ┆ threat to    ┆      ┆   ┆             ┆ 'Adventure' ┆             ┆         │\n",
       "│     ┆ - The F…     ┆ the galaxy … ┆      ┆   ┆             ┆ , 'Sci-F…   ┆             ┆         │\n",
       "└─────┴──────────────┴──────────────┴──────┴───┴─────────────┴─────────────┴─────────────┴─────────┘"
      ]
     },
     "execution_count": 100,
     "metadata": {},
     "output_type": "execute_result"
    }
   ],
   "source": [
    "df.head()"
   ]
  },
  {
   "cell_type": "code",
   "execution_count": 101,
   "metadata": {},
   "outputs": [
    {
     "data": {
      "text/html": [
       "<div><style>\n",
       ".dataframe > thead > tr,\n",
       ".dataframe > tbody > tr {\n",
       "  text-align: right;\n",
       "  white-space: pre-wrap;\n",
       "}\n",
       "</style>\n",
       "<small>shape: (8,)</small><table border=\"1\" class=\"dataframe\"><thead><tr><th>Domestic Opening (in $)</th></tr><tr><td>str</td></tr></thead><tbody><tr><td>&quot;February 12 2021 (China)&quot;</td></tr><tr><td>&quot;December 15 1939 (Domestic)&quot;</td></tr><tr><td>&quot;August 21 1942 (Domestic)&quot;</td></tr><tr><td>&quot;February 28 2008 (South Korea)&quot;</td></tr><tr><td>&quot;February 18 2016 (South Korea)&quot;</td></tr><tr><td>&quot;October 1 2020 (3 markets)&quot;</td></tr><tr><td>&quot;January 25 1961 (Domestic)&quot;</td></tr><tr><td>&quot;October 18 1967 (Domestic)&quot;</td></tr></tbody></table></div>"
      ],
      "text/plain": [
       "shape: (8,)\n",
       "Series: 'Domestic Opening (in $)' [str]\n",
       "[\n",
       "\t\"February 12 2021 (China)\"\n",
       "\t\"December 15 1939 (Domestic)\"\n",
       "\t\"August 21 1942 (Domestic)\"\n",
       "\t\"February 28 2008 (South Korea)\"\n",
       "\t\"February 18 2016 (South Korea)\"\n",
       "\t\"October 1 2020 (3 markets)\"\n",
       "\t\"January 25 1961 (Domestic)\"\n",
       "\t\"October 18 1967 (Domestic)\"\n",
       "]"
      ]
     },
     "execution_count": 101,
     "metadata": {},
     "output_type": "execute_result"
    }
   ],
   "source": [
    "df.filter(\n",
    "    pl.col(\"Domestic Opening (in $)\").str.contains(r\"\\D\")\n",
    ")[\"Domestic Opening (in $)\"]"
   ]
  },
  {
   "cell_type": "code",
   "execution_count": 102,
   "metadata": {},
   "outputs": [],
   "source": [
    "df = df.with_columns(\n",
    "    pl.when(pl.col(\"Domestic Opening (in $)\").str.contains(r\"\\D\"))\n",
    "    .then(None)\n",
    "    .otherwise(\"Domestic Opening (in $)\")\n",
    "    .alias(\"Domestic Opening (in $)\")\n",
    ")\n",
    "\n",
    "df = df.with_columns(\n",
    "    pl.col(\"Domestic Opening (in $)\").cast(pl.Int64)\n",
    ")"
   ]
  },
  {
   "cell_type": "code",
   "execution_count": 103,
   "metadata": {},
   "outputs": [
    {
     "data": {
      "text/html": [
       "<div><style>\n",
       ".dataframe > thead > tr,\n",
       ".dataframe > tbody > tr {\n",
       "  text-align: right;\n",
       "  white-space: pre-wrap;\n",
       "}\n",
       "</style>\n",
       "<small>shape: (5, 14)</small><table border=\"1\" class=\"dataframe\"><thead><tr><th>idx</th><th>Title</th><th>Movie Info</th><th>Year</th><th>Distributor</th><th>Budget (in $)</th><th>Domestic Opening (in $)</th><th>Domestic Sales (in $)</th><th>International Sales (in $)</th><th>World Wide Sales (in $)</th><th>Release Date</th><th>Genre</th><th>Running Time</th><th>License</th></tr><tr><td>i64</td><td>str</td><td>str</td><td>i64</td><td>str</td><td>i64</td><td>i64</td><td>i64</td><td>i64</td><td>i64</td><td>str</td><td>str</td><td>str</td><td>str</td></tr></thead><tbody><tr><td>0</td><td>&quot;Avatar&quot;</td><td>&quot;A paraplegic Marine dispatched…</td><td>2009</td><td>&quot;Twentieth Century Fox&quot;</td><td>237000000</td><td>77025481</td><td>785221649</td><td>2138484377</td><td>2923706026</td><td>&quot;16-Dec-09&quot;</td><td>&quot;[&#x27;Action&#x27;, &#x27;Adventure&#x27;, &#x27;Fanta…</td><td>&quot;2 hr 42 min&quot;</td><td>&quot;PG-13&quot;</td></tr><tr><td>1</td><td>&quot;Avengers: Endgame&quot;</td><td>&quot;After the devastating events o…</td><td>2019</td><td>&quot;Walt Disney Studios Motion Pic…</td><td>356000000</td><td>357115007</td><td>858373000</td><td>1941066100</td><td>2799439100</td><td>&quot;24-Apr-19&quot;</td><td>&quot;[&#x27;Action&#x27;, &#x27;Adventure&#x27;, &#x27;Drama…</td><td>&quot;3 hr 1 min&quot;</td><td>&quot;PG-13&quot;</td></tr><tr><td>2</td><td>&quot;Avatar: The Way of Water&quot;</td><td>&quot;Jake Sully lives with his newf…</td><td>2022</td><td>&quot;20th Century Studios&quot;</td><td>null</td><td>134100226</td><td>684075767</td><td>1636174514</td><td>2320250281</td><td>&quot;24-Apr-19&quot;</td><td>&quot;[&#x27;Action&#x27;, &#x27;Adventure&#x27;, &#x27;Drama…</td><td>&quot;3 hr 1 min&quot;</td><td>&quot;PG-13&quot;</td></tr><tr><td>3</td><td>&quot;Titanic&quot;</td><td>&quot;A seventeen-year-old aristocra…</td><td>1997</td><td>&quot;Paramount Pictures&quot;</td><td>200000000</td><td>28638131</td><td>674292608</td><td>1590450697</td><td>2264743305</td><td>&quot;19-Dec-97&quot;</td><td>&quot;[&#x27;Drama&#x27;, &#x27;Romance&#x27;]&quot;</td><td>&quot;3 hr 14 min&quot;</td><td>&quot;PG-13&quot;</td></tr><tr><td>4</td><td>&quot;Star Wars: Episode VII - The F…</td><td>&quot;As a new threat to the galaxy …</td><td>2015</td><td>&quot;Walt Disney Studios Motion Pic…</td><td>245000000</td><td>247966675</td><td>936662225</td><td>1134647993</td><td>2071310218</td><td>&quot;16-Dec-15&quot;</td><td>&quot;[&#x27;Action&#x27;, &#x27;Adventure&#x27;, &#x27;Sci-F…</td><td>&quot;2 hr 18 min&quot;</td><td>&quot;PG-13&quot;</td></tr></tbody></table></div>"
      ],
      "text/plain": [
       "shape: (5, 14)\n",
       "┌─────┬──────────────┬──────────────┬──────┬───┬─────────────┬─────────────┬─────────────┬─────────┐\n",
       "│ idx ┆ Title        ┆ Movie Info   ┆ Year ┆ … ┆ Release     ┆ Genre       ┆ Running     ┆ License │\n",
       "│ --- ┆ ---          ┆ ---          ┆ ---  ┆   ┆ Date        ┆ ---         ┆ Time        ┆ ---     │\n",
       "│ i64 ┆ str          ┆ str          ┆ i64  ┆   ┆ ---         ┆ str         ┆ ---         ┆ str     │\n",
       "│     ┆              ┆              ┆      ┆   ┆ str         ┆             ┆ str         ┆         │\n",
       "╞═════╪══════════════╪══════════════╪══════╪═══╪═════════════╪═════════════╪═════════════╪═════════╡\n",
       "│ 0   ┆ Avatar       ┆ A paraplegic ┆ 2009 ┆ … ┆ 16-Dec-09   ┆ ['Action',  ┆ 2 hr 42 min ┆ PG-13   │\n",
       "│     ┆              ┆ Marine       ┆      ┆   ┆             ┆ 'Adventure' ┆             ┆         │\n",
       "│     ┆              ┆ dispatched…  ┆      ┆   ┆             ┆ , 'Fanta…   ┆             ┆         │\n",
       "│ 1   ┆ Avengers:    ┆ After the    ┆ 2019 ┆ … ┆ 24-Apr-19   ┆ ['Action',  ┆ 3 hr 1 min  ┆ PG-13   │\n",
       "│     ┆ Endgame      ┆ devastating  ┆      ┆   ┆             ┆ 'Adventure' ┆             ┆         │\n",
       "│     ┆              ┆ events o…    ┆      ┆   ┆             ┆ , 'Drama…   ┆             ┆         │\n",
       "│ 2   ┆ Avatar: The  ┆ Jake Sully   ┆ 2022 ┆ … ┆ 24-Apr-19   ┆ ['Action',  ┆ 3 hr 1 min  ┆ PG-13   │\n",
       "│     ┆ Way of Water ┆ lives with   ┆      ┆   ┆             ┆ 'Adventure' ┆             ┆         │\n",
       "│     ┆              ┆ his newf…    ┆      ┆   ┆             ┆ , 'Drama…   ┆             ┆         │\n",
       "│ 3   ┆ Titanic      ┆ A seventeen- ┆ 1997 ┆ … ┆ 19-Dec-97   ┆ ['Drama',   ┆ 3 hr 14 min ┆ PG-13   │\n",
       "│     ┆              ┆ year-old     ┆      ┆   ┆             ┆ 'Romance']  ┆             ┆         │\n",
       "│     ┆              ┆ aristocra…   ┆      ┆   ┆             ┆             ┆             ┆         │\n",
       "│ 4   ┆ Star Wars:   ┆ As a new     ┆ 2015 ┆ … ┆ 16-Dec-15   ┆ ['Action',  ┆ 2 hr 18 min ┆ PG-13   │\n",
       "│     ┆ Episode VII  ┆ threat to    ┆      ┆   ┆             ┆ 'Adventure' ┆             ┆         │\n",
       "│     ┆ - The F…     ┆ the galaxy … ┆      ┆   ┆             ┆ , 'Sci-F…   ┆             ┆         │\n",
       "└─────┴──────────────┴──────────────┴──────┴───┴─────────────┴─────────────┴─────────────┴─────────┘"
      ]
     },
     "execution_count": 103,
     "metadata": {},
     "output_type": "execute_result"
    }
   ],
   "source": [
    "df.head()"
   ]
  },
  {
   "cell_type": "markdown",
   "metadata": {},
   "source": [
    "#### Converting the date columns into proper DateTime Format"
   ]
  },
  {
   "cell_type": "code",
   "execution_count": 104,
   "metadata": {},
   "outputs": [],
   "source": [
    "df = df.with_columns(\n",
    "    pl.col(\"Release Date\").str.to_date(format = \"%d-%b-%y\")\n",
    "    .alias(\"Release Date\")\n",
    ")"
   ]
  },
  {
   "cell_type": "code",
   "execution_count": 105,
   "metadata": {},
   "outputs": [
    {
     "data": {
      "text/html": [
       "<div><style>\n",
       ".dataframe > thead > tr,\n",
       ".dataframe > tbody > tr {\n",
       "  text-align: right;\n",
       "  white-space: pre-wrap;\n",
       "}\n",
       "</style>\n",
       "<small>shape: (980, 1)</small><table border=\"1\" class=\"dataframe\"><thead><tr><th>Running Time</th></tr><tr><td>str</td></tr></thead><tbody><tr><td>&quot;2 hr 42 min&quot;</td></tr><tr><td>&quot;3 hr 1 min&quot;</td></tr><tr><td>&quot;3 hr 1 min&quot;</td></tr><tr><td>&quot;3 hr 14 min&quot;</td></tr><tr><td>&quot;2 hr 18 min&quot;</td></tr><tr><td>&hellip;</td></tr><tr><td>&quot;1 hr 48 min&quot;</td></tr><tr><td>&quot;1 hr 40 min&quot;</td></tr><tr><td>&quot;2 hr 19 min&quot;</td></tr><tr><td>&quot;2 hr 6 min&quot;</td></tr><tr><td>&quot;2 hr 6 min&quot;</td></tr></tbody></table></div>"
      ],
      "text/plain": [
       "shape: (980, 1)\n",
       "┌──────────────┐\n",
       "│ Running Time │\n",
       "│ ---          │\n",
       "│ str          │\n",
       "╞══════════════╡\n",
       "│ 2 hr 42 min  │\n",
       "│ 3 hr 1 min   │\n",
       "│ 3 hr 1 min   │\n",
       "│ 3 hr 14 min  │\n",
       "│ 2 hr 18 min  │\n",
       "│ …            │\n",
       "│ 1 hr 48 min  │\n",
       "│ 1 hr 40 min  │\n",
       "│ 2 hr 19 min  │\n",
       "│ 2 hr 6 min   │\n",
       "│ 2 hr 6 min   │\n",
       "└──────────────┘"
      ]
     },
     "execution_count": 105,
     "metadata": {},
     "output_type": "execute_result"
    }
   ],
   "source": [
    "df.select(\n",
    "    pl.col(\"Running Time\")\n",
    ")"
   ]
  },
  {
   "cell_type": "code",
   "execution_count": 106,
   "metadata": {},
   "outputs": [],
   "source": [
    "df = df.with_columns(\n",
    "    (pl.col(\"Running Time\").str.extract(r\"(\\d+)\").cast(pl.Int64)) * 60 + \n",
    "    (pl.col(\"Running Time\").str.extract(r\"hr (\\d+)\").cast(pl.Int64))\n",
    ")"
   ]
  },
  {
   "cell_type": "code",
   "execution_count": 107,
   "metadata": {},
   "outputs": [
    {
     "data": {
      "text/html": [
       "<div><style>\n",
       ".dataframe > thead > tr,\n",
       ".dataframe > tbody > tr {\n",
       "  text-align: right;\n",
       "  white-space: pre-wrap;\n",
       "}\n",
       "</style>\n",
       "<small>shape: (5, 14)</small><table border=\"1\" class=\"dataframe\"><thead><tr><th>idx</th><th>Title</th><th>Movie Info</th><th>Year</th><th>Distributor</th><th>Budget (in $)</th><th>Domestic Opening (in $)</th><th>Domestic Sales (in $)</th><th>International Sales (in $)</th><th>World Wide Sales (in $)</th><th>Release Date</th><th>Genre</th><th>Running Time</th><th>License</th></tr><tr><td>i64</td><td>str</td><td>str</td><td>i64</td><td>str</td><td>i64</td><td>i64</td><td>i64</td><td>i64</td><td>i64</td><td>date</td><td>str</td><td>i64</td><td>str</td></tr></thead><tbody><tr><td>0</td><td>&quot;Avatar&quot;</td><td>&quot;A paraplegic Marine dispatched…</td><td>2009</td><td>&quot;Twentieth Century Fox&quot;</td><td>237000000</td><td>77025481</td><td>785221649</td><td>2138484377</td><td>2923706026</td><td>2009-12-16</td><td>&quot;[&#x27;Action&#x27;, &#x27;Adventure&#x27;, &#x27;Fanta…</td><td>162</td><td>&quot;PG-13&quot;</td></tr><tr><td>1</td><td>&quot;Avengers: Endgame&quot;</td><td>&quot;After the devastating events o…</td><td>2019</td><td>&quot;Walt Disney Studios Motion Pic…</td><td>356000000</td><td>357115007</td><td>858373000</td><td>1941066100</td><td>2799439100</td><td>2019-04-24</td><td>&quot;[&#x27;Action&#x27;, &#x27;Adventure&#x27;, &#x27;Drama…</td><td>181</td><td>&quot;PG-13&quot;</td></tr><tr><td>2</td><td>&quot;Avatar: The Way of Water&quot;</td><td>&quot;Jake Sully lives with his newf…</td><td>2022</td><td>&quot;20th Century Studios&quot;</td><td>null</td><td>134100226</td><td>684075767</td><td>1636174514</td><td>2320250281</td><td>2019-04-24</td><td>&quot;[&#x27;Action&#x27;, &#x27;Adventure&#x27;, &#x27;Drama…</td><td>181</td><td>&quot;PG-13&quot;</td></tr><tr><td>3</td><td>&quot;Titanic&quot;</td><td>&quot;A seventeen-year-old aristocra…</td><td>1997</td><td>&quot;Paramount Pictures&quot;</td><td>200000000</td><td>28638131</td><td>674292608</td><td>1590450697</td><td>2264743305</td><td>1997-12-19</td><td>&quot;[&#x27;Drama&#x27;, &#x27;Romance&#x27;]&quot;</td><td>194</td><td>&quot;PG-13&quot;</td></tr><tr><td>4</td><td>&quot;Star Wars: Episode VII - The F…</td><td>&quot;As a new threat to the galaxy …</td><td>2015</td><td>&quot;Walt Disney Studios Motion Pic…</td><td>245000000</td><td>247966675</td><td>936662225</td><td>1134647993</td><td>2071310218</td><td>2015-12-16</td><td>&quot;[&#x27;Action&#x27;, &#x27;Adventure&#x27;, &#x27;Sci-F…</td><td>138</td><td>&quot;PG-13&quot;</td></tr></tbody></table></div>"
      ],
      "text/plain": [
       "shape: (5, 14)\n",
       "┌─────┬───────────────┬───────────────┬──────┬───┬──────────────┬──────────────┬─────────┬─────────┐\n",
       "│ idx ┆ Title         ┆ Movie Info    ┆ Year ┆ … ┆ Release Date ┆ Genre        ┆ Running ┆ License │\n",
       "│ --- ┆ ---           ┆ ---           ┆ ---  ┆   ┆ ---          ┆ ---          ┆ Time    ┆ ---     │\n",
       "│ i64 ┆ str           ┆ str           ┆ i64  ┆   ┆ date         ┆ str          ┆ ---     ┆ str     │\n",
       "│     ┆               ┆               ┆      ┆   ┆              ┆              ┆ i64     ┆         │\n",
       "╞═════╪═══════════════╪═══════════════╪══════╪═══╪══════════════╪══════════════╪═════════╪═════════╡\n",
       "│ 0   ┆ Avatar        ┆ A paraplegic  ┆ 2009 ┆ … ┆ 2009-12-16   ┆ ['Action',   ┆ 162     ┆ PG-13   │\n",
       "│     ┆               ┆ Marine        ┆      ┆   ┆              ┆ 'Adventure', ┆         ┆         │\n",
       "│     ┆               ┆ dispatched…   ┆      ┆   ┆              ┆ 'Fanta…      ┆         ┆         │\n",
       "│ 1   ┆ Avengers:     ┆ After the     ┆ 2019 ┆ … ┆ 2019-04-24   ┆ ['Action',   ┆ 181     ┆ PG-13   │\n",
       "│     ┆ Endgame       ┆ devastating   ┆      ┆   ┆              ┆ 'Adventure', ┆         ┆         │\n",
       "│     ┆               ┆ events o…     ┆      ┆   ┆              ┆ 'Drama…      ┆         ┆         │\n",
       "│ 2   ┆ Avatar: The   ┆ Jake Sully    ┆ 2022 ┆ … ┆ 2019-04-24   ┆ ['Action',   ┆ 181     ┆ PG-13   │\n",
       "│     ┆ Way of Water  ┆ lives with    ┆      ┆   ┆              ┆ 'Adventure', ┆         ┆         │\n",
       "│     ┆               ┆ his newf…     ┆      ┆   ┆              ┆ 'Drama…      ┆         ┆         │\n",
       "│ 3   ┆ Titanic       ┆ A seventeen-y ┆ 1997 ┆ … ┆ 1997-12-19   ┆ ['Drama',    ┆ 194     ┆ PG-13   │\n",
       "│     ┆               ┆ ear-old       ┆      ┆   ┆              ┆ 'Romance']   ┆         ┆         │\n",
       "│     ┆               ┆ aristocra…    ┆      ┆   ┆              ┆              ┆         ┆         │\n",
       "│ 4   ┆ Star Wars:    ┆ As a new      ┆ 2015 ┆ … ┆ 2015-12-16   ┆ ['Action',   ┆ 138     ┆ PG-13   │\n",
       "│     ┆ Episode VII - ┆ threat to the ┆      ┆   ┆              ┆ 'Adventure', ┆         ┆         │\n",
       "│     ┆ The F…        ┆ galaxy …      ┆      ┆   ┆              ┆ 'Sci-F…      ┆         ┆         │\n",
       "└─────┴───────────────┴───────────────┴──────┴───┴──────────────┴──────────────┴─────────┴─────────┘"
      ]
     },
     "execution_count": 107,
     "metadata": {},
     "output_type": "execute_result"
    }
   ],
   "source": [
    "df.head()"
   ]
  },
  {
   "cell_type": "code",
   "execution_count": 108,
   "metadata": {},
   "outputs": [
    {
     "data": {
      "text/html": [
       "<div><style>\n",
       ".dataframe > thead > tr,\n",
       ".dataframe > tbody > tr {\n",
       "  text-align: right;\n",
       "  white-space: pre-wrap;\n",
       "}\n",
       "</style>\n",
       "<small>shape: (1, 14)</small><table border=\"1\" class=\"dataframe\"><thead><tr><th>idx</th><th>Title</th><th>Movie Info</th><th>Year</th><th>Distributor</th><th>Budget (in $)</th><th>Domestic Opening (in $)</th><th>Domestic Sales (in $)</th><th>International Sales (in $)</th><th>World Wide Sales (in $)</th><th>Release Date</th><th>Genre</th><th>Running Time</th><th>License</th></tr><tr><td>u32</td><td>u32</td><td>u32</td><td>u32</td><td>u32</td><td>u32</td><td>u32</td><td>u32</td><td>u32</td><td>u32</td><td>u32</td><td>u32</td><td>u32</td><td>u32</td></tr></thead><tbody><tr><td>0</td><td>0</td><td>0</td><td>0</td><td>0</td><td>210</td><td>8</td><td>0</td><td>0</td><td>0</td><td>0</td><td>0</td><td>16</td><td>0</td></tr></tbody></table></div>"
      ],
      "text/plain": [
       "shape: (1, 14)\n",
       "┌─────┬───────┬────────────┬──────┬───┬──────────────┬───────┬──────────────┬─────────┐\n",
       "│ idx ┆ Title ┆ Movie Info ┆ Year ┆ … ┆ Release Date ┆ Genre ┆ Running Time ┆ License │\n",
       "│ --- ┆ ---   ┆ ---        ┆ ---  ┆   ┆ ---          ┆ ---   ┆ ---          ┆ ---     │\n",
       "│ u32 ┆ u32   ┆ u32        ┆ u32  ┆   ┆ u32          ┆ u32   ┆ u32          ┆ u32     │\n",
       "╞═════╪═══════╪════════════╪══════╪═══╪══════════════╪═══════╪══════════════╪═════════╡\n",
       "│ 0   ┆ 0     ┆ 0          ┆ 0    ┆ … ┆ 0            ┆ 0     ┆ 16           ┆ 0       │\n",
       "└─────┴───────┴────────────┴──────┴───┴──────────────┴───────┴──────────────┴─────────┘"
      ]
     },
     "execution_count": 108,
     "metadata": {},
     "output_type": "execute_result"
    }
   ],
   "source": [
    "df.null_count()"
   ]
  },
  {
   "cell_type": "code",
   "execution_count": 111,
   "metadata": {},
   "outputs": [
    {
     "data": {
      "text/html": [
       "<div><style>\n",
       ".dataframe > thead > tr,\n",
       ".dataframe > tbody > tr {\n",
       "  text-align: right;\n",
       "  white-space: pre-wrap;\n",
       "}\n",
       "</style>\n",
       "<small>shape: (0, 14)</small><table border=\"1\" class=\"dataframe\"><thead><tr><th>idx</th><th>Title</th><th>Movie Info</th><th>Year</th><th>Distributor</th><th>Budget (in $)</th><th>Domestic Opening (in $)</th><th>Domestic Sales (in $)</th><th>International Sales (in $)</th><th>World Wide Sales (in $)</th><th>Release Date</th><th>Genre</th><th>Running Time</th><th>License</th></tr><tr><td>i64</td><td>str</td><td>str</td><td>i64</td><td>str</td><td>i64</td><td>i64</td><td>i64</td><td>i64</td><td>i64</td><td>date</td><td>str</td><td>i64</td><td>str</td></tr></thead><tbody></tbody></table></div>"
      ],
      "text/plain": [
       "shape: (0, 14)\n",
       "┌─────┬───────┬────────────┬──────┬───┬──────────────┬───────┬──────────────┬─────────┐\n",
       "│ idx ┆ Title ┆ Movie Info ┆ Year ┆ … ┆ Release Date ┆ Genre ┆ Running Time ┆ License │\n",
       "│ --- ┆ ---   ┆ ---        ┆ ---  ┆   ┆ ---          ┆ ---   ┆ ---          ┆ ---     │\n",
       "│ i64 ┆ str   ┆ str        ┆ i64  ┆   ┆ date         ┆ str   ┆ i64          ┆ str     │\n",
       "╞═════╪═══════╪════════════╪══════╪═══╪══════════════╪═══════╪══════════════╪═════════╡\n",
       "└─────┴───────┴────────────┴──────┴───┴──────────────┴───────┴──────────────┴─────────┘"
      ]
     },
     "execution_count": 111,
     "metadata": {},
     "output_type": "execute_result"
    }
   ],
   "source": [
    "df.filter(\n",
    "    pl.col(\"Distributor\") == \"July 17, 2015 (China)\"\n",
    ")"
   ]
  },
  {
   "cell_type": "code",
   "execution_count": 113,
   "metadata": {},
   "outputs": [],
   "source": [
    "df.write_csv(\"./dataset/clean_movies.csv\")"
   ]
  },
  {
   "cell_type": "code",
   "execution_count": null,
   "metadata": {},
   "outputs": [],
   "source": []
  }
 ],
 "metadata": {
  "kernelspec": {
   "display_name": "Python 3",
   "language": "python",
   "name": "python3"
  },
  "language_info": {
   "codemirror_mode": {
    "name": "ipython",
    "version": 3
   },
   "file_extension": ".py",
   "mimetype": "text/x-python",
   "name": "python",
   "nbconvert_exporter": "python",
   "pygments_lexer": "ipython3",
   "version": "3.11.1"
  }
 },
 "nbformat": 4,
 "nbformat_minor": 2
}
