{
 "cells": [
  {
   "cell_type": "code",
   "execution_count": 1,
   "metadata": {},
   "outputs": [
    {
     "data": {
      "text/plain": [
       "polars.config.Config"
      ]
     },
     "execution_count": 1,
     "metadata": {},
     "output_type": "execute_result"
    }
   ],
   "source": [
    "import polars as pl\n",
    "import matplotlib.pyplot as plt\n",
    "import numpy as np\n",
    "pl.Config.set_tbl_cols(100)"
   ]
  },
  {
   "cell_type": "code",
   "execution_count": 23,
   "metadata": {},
   "outputs": [
    {
     "data": {
      "text/html": [
       "<div><style>\n",
       ".dataframe > thead > tr,\n",
       ".dataframe > tbody > tr {\n",
       "  text-align: right;\n",
       "  white-space: pre-wrap;\n",
       "}\n",
       "</style>\n",
       "<small>shape: (5, 14)</small><table border=\"1\" class=\"dataframe\"><thead><tr><th>idx</th><th>Title</th><th>Movie Info</th><th>Year</th><th>Distributor</th><th>Budget (in $)</th><th>Domestic Opening (in $)</th><th>Domestic Sales (in $)</th><th>International Sales (in $)</th><th>World Wide Sales (in $)</th><th>Release Date</th><th>Genre</th><th>Running Time</th><th>License</th></tr><tr><td>i64</td><td>str</td><td>str</td><td>i64</td><td>str</td><td>i64</td><td>i64</td><td>i64</td><td>i64</td><td>i64</td><td>date</td><td>str</td><td>i64</td><td>str</td></tr></thead><tbody><tr><td>0</td><td>&quot;Avatar&quot;</td><td>&quot;A paraplegic Marine dispatched…</td><td>2009</td><td>&quot;Twentieth Century Fox&quot;</td><td>237000000</td><td>77025481</td><td>785221649</td><td>2138484377</td><td>2923706026</td><td>2009-12-16</td><td>&quot;[&#x27;Action&#x27;, &#x27;Adventure&#x27;, &#x27;Fanta…</td><td>162</td><td>&quot;PG-13&quot;</td></tr><tr><td>1</td><td>&quot;Avengers: Endgame&quot;</td><td>&quot;After the devastating events o…</td><td>2019</td><td>&quot;Walt Disney Studios Motion Pic…</td><td>356000000</td><td>357115007</td><td>858373000</td><td>1941066100</td><td>2799439100</td><td>2019-04-24</td><td>&quot;[&#x27;Action&#x27;, &#x27;Adventure&#x27;, &#x27;Drama…</td><td>181</td><td>&quot;PG-13&quot;</td></tr><tr><td>2</td><td>&quot;Avatar: The Way of Water&quot;</td><td>&quot;Jake Sully lives with his newf…</td><td>2022</td><td>&quot;20th Century Studios&quot;</td><td>null</td><td>134100226</td><td>684075767</td><td>1636174514</td><td>2320250281</td><td>2019-04-24</td><td>&quot;[&#x27;Action&#x27;, &#x27;Adventure&#x27;, &#x27;Drama…</td><td>181</td><td>&quot;PG-13&quot;</td></tr><tr><td>3</td><td>&quot;Titanic&quot;</td><td>&quot;A seventeen-year-old aristocra…</td><td>1997</td><td>&quot;Paramount Pictures&quot;</td><td>200000000</td><td>28638131</td><td>674292608</td><td>1590450697</td><td>2264743305</td><td>1997-12-19</td><td>&quot;[&#x27;Drama&#x27;, &#x27;Romance&#x27;]&quot;</td><td>194</td><td>&quot;PG-13&quot;</td></tr><tr><td>4</td><td>&quot;Star Wars: Episode VII - The F…</td><td>&quot;As a new threat to the galaxy …</td><td>2015</td><td>&quot;Walt Disney Studios Motion Pic…</td><td>245000000</td><td>247966675</td><td>936662225</td><td>1134647993</td><td>2071310218</td><td>2015-12-16</td><td>&quot;[&#x27;Action&#x27;, &#x27;Adventure&#x27;, &#x27;Sci-F…</td><td>138</td><td>&quot;PG-13&quot;</td></tr></tbody></table></div>"
      ],
      "text/plain": [
       "shape: (5, 14)\n",
       "┌─────┬─────┬─────┬─────┬─────┬─────┬─────┬────────┬───────┬───────┬───────┬───────┬───────┬───────┐\n",
       "│ idx ┆ Tit ┆ Mov ┆ Yea ┆ Dis ┆ Bud ┆ Dom ┆ Domest ┆ Inter ┆ World ┆ Relea ┆ Genre ┆ Runni ┆ Licen │\n",
       "│ --- ┆ le  ┆ ie  ┆ r   ┆ tri ┆ get ┆ est ┆ ic     ┆ natio ┆ Wide  ┆ se    ┆ ---   ┆ ng    ┆ se    │\n",
       "│ i64 ┆ --- ┆ Inf ┆ --- ┆ but ┆ (in ┆ ic  ┆ Sales  ┆ nal   ┆ Sales ┆ Date  ┆ str   ┆ Time  ┆ ---   │\n",
       "│     ┆ str ┆ o   ┆ i64 ┆ or  ┆ $)  ┆ Ope ┆ (in $) ┆ Sales ┆ (in   ┆ ---   ┆       ┆ ---   ┆ str   │\n",
       "│     ┆     ┆ --- ┆     ┆ --- ┆ --- ┆ nin ┆ ---    ┆ (in   ┆ $)    ┆ date  ┆       ┆ i64   ┆       │\n",
       "│     ┆     ┆ str ┆     ┆ str ┆ i64 ┆ g   ┆ i64    ┆ $)    ┆ ---   ┆       ┆       ┆       ┆       │\n",
       "│     ┆     ┆     ┆     ┆     ┆     ┆ (in ┆        ┆ ---   ┆ i64   ┆       ┆       ┆       ┆       │\n",
       "│     ┆     ┆     ┆     ┆     ┆     ┆ $)  ┆        ┆ i64   ┆       ┆       ┆       ┆       ┆       │\n",
       "│     ┆     ┆     ┆     ┆     ┆     ┆ --- ┆        ┆       ┆       ┆       ┆       ┆       ┆       │\n",
       "│     ┆     ┆     ┆     ┆     ┆     ┆ i64 ┆        ┆       ┆       ┆       ┆       ┆       ┆       │\n",
       "╞═════╪═════╪═════╪═════╪═════╪═════╪═════╪════════╪═══════╪═══════╪═══════╪═══════╪═══════╪═══════╡\n",
       "│ 0   ┆ Ava ┆ A   ┆ 200 ┆ Twe ┆ 237 ┆ 770 ┆ 785221 ┆ 21384 ┆ 29237 ┆ 2009- ┆ ['Act ┆ 162   ┆ PG-13 │\n",
       "│     ┆ tar ┆ par ┆ 9   ┆ nti ┆ 000 ┆ 254 ┆ 649    ┆ 84377 ┆ 06026 ┆ 12-16 ┆ ion', ┆       ┆       │\n",
       "│     ┆     ┆ apl ┆     ┆ eth ┆ 000 ┆ 81  ┆        ┆       ┆       ┆       ┆ 'Adve ┆       ┆       │\n",
       "│     ┆     ┆ egi ┆     ┆ Cen ┆     ┆     ┆        ┆       ┆       ┆       ┆ nture ┆       ┆       │\n",
       "│     ┆     ┆ c   ┆     ┆ tur ┆     ┆     ┆        ┆       ┆       ┆       ┆ ',    ┆       ┆       │\n",
       "│     ┆     ┆ Mar ┆     ┆ y   ┆     ┆     ┆        ┆       ┆       ┆       ┆ 'Fant ┆       ┆       │\n",
       "│     ┆     ┆ ine ┆     ┆ Fox ┆     ┆     ┆        ┆       ┆       ┆       ┆ a…    ┆       ┆       │\n",
       "│     ┆     ┆ dis ┆     ┆     ┆     ┆     ┆        ┆       ┆       ┆       ┆       ┆       ┆       │\n",
       "│     ┆     ┆ pat ┆     ┆     ┆     ┆     ┆        ┆       ┆       ┆       ┆       ┆       ┆       │\n",
       "│     ┆     ┆ che ┆     ┆     ┆     ┆     ┆        ┆       ┆       ┆       ┆       ┆       ┆       │\n",
       "│     ┆     ┆ d…  ┆     ┆     ┆     ┆     ┆        ┆       ┆       ┆       ┆       ┆       ┆       │\n",
       "│ 1   ┆ Ave ┆ Aft ┆ 201 ┆ Wal ┆ 356 ┆ 357 ┆ 858373 ┆ 19410 ┆ 27994 ┆ 2019- ┆ ['Act ┆ 181   ┆ PG-13 │\n",
       "│     ┆ nge ┆ er  ┆ 9   ┆ t   ┆ 000 ┆ 115 ┆ 000    ┆ 66100 ┆ 39100 ┆ 04-24 ┆ ion', ┆       ┆       │\n",
       "│     ┆ rs: ┆ the ┆     ┆ Dis ┆ 000 ┆ 007 ┆        ┆       ┆       ┆       ┆ 'Adve ┆       ┆       │\n",
       "│     ┆ End ┆ dev ┆     ┆ ney ┆     ┆     ┆        ┆       ┆       ┆       ┆ nture ┆       ┆       │\n",
       "│     ┆ gam ┆ ast ┆     ┆ Stu ┆     ┆     ┆        ┆       ┆       ┆       ┆ ',    ┆       ┆       │\n",
       "│     ┆ e   ┆ ati ┆     ┆ dio ┆     ┆     ┆        ┆       ┆       ┆       ┆ 'Dram ┆       ┆       │\n",
       "│     ┆     ┆ ng  ┆     ┆ s   ┆     ┆     ┆        ┆       ┆       ┆       ┆ a…    ┆       ┆       │\n",
       "│     ┆     ┆ eve ┆     ┆ Mot ┆     ┆     ┆        ┆       ┆       ┆       ┆       ┆       ┆       │\n",
       "│     ┆     ┆ nts ┆     ┆ ion ┆     ┆     ┆        ┆       ┆       ┆       ┆       ┆       ┆       │\n",
       "│     ┆     ┆ o…  ┆     ┆ Pic ┆     ┆     ┆        ┆       ┆       ┆       ┆       ┆       ┆       │\n",
       "│     ┆     ┆     ┆     ┆ …   ┆     ┆     ┆        ┆       ┆       ┆       ┆       ┆       ┆       │\n",
       "│ 2   ┆ Ava ┆ Jak ┆ 202 ┆ 20t ┆ nul ┆ 134 ┆ 684075 ┆ 16361 ┆ 23202 ┆ 2019- ┆ ['Act ┆ 181   ┆ PG-13 │\n",
       "│     ┆ tar ┆ e   ┆ 2   ┆ h   ┆ l   ┆ 100 ┆ 767    ┆ 74514 ┆ 50281 ┆ 04-24 ┆ ion', ┆       ┆       │\n",
       "│     ┆ :   ┆ Sul ┆     ┆ Cen ┆     ┆ 226 ┆        ┆       ┆       ┆       ┆ 'Adve ┆       ┆       │\n",
       "│     ┆ The ┆ ly  ┆     ┆ tur ┆     ┆     ┆        ┆       ┆       ┆       ┆ nture ┆       ┆       │\n",
       "│     ┆ Way ┆ liv ┆     ┆ y   ┆     ┆     ┆        ┆       ┆       ┆       ┆ ',    ┆       ┆       │\n",
       "│     ┆ of  ┆ es  ┆     ┆ Stu ┆     ┆     ┆        ┆       ┆       ┆       ┆ 'Dram ┆       ┆       │\n",
       "│     ┆ Wat ┆ wit ┆     ┆ dio ┆     ┆     ┆        ┆       ┆       ┆       ┆ a…    ┆       ┆       │\n",
       "│     ┆ er  ┆ h   ┆     ┆ s   ┆     ┆     ┆        ┆       ┆       ┆       ┆       ┆       ┆       │\n",
       "│     ┆     ┆ his ┆     ┆     ┆     ┆     ┆        ┆       ┆       ┆       ┆       ┆       ┆       │\n",
       "│     ┆     ┆ new ┆     ┆     ┆     ┆     ┆        ┆       ┆       ┆       ┆       ┆       ┆       │\n",
       "│     ┆     ┆ f…  ┆     ┆     ┆     ┆     ┆        ┆       ┆       ┆       ┆       ┆       ┆       │\n",
       "│ 3   ┆ Tit ┆ A   ┆ 199 ┆ Par ┆ 200 ┆ 286 ┆ 674292 ┆ 15904 ┆ 22647 ┆ 1997- ┆ ['Dra ┆ 194   ┆ PG-13 │\n",
       "│     ┆ ani ┆ sev ┆ 7   ┆ amo ┆ 000 ┆ 381 ┆ 608    ┆ 50697 ┆ 43305 ┆ 12-19 ┆ ma',  ┆       ┆       │\n",
       "│     ┆ c   ┆ ent ┆     ┆ unt ┆ 000 ┆ 31  ┆        ┆       ┆       ┆       ┆ 'Roma ┆       ┆       │\n",
       "│     ┆     ┆ een ┆     ┆ Pic ┆     ┆     ┆        ┆       ┆       ┆       ┆ nce'] ┆       ┆       │\n",
       "│     ┆     ┆ -ye ┆     ┆ tur ┆     ┆     ┆        ┆       ┆       ┆       ┆       ┆       ┆       │\n",
       "│     ┆     ┆ ar- ┆     ┆ es  ┆     ┆     ┆        ┆       ┆       ┆       ┆       ┆       ┆       │\n",
       "│     ┆     ┆ old ┆     ┆     ┆     ┆     ┆        ┆       ┆       ┆       ┆       ┆       ┆       │\n",
       "│     ┆     ┆ ari ┆     ┆     ┆     ┆     ┆        ┆       ┆       ┆       ┆       ┆       ┆       │\n",
       "│     ┆     ┆ sto ┆     ┆     ┆     ┆     ┆        ┆       ┆       ┆       ┆       ┆       ┆       │\n",
       "│     ┆     ┆ cra ┆     ┆     ┆     ┆     ┆        ┆       ┆       ┆       ┆       ┆       ┆       │\n",
       "│     ┆     ┆ …   ┆     ┆     ┆     ┆     ┆        ┆       ┆       ┆       ┆       ┆       ┆       │\n",
       "│ 4   ┆ Sta ┆ As  ┆ 201 ┆ Wal ┆ 245 ┆ 247 ┆ 936662 ┆ 11346 ┆ 20713 ┆ 2015- ┆ ['Act ┆ 138   ┆ PG-13 │\n",
       "│     ┆ r   ┆ a   ┆ 5   ┆ t   ┆ 000 ┆ 966 ┆ 225    ┆ 47993 ┆ 10218 ┆ 12-16 ┆ ion', ┆       ┆       │\n",
       "│     ┆ War ┆ new ┆     ┆ Dis ┆ 000 ┆ 675 ┆        ┆       ┆       ┆       ┆ 'Adve ┆       ┆       │\n",
       "│     ┆ s:  ┆ thr ┆     ┆ ney ┆     ┆     ┆        ┆       ┆       ┆       ┆ nture ┆       ┆       │\n",
       "│     ┆ Epi ┆ eat ┆     ┆ Stu ┆     ┆     ┆        ┆       ┆       ┆       ┆ ',    ┆       ┆       │\n",
       "│     ┆ sod ┆ to  ┆     ┆ dio ┆     ┆     ┆        ┆       ┆       ┆       ┆ 'Sci- ┆       ┆       │\n",
       "│     ┆ e   ┆ the ┆     ┆ s   ┆     ┆     ┆        ┆       ┆       ┆       ┆ F…    ┆       ┆       │\n",
       "│     ┆ VII ┆ gal ┆     ┆ Mot ┆     ┆     ┆        ┆       ┆       ┆       ┆       ┆       ┆       │\n",
       "│     ┆ -   ┆ axy ┆     ┆ ion ┆     ┆     ┆        ┆       ┆       ┆       ┆       ┆       ┆       │\n",
       "│     ┆ The ┆ …   ┆     ┆ Pic ┆     ┆     ┆        ┆       ┆       ┆       ┆       ┆       ┆       │\n",
       "│     ┆ F…  ┆     ┆     ┆ …   ┆     ┆     ┆        ┆       ┆       ┆       ┆       ┆       ┆       │\n",
       "└─────┴─────┴─────┴─────┴─────┴─────┴─────┴────────┴───────┴───────┴───────┴───────┴───────┴───────┘"
      ]
     },
     "execution_count": 23,
     "metadata": {},
     "output_type": "execute_result"
    }
   ],
   "source": [
    "df = pl.read_csv(\"./dataset/clean_movies.csv\")\n",
    "df = df.with_columns(\n",
    "    pl.col(\"Release Date\").str.to_date()\n",
    ")\n",
    "df.head()"
   ]
  },
  {
   "cell_type": "code",
   "execution_count": 87,
   "metadata": {},
   "outputs": [
    {
     "data": {
      "image/png": "[encoded data removed]",
      "text/plain": [
       "<Figure size 640x480 with 1 Axes>"
      ]
     },
     "metadata": {},
     "output_type": "display_data"
    }
   ],
   "source": [
    "df2 = df.with_columns(\n",
    "    ((pl.col(\"Year\")) // 10 * 10).alias(\"Decade\")\n",
    ")\n",
    "group_year = df2.group_by(\"Decade\", maintain_order=True).agg(pl.col(\"Title\").count()).sort(by=\"Decade\", descending=False)\n",
    "\n",
    "plt.bar(group_year[\"Decade\"], group_year[\"Title\"], width=5)\n",
    "plt.xticks(np.arange(1970, group_year[\"Decade\"].max() + 10, 10), rotation = 45) \n",
    "plt.xlim(1965, 2030)\n",
    "plt.xlabel(\"Decade\")\n",
    "plt.ylabel(\"No. of Movies\")\n",
    "plt.title(\"Movies count in each decade\")\n",
    "plt.grid()\n",
    "plt.yticks(np.arange(0, 500, 25))\n",
    "plt.show()"
   ]
  },
  {
   "cell_type": "code",
   "execution_count": 29,
   "metadata": {},
   "outputs": [
    {
     "data": {
      "text/html": [
       "<div><style>\n",
       ".dataframe > thead > tr,\n",
       ".dataframe > tbody > tr {\n",
       "  text-align: right;\n",
       "  white-space: pre-wrap;\n",
       "}\n",
       "</style>\n",
       "<small>shape: (1, 14)</small><table border=\"1\" class=\"dataframe\"><thead><tr><th>idx</th><th>Title</th><th>Movie Info</th><th>Year</th><th>Distributor</th><th>Budget (in $)</th><th>Domestic Opening (in $)</th><th>Domestic Sales (in $)</th><th>International Sales (in $)</th><th>World Wide Sales (in $)</th><th>Release Date</th><th>Genre</th><th>Running Time</th><th>License</th></tr><tr><td>i64</td><td>str</td><td>str</td><td>i64</td><td>str</td><td>i64</td><td>i64</td><td>i64</td><td>i64</td><td>i64</td><td>date</td><td>str</td><td>i64</td><td>str</td></tr></thead><tbody><tr><td>1</td><td>&quot;Avengers: Endgame&quot;</td><td>&quot;After the devastating events o…</td><td>2019</td><td>&quot;Walt Disney Studios Motion Pic…</td><td>356000000</td><td>357115007</td><td>858373000</td><td>1941066100</td><td>2799439100</td><td>2019-04-24</td><td>&quot;[&#x27;Action&#x27;, &#x27;Adventure&#x27;, &#x27;Drama…</td><td>181</td><td>&quot;PG-13&quot;</td></tr></tbody></table></div>"
      ],
      "text/plain": [
       "shape: (1, 14)\n",
       "┌─────┬─────┬─────┬─────┬─────┬─────┬─────┬────────┬───────┬───────┬───────┬───────┬───────┬───────┐\n",
       "│ idx ┆ Tit ┆ Mov ┆ Yea ┆ Dis ┆ Bud ┆ Dom ┆ Domest ┆ Inter ┆ World ┆ Relea ┆ Genre ┆ Runni ┆ Licen │\n",
       "│ --- ┆ le  ┆ ie  ┆ r   ┆ tri ┆ get ┆ est ┆ ic     ┆ natio ┆ Wide  ┆ se    ┆ ---   ┆ ng    ┆ se    │\n",
       "│ i64 ┆ --- ┆ Inf ┆ --- ┆ but ┆ (in ┆ ic  ┆ Sales  ┆ nal   ┆ Sales ┆ Date  ┆ str   ┆ Time  ┆ ---   │\n",
       "│     ┆ str ┆ o   ┆ i64 ┆ or  ┆ $)  ┆ Ope ┆ (in $) ┆ Sales ┆ (in   ┆ ---   ┆       ┆ ---   ┆ str   │\n",
       "│     ┆     ┆ --- ┆     ┆ --- ┆ --- ┆ nin ┆ ---    ┆ (in   ┆ $)    ┆ date  ┆       ┆ i64   ┆       │\n",
       "│     ┆     ┆ str ┆     ┆ str ┆ i64 ┆ g   ┆ i64    ┆ $)    ┆ ---   ┆       ┆       ┆       ┆       │\n",
       "│     ┆     ┆     ┆     ┆     ┆     ┆ (in ┆        ┆ ---   ┆ i64   ┆       ┆       ┆       ┆       │\n",
       "│     ┆     ┆     ┆     ┆     ┆     ┆ $)  ┆        ┆ i64   ┆       ┆       ┆       ┆       ┆       │\n",
       "│     ┆     ┆     ┆     ┆     ┆     ┆ --- ┆        ┆       ┆       ┆       ┆       ┆       ┆       │\n",
       "│     ┆     ┆     ┆     ┆     ┆     ┆ i64 ┆        ┆       ┆       ┆       ┆       ┆       ┆       │\n",
       "╞═════╪═════╪═════╪═════╪═════╪═════╪═════╪════════╪═══════╪═══════╪═══════╪═══════╪═══════╪═══════╡\n",
       "│ 1   ┆ Ave ┆ Aft ┆ 201 ┆ Wal ┆ 356 ┆ 357 ┆ 858373 ┆ 19410 ┆ 27994 ┆ 2019- ┆ ['Act ┆ 181   ┆ PG-13 │\n",
       "│     ┆ nge ┆ er  ┆ 9   ┆ t   ┆ 000 ┆ 115 ┆ 000    ┆ 66100 ┆ 39100 ┆ 04-24 ┆ ion', ┆       ┆       │\n",
       "│     ┆ rs: ┆ the ┆     ┆ Dis ┆ 000 ┆ 007 ┆        ┆       ┆       ┆       ┆ 'Adve ┆       ┆       │\n",
       "│     ┆ End ┆ dev ┆     ┆ ney ┆     ┆     ┆        ┆       ┆       ┆       ┆ nture ┆       ┆       │\n",
       "│     ┆ gam ┆ ast ┆     ┆ Stu ┆     ┆     ┆        ┆       ┆       ┆       ┆ ',    ┆       ┆       │\n",
       "│     ┆ e   ┆ ati ┆     ┆ dio ┆     ┆     ┆        ┆       ┆       ┆       ┆ 'Dram ┆       ┆       │\n",
       "│     ┆     ┆ ng  ┆     ┆ s   ┆     ┆     ┆        ┆       ┆       ┆       ┆ a…    ┆       ┆       │\n",
       "│     ┆     ┆ eve ┆     ┆ Mot ┆     ┆     ┆        ┆       ┆       ┆       ┆       ┆       ┆       │\n",
       "│     ┆     ┆ nts ┆     ┆ ion ┆     ┆     ┆        ┆       ┆       ┆       ┆       ┆       ┆       │\n",
       "│     ┆     ┆ o…  ┆     ┆ Pic ┆     ┆     ┆        ┆       ┆       ┆       ┆       ┆       ┆       │\n",
       "│     ┆     ┆     ┆     ┆ …   ┆     ┆     ┆        ┆       ┆       ┆       ┆       ┆       ┆       │\n",
       "└─────┴─────┴─────┴─────┴─────┴─────┴─────┴────────┴───────┴───────┴───────┴───────┴───────┴───────┘"
      ]
     },
     "execution_count": 29,
     "metadata": {},
     "output_type": "execute_result"
    }
   ],
   "source": [
    "#Highest Budget \n",
    "\n",
    "df.filter(\n",
    "    pl.col(\"Budget (in $)\") == pl.col(\"Budget (in $)\").max()\n",
    ")"
   ]
  },
  {
   "cell_type": "code",
   "execution_count": 30,
   "metadata": {},
   "outputs": [
    {
     "data": {
      "text/html": [
       "<div><style>\n",
       ".dataframe > thead > tr,\n",
       ".dataframe > tbody > tr {\n",
       "  text-align: right;\n",
       "  white-space: pre-wrap;\n",
       "}\n",
       "</style>\n",
       "<small>shape: (1, 14)</small><table border=\"1\" class=\"dataframe\"><thead><tr><th>idx</th><th>Title</th><th>Movie Info</th><th>Year</th><th>Distributor</th><th>Budget (in $)</th><th>Domestic Opening (in $)</th><th>Domestic Sales (in $)</th><th>International Sales (in $)</th><th>World Wide Sales (in $)</th><th>Release Date</th><th>Genre</th><th>Running Time</th><th>License</th></tr><tr><td>i64</td><td>str</td><td>str</td><td>i64</td><td>str</td><td>i64</td><td>i64</td><td>i64</td><td>i64</td><td>i64</td><td>date</td><td>str</td><td>i64</td><td>str</td></tr></thead><tbody><tr><td>0</td><td>&quot;Avatar&quot;</td><td>&quot;A paraplegic Marine dispatched…</td><td>2009</td><td>&quot;Twentieth Century Fox&quot;</td><td>237000000</td><td>77025481</td><td>785221649</td><td>2138484377</td><td>2923706026</td><td>2009-12-16</td><td>&quot;[&#x27;Action&#x27;, &#x27;Adventure&#x27;, &#x27;Fanta…</td><td>162</td><td>&quot;PG-13&quot;</td></tr></tbody></table></div>"
      ],
      "text/plain": [
       "shape: (1, 14)\n",
       "┌─────┬─────┬─────┬─────┬─────┬─────┬─────┬────────┬───────┬───────┬───────┬───────┬───────┬───────┐\n",
       "│ idx ┆ Tit ┆ Mov ┆ Yea ┆ Dis ┆ Bud ┆ Dom ┆ Domest ┆ Inter ┆ World ┆ Relea ┆ Genre ┆ Runni ┆ Licen │\n",
       "│ --- ┆ le  ┆ ie  ┆ r   ┆ tri ┆ get ┆ est ┆ ic     ┆ natio ┆ Wide  ┆ se    ┆ ---   ┆ ng    ┆ se    │\n",
       "│ i64 ┆ --- ┆ Inf ┆ --- ┆ but ┆ (in ┆ ic  ┆ Sales  ┆ nal   ┆ Sales ┆ Date  ┆ str   ┆ Time  ┆ ---   │\n",
       "│     ┆ str ┆ o   ┆ i64 ┆ or  ┆ $)  ┆ Ope ┆ (in $) ┆ Sales ┆ (in   ┆ ---   ┆       ┆ ---   ┆ str   │\n",
       "│     ┆     ┆ --- ┆     ┆ --- ┆ --- ┆ nin ┆ ---    ┆ (in   ┆ $)    ┆ date  ┆       ┆ i64   ┆       │\n",
       "│     ┆     ┆ str ┆     ┆ str ┆ i64 ┆ g   ┆ i64    ┆ $)    ┆ ---   ┆       ┆       ┆       ┆       │\n",
       "│     ┆     ┆     ┆     ┆     ┆     ┆ (in ┆        ┆ ---   ┆ i64   ┆       ┆       ┆       ┆       │\n",
       "│     ┆     ┆     ┆     ┆     ┆     ┆ $)  ┆        ┆ i64   ┆       ┆       ┆       ┆       ┆       │\n",
       "│     ┆     ┆     ┆     ┆     ┆     ┆ --- ┆        ┆       ┆       ┆       ┆       ┆       ┆       │\n",
       "│     ┆     ┆     ┆     ┆     ┆     ┆ i64 ┆        ┆       ┆       ┆       ┆       ┆       ┆       │\n",
       "╞═════╪═════╪═════╪═════╪═════╪═════╪═════╪════════╪═══════╪═══════╪═══════╪═══════╪═══════╪═══════╡\n",
       "│ 0   ┆ Ava ┆ A   ┆ 200 ┆ Twe ┆ 237 ┆ 770 ┆ 785221 ┆ 21384 ┆ 29237 ┆ 2009- ┆ ['Act ┆ 162   ┆ PG-13 │\n",
       "│     ┆ tar ┆ par ┆ 9   ┆ nti ┆ 000 ┆ 254 ┆ 649    ┆ 84377 ┆ 06026 ┆ 12-16 ┆ ion', ┆       ┆       │\n",
       "│     ┆     ┆ apl ┆     ┆ eth ┆ 000 ┆ 81  ┆        ┆       ┆       ┆       ┆ 'Adve ┆       ┆       │\n",
       "│     ┆     ┆ egi ┆     ┆ Cen ┆     ┆     ┆        ┆       ┆       ┆       ┆ nture ┆       ┆       │\n",
       "│     ┆     ┆ c   ┆     ┆ tur ┆     ┆     ┆        ┆       ┆       ┆       ┆ ',    ┆       ┆       │\n",
       "│     ┆     ┆ Mar ┆     ┆ y   ┆     ┆     ┆        ┆       ┆       ┆       ┆ 'Fant ┆       ┆       │\n",
       "│     ┆     ┆ ine ┆     ┆ Fox ┆     ┆     ┆        ┆       ┆       ┆       ┆ a…    ┆       ┆       │\n",
       "│     ┆     ┆ dis ┆     ┆     ┆     ┆     ┆        ┆       ┆       ┆       ┆       ┆       ┆       │\n",
       "│     ┆     ┆ pat ┆     ┆     ┆     ┆     ┆        ┆       ┆       ┆       ┆       ┆       ┆       │\n",
       "│     ┆     ┆ che ┆     ┆     ┆     ┆     ┆        ┆       ┆       ┆       ┆       ┆       ┆       │\n",
       "│     ┆     ┆ d…  ┆     ┆     ┆     ┆     ┆        ┆       ┆       ┆       ┆       ┆       ┆       │\n",
       "└─────┴─────┴─────┴─────┴─────┴─────┴─────┴────────┴───────┴───────┴───────┴───────┴───────┴───────┘"
      ]
     },
     "execution_count": 30,
     "metadata": {},
     "output_type": "execute_result"
    }
   ],
   "source": [
    "#Highest Earning\n",
    "\n",
    "df.filter(\n",
    "    pl.col(\"World Wide Sales (in $)\") == pl.col(\"World Wide Sales (in $)\").max()\n",
    ")"
   ]
  },
  {
   "cell_type": "code",
   "execution_count": 16,
   "metadata": {},
   "outputs": [
    {
     "data": {
      "text/html": [
       "<div><style>\n",
       ".dataframe > thead > tr,\n",
       ".dataframe > tbody > tr {\n",
       "  text-align: right;\n",
       "  white-space: pre-wrap;\n",
       "}\n",
       "</style>\n",
       "<small>shape: (5, 14)</small><table border=\"1\" class=\"dataframe\"><thead><tr><th>idx</th><th>Title</th><th>Movie Info</th><th>Year</th><th>Distributor</th><th>Budget (in $)</th><th>Domestic Opening (in $)</th><th>Domestic Sales (in $)</th><th>International Sales (in $)</th><th>World Wide Sales (in $)</th><th>Release Date</th><th>Genre</th><th>Running Time</th><th>License</th></tr><tr><td>i64</td><td>str</td><td>str</td><td>i64</td><td>str</td><td>i64</td><td>i64</td><td>i64</td><td>i64</td><td>i64</td><td>date</td><td>str</td><td>i64</td><td>str</td></tr></thead><tbody><tr><td>0</td><td>&quot;Avatar&quot;</td><td>&quot;A paraplegic Marine dispatched…</td><td>2009</td><td>&quot;Twentieth Century Fox&quot;</td><td>237000000</td><td>77025481</td><td>785221649</td><td>2138484377</td><td>2923706026</td><td>2009-12-16</td><td>&quot;[&#x27;Action&#x27;, &#x27;Adventure&#x27;, &#x27;Fanta…</td><td>162</td><td>&quot;PG-13&quot;</td></tr><tr><td>1</td><td>&quot;Avengers: Endgame&quot;</td><td>&quot;After the devastating events o…</td><td>2019</td><td>&quot;Walt Disney Studios Motion Pic…</td><td>356000000</td><td>357115007</td><td>858373000</td><td>1941066100</td><td>2799439100</td><td>2019-04-24</td><td>&quot;[&#x27;Action&#x27;, &#x27;Adventure&#x27;, &#x27;Drama…</td><td>181</td><td>&quot;PG-13&quot;</td></tr><tr><td>2</td><td>&quot;Avatar: The Way of Water&quot;</td><td>&quot;Jake Sully lives with his newf…</td><td>2022</td><td>&quot;20th Century Studios&quot;</td><td>null</td><td>134100226</td><td>684075767</td><td>1636174514</td><td>2320250281</td><td>2019-04-24</td><td>&quot;[&#x27;Action&#x27;, &#x27;Adventure&#x27;, &#x27;Drama…</td><td>181</td><td>&quot;PG-13&quot;</td></tr><tr><td>3</td><td>&quot;Titanic&quot;</td><td>&quot;A seventeen-year-old aristocra…</td><td>1997</td><td>&quot;Paramount Pictures&quot;</td><td>200000000</td><td>28638131</td><td>674292608</td><td>1590450697</td><td>2264743305</td><td>1997-12-19</td><td>&quot;[&#x27;Drama&#x27;, &#x27;Romance&#x27;]&quot;</td><td>194</td><td>&quot;PG-13&quot;</td></tr><tr><td>4</td><td>&quot;Star Wars: Episode VII - The F…</td><td>&quot;As a new threat to the galaxy …</td><td>2015</td><td>&quot;Walt Disney Studios Motion Pic…</td><td>245000000</td><td>247966675</td><td>936662225</td><td>1134647993</td><td>2071310218</td><td>2015-12-16</td><td>&quot;[&#x27;Action&#x27;, &#x27;Adventure&#x27;, &#x27;Sci-F…</td><td>138</td><td>&quot;PG-13&quot;</td></tr></tbody></table></div>"
      ],
      "text/plain": [
       "shape: (5, 14)\n",
       "┌─────┬─────┬─────┬─────┬─────┬─────┬─────┬────────┬───────┬───────┬───────┬───────┬───────┬───────┐\n",
       "│ idx ┆ Tit ┆ Mov ┆ Yea ┆ Dis ┆ Bud ┆ Dom ┆ Domest ┆ Inter ┆ World ┆ Relea ┆ Genre ┆ Runni ┆ Licen │\n",
       "│ --- ┆ le  ┆ ie  ┆ r   ┆ tri ┆ get ┆ est ┆ ic     ┆ natio ┆ Wide  ┆ se    ┆ ---   ┆ ng    ┆ se    │\n",
       "│ i64 ┆ --- ┆ Inf ┆ --- ┆ but ┆ (in ┆ ic  ┆ Sales  ┆ nal   ┆ Sales ┆ Date  ┆ str   ┆ Time  ┆ ---   │\n",
       "│     ┆ str ┆ o   ┆ i64 ┆ or  ┆ $)  ┆ Ope ┆ (in $) ┆ Sales ┆ (in   ┆ ---   ┆       ┆ ---   ┆ str   │\n",
       "│     ┆     ┆ --- ┆     ┆ --- ┆ --- ┆ nin ┆ ---    ┆ (in   ┆ $)    ┆ date  ┆       ┆ i64   ┆       │\n",
       "│     ┆     ┆ str ┆     ┆ str ┆ i64 ┆ g   ┆ i64    ┆ $)    ┆ ---   ┆       ┆       ┆       ┆       │\n",
       "│     ┆     ┆     ┆     ┆     ┆     ┆ (in ┆        ┆ ---   ┆ i64   ┆       ┆       ┆       ┆       │\n",
       "│     ┆     ┆     ┆     ┆     ┆     ┆ $)  ┆        ┆ i64   ┆       ┆       ┆       ┆       ┆       │\n",
       "│     ┆     ┆     ┆     ┆     ┆     ┆ --- ┆        ┆       ┆       ┆       ┆       ┆       ┆       │\n",
       "│     ┆     ┆     ┆     ┆     ┆     ┆ i64 ┆        ┆       ┆       ┆       ┆       ┆       ┆       │\n",
       "╞═════╪═════╪═════╪═════╪═════╪═════╪═════╪════════╪═══════╪═══════╪═══════╪═══════╪═══════╪═══════╡\n",
       "│ 0   ┆ Ava ┆ A   ┆ 200 ┆ Twe ┆ 237 ┆ 770 ┆ 785221 ┆ 21384 ┆ 29237 ┆ 2009- ┆ ['Act ┆ 162   ┆ PG-13 │\n",
       "│     ┆ tar ┆ par ┆ 9   ┆ nti ┆ 000 ┆ 254 ┆ 649    ┆ 84377 ┆ 06026 ┆ 12-16 ┆ ion', ┆       ┆       │\n",
       "│     ┆     ┆ apl ┆     ┆ eth ┆ 000 ┆ 81  ┆        ┆       ┆       ┆       ┆ 'Adve ┆       ┆       │\n",
       "│     ┆     ┆ egi ┆     ┆ Cen ┆     ┆     ┆        ┆       ┆       ┆       ┆ nture ┆       ┆       │\n",
       "│     ┆     ┆ c   ┆     ┆ tur ┆     ┆     ┆        ┆       ┆       ┆       ┆ ',    ┆       ┆       │\n",
       "│     ┆     ┆ Mar ┆     ┆ y   ┆     ┆     ┆        ┆       ┆       ┆       ┆ 'Fant ┆       ┆       │\n",
       "│     ┆     ┆ ine ┆     ┆ Fox ┆     ┆     ┆        ┆       ┆       ┆       ┆ a…    ┆       ┆       │\n",
       "│     ┆     ┆ dis ┆     ┆     ┆     ┆     ┆        ┆       ┆       ┆       ┆       ┆       ┆       │\n",
       "│     ┆     ┆ pat ┆     ┆     ┆     ┆     ┆        ┆       ┆       ┆       ┆       ┆       ┆       │\n",
       "│     ┆     ┆ che ┆     ┆     ┆     ┆     ┆        ┆       ┆       ┆       ┆       ┆       ┆       │\n",
       "│     ┆     ┆ d…  ┆     ┆     ┆     ┆     ┆        ┆       ┆       ┆       ┆       ┆       ┆       │\n",
       "│ 1   ┆ Ave ┆ Aft ┆ 201 ┆ Wal ┆ 356 ┆ 357 ┆ 858373 ┆ 19410 ┆ 27994 ┆ 2019- ┆ ['Act ┆ 181   ┆ PG-13 │\n",
       "│     ┆ nge ┆ er  ┆ 9   ┆ t   ┆ 000 ┆ 115 ┆ 000    ┆ 66100 ┆ 39100 ┆ 04-24 ┆ ion', ┆       ┆       │\n",
       "│     ┆ rs: ┆ the ┆     ┆ Dis ┆ 000 ┆ 007 ┆        ┆       ┆       ┆       ┆ 'Adve ┆       ┆       │\n",
       "│     ┆ End ┆ dev ┆     ┆ ney ┆     ┆     ┆        ┆       ┆       ┆       ┆ nture ┆       ┆       │\n",
       "│     ┆ gam ┆ ast ┆     ┆ Stu ┆     ┆     ┆        ┆       ┆       ┆       ┆ ',    ┆       ┆       │\n",
       "│     ┆ e   ┆ ati ┆     ┆ dio ┆     ┆     ┆        ┆       ┆       ┆       ┆ 'Dram ┆       ┆       │\n",
       "│     ┆     ┆ ng  ┆     ┆ s   ┆     ┆     ┆        ┆       ┆       ┆       ┆ a…    ┆       ┆       │\n",
       "│     ┆     ┆ eve ┆     ┆ Mot ┆     ┆     ┆        ┆       ┆       ┆       ┆       ┆       ┆       │\n",
       "│     ┆     ┆ nts ┆     ┆ ion ┆     ┆     ┆        ┆       ┆       ┆       ┆       ┆       ┆       │\n",
       "│     ┆     ┆ o…  ┆     ┆ Pic ┆     ┆     ┆        ┆       ┆       ┆       ┆       ┆       ┆       │\n",
       "│     ┆     ┆     ┆     ┆ …   ┆     ┆     ┆        ┆       ┆       ┆       ┆       ┆       ┆       │\n",
       "│ 2   ┆ Ava ┆ Jak ┆ 202 ┆ 20t ┆ nul ┆ 134 ┆ 684075 ┆ 16361 ┆ 23202 ┆ 2019- ┆ ['Act ┆ 181   ┆ PG-13 │\n",
       "│     ┆ tar ┆ e   ┆ 2   ┆ h   ┆ l   ┆ 100 ┆ 767    ┆ 74514 ┆ 50281 ┆ 04-24 ┆ ion', ┆       ┆       │\n",
       "│     ┆ :   ┆ Sul ┆     ┆ Cen ┆     ┆ 226 ┆        ┆       ┆       ┆       ┆ 'Adve ┆       ┆       │\n",
       "│     ┆ The ┆ ly  ┆     ┆ tur ┆     ┆     ┆        ┆       ┆       ┆       ┆ nture ┆       ┆       │\n",
       "│     ┆ Way ┆ liv ┆     ┆ y   ┆     ┆     ┆        ┆       ┆       ┆       ┆ ',    ┆       ┆       │\n",
       "│     ┆ of  ┆ es  ┆     ┆ Stu ┆     ┆     ┆        ┆       ┆       ┆       ┆ 'Dram ┆       ┆       │\n",
       "│     ┆ Wat ┆ wit ┆     ┆ dio ┆     ┆     ┆        ┆       ┆       ┆       ┆ a…    ┆       ┆       │\n",
       "│     ┆ er  ┆ h   ┆     ┆ s   ┆     ┆     ┆        ┆       ┆       ┆       ┆       ┆       ┆       │\n",
       "│     ┆     ┆ his ┆     ┆     ┆     ┆     ┆        ┆       ┆       ┆       ┆       ┆       ┆       │\n",
       "│     ┆     ┆ new ┆     ┆     ┆     ┆     ┆        ┆       ┆       ┆       ┆       ┆       ┆       │\n",
       "│     ┆     ┆ f…  ┆     ┆     ┆     ┆     ┆        ┆       ┆       ┆       ┆       ┆       ┆       │\n",
       "│ 3   ┆ Tit ┆ A   ┆ 199 ┆ Par ┆ 200 ┆ 286 ┆ 674292 ┆ 15904 ┆ 22647 ┆ 1997- ┆ ['Dra ┆ 194   ┆ PG-13 │\n",
       "│     ┆ ani ┆ sev ┆ 7   ┆ amo ┆ 000 ┆ 381 ┆ 608    ┆ 50697 ┆ 43305 ┆ 12-19 ┆ ma',  ┆       ┆       │\n",
       "│     ┆ c   ┆ ent ┆     ┆ unt ┆ 000 ┆ 31  ┆        ┆       ┆       ┆       ┆ 'Roma ┆       ┆       │\n",
       "│     ┆     ┆ een ┆     ┆ Pic ┆     ┆     ┆        ┆       ┆       ┆       ┆ nce'] ┆       ┆       │\n",
       "│     ┆     ┆ -ye ┆     ┆ tur ┆     ┆     ┆        ┆       ┆       ┆       ┆       ┆       ┆       │\n",
       "│     ┆     ┆ ar- ┆     ┆ es  ┆     ┆     ┆        ┆       ┆       ┆       ┆       ┆       ┆       │\n",
       "│     ┆     ┆ old ┆     ┆     ┆     ┆     ┆        ┆       ┆       ┆       ┆       ┆       ┆       │\n",
       "│     ┆     ┆ ari ┆     ┆     ┆     ┆     ┆        ┆       ┆       ┆       ┆       ┆       ┆       │\n",
       "│     ┆     ┆ sto ┆     ┆     ┆     ┆     ┆        ┆       ┆       ┆       ┆       ┆       ┆       │\n",
       "│     ┆     ┆ cra ┆     ┆     ┆     ┆     ┆        ┆       ┆       ┆       ┆       ┆       ┆       │\n",
       "│     ┆     ┆ …   ┆     ┆     ┆     ┆     ┆        ┆       ┆       ┆       ┆       ┆       ┆       │\n",
       "│ 4   ┆ Sta ┆ As  ┆ 201 ┆ Wal ┆ 245 ┆ 247 ┆ 936662 ┆ 11346 ┆ 20713 ┆ 2015- ┆ ['Act ┆ 138   ┆ PG-13 │\n",
       "│     ┆ r   ┆ a   ┆ 5   ┆ t   ┆ 000 ┆ 966 ┆ 225    ┆ 47993 ┆ 10218 ┆ 12-16 ┆ ion', ┆       ┆       │\n",
       "│     ┆ War ┆ new ┆     ┆ Dis ┆ 000 ┆ 675 ┆        ┆       ┆       ┆       ┆ 'Adve ┆       ┆       │\n",
       "│     ┆ s:  ┆ thr ┆     ┆ ney ┆     ┆     ┆        ┆       ┆       ┆       ┆ nture ┆       ┆       │\n",
       "│     ┆ Epi ┆ eat ┆     ┆ Stu ┆     ┆     ┆        ┆       ┆       ┆       ┆ ',    ┆       ┆       │\n",
       "│     ┆ sod ┆ to  ┆     ┆ dio ┆     ┆     ┆        ┆       ┆       ┆       ┆ 'Sci- ┆       ┆       │\n",
       "│     ┆ e   ┆ the ┆     ┆ s   ┆     ┆     ┆        ┆       ┆       ┆       ┆ F…    ┆       ┆       │\n",
       "│     ┆ VII ┆ gal ┆     ┆ Mot ┆     ┆     ┆        ┆       ┆       ┆       ┆       ┆       ┆       │\n",
       "│     ┆ -   ┆ axy ┆     ┆ ion ┆     ┆     ┆        ┆       ┆       ┆       ┆       ┆       ┆       │\n",
       "│     ┆ The ┆ …   ┆     ┆ Pic ┆     ┆     ┆        ┆       ┆       ┆       ┆       ┆       ┆       │\n",
       "│     ┆ F…  ┆     ┆     ┆ …   ┆     ┆     ┆        ┆       ┆       ┆       ┆       ┆       ┆       │\n",
       "└─────┴─────┴─────┴─────┴─────┴─────┴─────┴────────┴───────┴───────┴───────┴───────┴───────┴───────┘"
      ]
     },
     "execution_count": 16,
     "metadata": {},
     "output_type": "execute_result"
    }
   ],
   "source": [
    "df.head()"
   ]
  },
  {
   "cell_type": "markdown",
   "metadata": {},
   "source": [
    "#### Count for different Licenses"
   ]
  },
  {
   "cell_type": "code",
   "execution_count": 92,
   "metadata": {},
   "outputs": [
    {
     "data": {
      "image/png": "[encoded data removed]",
      "text/plain": [
       "<Figure size 640x480 with 1 Axes>"
      ]
     },
     "metadata": {},
     "output_type": "display_data"
    }
   ],
   "source": [
    "group_ratings = df.group_by(\"License\", maintain_order=True).agg(pl.col(\"Title\").count())\n",
    "\n",
    "plt.bar(group_ratings[\"License\"], group_ratings[\"Title\"], width=0.5)\n",
    "plt.xlabel(\"Rating\")\n",
    "plt.ylabel(\"Count\")\n",
    "plt.yticks(np.arange(0, 500, 30))\n",
    "plt.grid()\n",
    "plt.show()"
   ]
  },
  {
   "cell_type": "markdown",
   "metadata": {},
   "source": [
    "#### Highest World Wide Sales (in $)"
   ]
  },
  {
   "cell_type": "code",
   "execution_count": 70,
   "metadata": {},
   "outputs": [
    {
     "data": {
      "text/html": [
       "<div><style>\n",
       ".dataframe > thead > tr,\n",
       ".dataframe > tbody > tr {\n",
       "  text-align: right;\n",
       "  white-space: pre-wrap;\n",
       "}\n",
       "</style>\n",
       "<small>shape: (5, 2)</small><table border=\"1\" class=\"dataframe\"><thead><tr><th>Title</th><th>World Wide Sales (in $)</th></tr><tr><td>str</td><td>i64</td></tr></thead><tbody><tr><td>&quot;Avatar&quot;</td><td>2923706026</td></tr><tr><td>&quot;Avengers: Endgame&quot;</td><td>2799439100</td></tr><tr><td>&quot;Avatar: The Way of Water&quot;</td><td>2320250281</td></tr><tr><td>&quot;Titanic&quot;</td><td>2264743305</td></tr><tr><td>&quot;Star Wars: Episode VII - The F…</td><td>2071310218</td></tr></tbody></table></div>"
      ],
      "text/plain": [
       "shape: (5, 2)\n",
       "┌─────────────────────────────────┬─────────────────────────┐\n",
       "│ Title                           ┆ World Wide Sales (in $) │\n",
       "│ ---                             ┆ ---                     │\n",
       "│ str                             ┆ i64                     │\n",
       "╞═════════════════════════════════╪═════════════════════════╡\n",
       "│ Avatar                          ┆ 2923706026              │\n",
       "│ Avengers: Endgame               ┆ 2799439100              │\n",
       "│ Avatar: The Way of Water        ┆ 2320250281              │\n",
       "│ Titanic                         ┆ 2264743305              │\n",
       "│ Star Wars: Episode VII - The F… ┆ 2071310218              │\n",
       "└─────────────────────────────────┴─────────────────────────┘"
      ]
     },
     "execution_count": 70,
     "metadata": {},
     "output_type": "execute_result"
    }
   ],
   "source": [
    "df.sort(\n",
    "    by=\"World Wide Sales (in $)\", descending=True\n",
    ")[0:5].select(\n",
    "    pl.col(\"Title\", \"World Wide Sales (in $)\")\n",
    ")"
   ]
  },
  {
   "cell_type": "markdown",
   "metadata": {},
   "source": [
    "#### Highest International Sales (in $)"
   ]
  },
  {
   "cell_type": "code",
   "execution_count": 71,
   "metadata": {},
   "outputs": [
    {
     "data": {
      "text/html": [
       "<div><style>\n",
       ".dataframe > thead > tr,\n",
       ".dataframe > tbody > tr {\n",
       "  text-align: right;\n",
       "  white-space: pre-wrap;\n",
       "}\n",
       "</style>\n",
       "<small>shape: (5, 2)</small><table border=\"1\" class=\"dataframe\"><thead><tr><th>Title</th><th>International Sales (in $)</th></tr><tr><td>str</td><td>i64</td></tr></thead><tbody><tr><td>&quot;Avatar&quot;</td><td>2138484377</td></tr><tr><td>&quot;Avengers: Endgame&quot;</td><td>1941066100</td></tr><tr><td>&quot;Avatar: The Way of Water&quot;</td><td>1636174514</td></tr><tr><td>&quot;Titanic&quot;</td><td>1590450697</td></tr><tr><td>&quot;Avengers: Infinity War&quot;</td><td>1373599557</td></tr></tbody></table></div>"
      ],
      "text/plain": [
       "shape: (5, 2)\n",
       "┌──────────────────────────┬────────────────────────────┐\n",
       "│ Title                    ┆ International Sales (in $) │\n",
       "│ ---                      ┆ ---                        │\n",
       "│ str                      ┆ i64                        │\n",
       "╞══════════════════════════╪════════════════════════════╡\n",
       "│ Avatar                   ┆ 2138484377                 │\n",
       "│ Avengers: Endgame        ┆ 1941066100                 │\n",
       "│ Avatar: The Way of Water ┆ 1636174514                 │\n",
       "│ Titanic                  ┆ 1590450697                 │\n",
       "│ Avengers: Infinity War   ┆ 1373599557                 │\n",
       "└──────────────────────────┴────────────────────────────┘"
      ]
     },
     "execution_count": 71,
     "metadata": {},
     "output_type": "execute_result"
    }
   ],
   "source": [
    "df.sort(\n",
    "    by=\"International Sales (in $)\", descending=True\n",
    ")[0:5].select(\n",
    "    pl.col(\"Title\", \"International Sales (in $)\")\n",
    ")"
   ]
  },
  {
   "cell_type": "markdown",
   "metadata": {},
   "source": [
    "#### Highest Domestic Sales (in $)"
   ]
  },
  {
   "cell_type": "code",
   "execution_count": 72,
   "metadata": {},
   "outputs": [
    {
     "data": {
      "text/html": [
       "<div><style>\n",
       ".dataframe > thead > tr,\n",
       ".dataframe > tbody > tr {\n",
       "  text-align: right;\n",
       "  white-space: pre-wrap;\n",
       "}\n",
       "</style>\n",
       "<small>shape: (5, 2)</small><table border=\"1\" class=\"dataframe\"><thead><tr><th>Title</th><th>Domestic Sales (in $)</th></tr><tr><td>str</td><td>i64</td></tr></thead><tbody><tr><td>&quot;Star Wars: Episode VII - The F…</td><td>936662225</td></tr><tr><td>&quot;Avengers: Endgame&quot;</td><td>858373000</td></tr><tr><td>&quot;Spider-Man: No Way Home&quot;</td><td>814115070</td></tr><tr><td>&quot;Avatar&quot;</td><td>785221649</td></tr><tr><td>&quot;Top Gun: Maverick&quot;</td><td>718732821</td></tr></tbody></table></div>"
      ],
      "text/plain": [
       "shape: (5, 2)\n",
       "┌─────────────────────────────────┬───────────────────────┐\n",
       "│ Title                           ┆ Domestic Sales (in $) │\n",
       "│ ---                             ┆ ---                   │\n",
       "│ str                             ┆ i64                   │\n",
       "╞═════════════════════════════════╪═══════════════════════╡\n",
       "│ Star Wars: Episode VII - The F… ┆ 936662225             │\n",
       "│ Avengers: Endgame               ┆ 858373000             │\n",
       "│ Spider-Man: No Way Home         ┆ 814115070             │\n",
       "│ Avatar                          ┆ 785221649             │\n",
       "│ Top Gun: Maverick               ┆ 718732821             │\n",
       "└─────────────────────────────────┴───────────────────────┘"
      ]
     },
     "execution_count": 72,
     "metadata": {},
     "output_type": "execute_result"
    }
   ],
   "source": [
    "df.sort(\n",
    "    by=\"Domestic Sales (in $)\", descending=True\n",
    ")[0:5].select(\n",
    "    pl.col(\"Title\", \"Domestic Sales (in $)\")\n",
    ")"
   ]
  },
  {
   "cell_type": "markdown",
   "metadata": {},
   "source": [
    "#### Creating a profit column"
   ]
  },
  {
   "cell_type": "code",
   "execution_count": 111,
   "metadata": {},
   "outputs": [],
   "source": [
    "df3 = df.drop_nulls(subset=[\"Budget (in $)\"]) \n",
    "df3 = df3.with_columns(\n",
    "    (pl.col(\"World Wide Sales (in $)\") - pl.col(\"Budget (in $)\")).alias(\"Profit (in $)\")\n",
    ")"
   ]
  },
  {
   "cell_type": "code",
   "execution_count": 115,
   "metadata": {},
   "outputs": [
    {
     "data": {
      "text/html": [
       "<div><style>\n",
       ".dataframe > thead > tr,\n",
       ".dataframe > tbody > tr {\n",
       "  text-align: right;\n",
       "  white-space: pre-wrap;\n",
       "}\n",
       "</style>\n",
       "<small>shape: (219, 15)</small><table border=\"1\" class=\"dataframe\"><thead><tr><th>idx</th><th>Title</th><th>Movie Info</th><th>Year</th><th>Distributor</th><th>Budget (in $)</th><th>Domestic Opening (in $)</th><th>Domestic Sales (in $)</th><th>International Sales (in $)</th><th>World Wide Sales (in $)</th><th>Release Date</th><th>Genre</th><th>Running Time</th><th>License</th><th>Profit (in $)</th></tr><tr><td>i64</td><td>str</td><td>str</td><td>i64</td><td>str</td><td>i64</td><td>i64</td><td>i64</td><td>i64</td><td>i64</td><td>date</td><td>str</td><td>i64</td><td>str</td><td>i64</td></tr></thead><tbody><tr><td>153</td><td>&quot;Man of Steel&quot;</td><td>&quot;An alien child is evacuated fr…</td><td>2013</td><td>&quot;Warner Bros.&quot;</td><td>225000000</td><td>116619362</td><td>291045518</td><td>377000000</td><td>218045517</td><td>2013-06-12</td><td>&quot;[&#x27;Action&#x27;, &#x27;Adventure&#x27;, &#x27;Sci-F…</td><td>143</td><td>&quot;PG-13&quot;</td><td>-6954483</td></tr><tr><td>160</td><td>&quot;Men in Black 3&quot;</td><td>&quot;Agent J travels in time to M.I…</td><td>2012</td><td>&quot;Sony Pictures Entertainment (S…</td><td>225000000</td><td>54592779</td><td>179020854</td><td>475192631</td><td>204213484</td><td>2012-05-23</td><td>&quot;[&#x27;Action&#x27;, &#x27;Adventure&#x27;, &#x27;Comed…</td><td>106</td><td>&quot;PG-13&quot;</td><td>-20786516</td></tr><tr><td>181</td><td>&quot;Transformers: The Last Knight&quot;</td><td>&quot;A deadly threat from Earth&#x27;s h…</td><td>2017</td><td>&quot;Paramount Pictures&quot;</td><td>217000000</td><td>44680073</td><td>130168683</td><td>475256474</td><td>171425156</td><td>2017-06-21</td><td>&quot;[&#x27;Action&#x27;, &#x27;Adventure&#x27;, &#x27;Sci-F…</td><td>154</td><td>&quot;PG-13&quot;</td><td>-45574844</td></tr><tr><td>184</td><td>&quot;Tangled&quot;</td><td>&quot;The magically long-haired Rapu…</td><td>2010</td><td>&quot;Walt Disney Studios Motion Pic…</td><td>260000000</td><td>48767052</td><td>200821936</td><td>391640880</td><td>72462815</td><td>2010-11-24</td><td>&quot;[&#x27;Adventure&#x27;, &#x27;Animation&#x27;, &#x27;Co…</td><td>100</td><td>&quot;PG&quot;</td><td>-187537185</td></tr><tr><td>185</td><td>&quot;Quantum of Solace&quot;</td><td>&quot;James Bond descends into myste…</td><td>2008</td><td>&quot;Sony Pictures Entertainment (S…</td><td>200000000</td><td>67528882</td><td>168368427</td><td>421212055</td><td>189580481</td><td>2008-10-31</td><td>&quot;[&#x27;Action&#x27;, &#x27;Adventure&#x27;, &#x27;Myste…</td><td>106</td><td>&quot;PG-13&quot;</td><td>-10419519</td></tr><tr><td>&hellip;</td><td>&hellip;</td><td>&hellip;</td><td>&hellip;</td><td>&hellip;</td><td>&hellip;</td><td>&hellip;</td><td>&hellip;</td><td>&hellip;</td><td>&hellip;</td><td>&hellip;</td><td>&hellip;</td><td>&hellip;</td><td>&hellip;</td><td>&hellip;</td></tr><tr><td>982</td><td>&quot;The Haunted Mansion&quot;</td><td>&quot;A realtor and his wife and chi…</td><td>2003</td><td>&quot;Walt Disney Studios Motion Pic…</td><td>90000000</td><td>24278410</td><td>75847266</td><td>106443000</td><td>2290265</td><td>2003-11-26</td><td>&quot;[&#x27;Comedy&#x27;, &#x27;Family&#x27;, &#x27;Fantasy&#x27;…</td><td>99</td><td>&quot;PG&quot;</td><td>-87709735</td></tr><tr><td>987</td><td>&quot;Poseidon&quot;</td><td>&quot;On New Year&#x27;s Eve, the luxury …</td><td>2006</td><td>&quot;Warner Bros.&quot;</td><td>160000000</td><td>22155410</td><td>60674817</td><td>121000000</td><td>-138325184</td><td>2006-05-10</td><td>&quot;[&#x27;Action&#x27;, &#x27;Adventure&#x27;, &#x27;Thril…</td><td>98</td><td>&quot;PG-13&quot;</td><td>-298325184</td></tr><tr><td>992</td><td>&quot;Road to Perdition&quot;</td><td>&quot;A mob enforcer&#x27;s son in 1930s …</td><td>2002</td><td>&quot;DreamWorks Distribution&quot;</td><td>80000000</td><td>22079481</td><td>104454762</td><td>76546716</td><td>21001477</td><td>2002-07-12</td><td>&quot;[&#x27;Crime&#x27;, &#x27;Drama&#x27;, &#x27;Thriller&#x27;]&quot;</td><td>117</td><td>&quot;R&quot;</td><td>-58998523</td></tr><tr><td>996</td><td>&quot;Daddy&#x27;s Home 2&quot;</td><td>&quot;Having finally gotten used to …</td><td>2017</td><td>&quot;Paramount Pictures&quot;</td><td>69000000</td><td>29651193</td><td>104029443</td><td>76584381</td><td>42613823</td><td>2017-11-09</td><td>&quot;[&#x27;Comedy&#x27;]&quot;</td><td>100</td><td>&quot;PG-13&quot;</td><td>-26386177</td></tr><tr><td>998</td><td>&quot;Deja Vu&quot;</td><td>&quot;After a ferry is bombed in New…</td><td>2006</td><td>&quot;Walt Disney Studios Motion Pic…</td><td>75000000</td><td>20574802</td><td>64038616</td><td>116518934</td><td>30557549</td><td>2006-11-22</td><td>&quot;[&#x27;Action&#x27;, &#x27;Crime&#x27;, &#x27;Sci-Fi&#x27;, …</td><td>126</td><td>&quot;PG-13&quot;</td><td>-44442451</td></tr></tbody></table></div>"
      ],
      "text/plain": [
       "shape: (219, 15)\n",
       "┌─────┬─────┬─────┬─────┬─────┬─────┬─────┬─────┬─────┬─────┬─────┬────────┬───────┬───────┬───────┐\n",
       "│ idx ┆ Tit ┆ Mov ┆ Yea ┆ Dis ┆ Bud ┆ Dom ┆ Dom ┆ Int ┆ Wor ┆ Rel ┆ Genre  ┆ Runni ┆ Licen ┆ Profi │\n",
       "│ --- ┆ le  ┆ ie  ┆ r   ┆ tri ┆ get ┆ est ┆ est ┆ ern ┆ ld  ┆ eas ┆ ---    ┆ ng    ┆ se    ┆ t (in │\n",
       "│ i64 ┆ --- ┆ Inf ┆ --- ┆ but ┆ (in ┆ ic  ┆ ic  ┆ ati ┆ Wid ┆ e   ┆ str    ┆ Time  ┆ ---   ┆ $)    │\n",
       "│     ┆ str ┆ o   ┆ i64 ┆ or  ┆ $)  ┆ Ope ┆ Sal ┆ ona ┆ e   ┆ Dat ┆        ┆ ---   ┆ str   ┆ ---   │\n",
       "│     ┆     ┆ --- ┆     ┆ --- ┆ --- ┆ nin ┆ es  ┆ l   ┆ Sal ┆ e   ┆        ┆ i64   ┆       ┆ i64   │\n",
       "│     ┆     ┆ str ┆     ┆ str ┆ i64 ┆ g   ┆ (in ┆ Sal ┆ es  ┆ --- ┆        ┆       ┆       ┆       │\n",
       "│     ┆     ┆     ┆     ┆     ┆     ┆ (in ┆ $)  ┆ es  ┆ (in ┆ dat ┆        ┆       ┆       ┆       │\n",
       "│     ┆     ┆     ┆     ┆     ┆     ┆ $)  ┆ --- ┆ (in ┆ $)  ┆ e   ┆        ┆       ┆       ┆       │\n",
       "│     ┆     ┆     ┆     ┆     ┆     ┆ --- ┆ i64 ┆ $)  ┆ --- ┆     ┆        ┆       ┆       ┆       │\n",
       "│     ┆     ┆     ┆     ┆     ┆     ┆ i64 ┆     ┆ --- ┆ i64 ┆     ┆        ┆       ┆       ┆       │\n",
       "│     ┆     ┆     ┆     ┆     ┆     ┆     ┆     ┆ i64 ┆     ┆     ┆        ┆       ┆       ┆       │\n",
       "╞═════╪═════╪═════╪═════╪═════╪═════╪═════╪═════╪═════╪═════╪═════╪════════╪═══════╪═══════╪═══════╡\n",
       "│ 153 ┆ Man ┆ An  ┆ 201 ┆ War ┆ 225 ┆ 116 ┆ 291 ┆ 377 ┆ 218 ┆ 201 ┆ ['Acti ┆ 143   ┆ PG-13 ┆ -6954 │\n",
       "│     ┆ of  ┆ ali ┆ 3   ┆ ner ┆ 000 ┆ 619 ┆ 045 ┆ 000 ┆ 045 ┆ 3-0 ┆ on',   ┆       ┆       ┆ 483   │\n",
       "│     ┆ Ste ┆ en  ┆     ┆ Bro ┆ 000 ┆ 362 ┆ 518 ┆ 000 ┆ 517 ┆ 6-1 ┆ 'Adven ┆       ┆       ┆       │\n",
       "│     ┆ el  ┆ chi ┆     ┆ s.  ┆     ┆     ┆     ┆     ┆     ┆ 2   ┆ ture', ┆       ┆       ┆       │\n",
       "│     ┆     ┆ ld  ┆     ┆     ┆     ┆     ┆     ┆     ┆     ┆     ┆ 'Sci-F ┆       ┆       ┆       │\n",
       "│     ┆     ┆ is  ┆     ┆     ┆     ┆     ┆     ┆     ┆     ┆     ┆ …      ┆       ┆       ┆       │\n",
       "│     ┆     ┆ eva ┆     ┆     ┆     ┆     ┆     ┆     ┆     ┆     ┆        ┆       ┆       ┆       │\n",
       "│     ┆     ┆ cua ┆     ┆     ┆     ┆     ┆     ┆     ┆     ┆     ┆        ┆       ┆       ┆       │\n",
       "│     ┆     ┆ ted ┆     ┆     ┆     ┆     ┆     ┆     ┆     ┆     ┆        ┆       ┆       ┆       │\n",
       "│     ┆     ┆ fr… ┆     ┆     ┆     ┆     ┆     ┆     ┆     ┆     ┆        ┆       ┆       ┆       │\n",
       "│ 160 ┆ Men ┆ Age ┆ 201 ┆ Son ┆ 225 ┆ 545 ┆ 179 ┆ 475 ┆ 204 ┆ 201 ┆ ['Acti ┆ 106   ┆ PG-13 ┆ -2078 │\n",
       "│     ┆ in  ┆ nt  ┆ 2   ┆ y   ┆ 000 ┆ 927 ┆ 020 ┆ 192 ┆ 213 ┆ 2-0 ┆ on',   ┆       ┆       ┆ 6516  │\n",
       "│     ┆ Bla ┆ J   ┆     ┆ Pic ┆ 000 ┆ 79  ┆ 854 ┆ 631 ┆ 484 ┆ 5-2 ┆ 'Adven ┆       ┆       ┆       │\n",
       "│     ┆ ck  ┆ tra ┆     ┆ tur ┆     ┆     ┆     ┆     ┆     ┆ 3   ┆ ture', ┆       ┆       ┆       │\n",
       "│     ┆ 3   ┆ vel ┆     ┆ es  ┆     ┆     ┆     ┆     ┆     ┆     ┆ 'Comed ┆       ┆       ┆       │\n",
       "│     ┆     ┆ s   ┆     ┆ Ent ┆     ┆     ┆     ┆     ┆     ┆     ┆ …      ┆       ┆       ┆       │\n",
       "│     ┆     ┆ in  ┆     ┆ ert ┆     ┆     ┆     ┆     ┆     ┆     ┆        ┆       ┆       ┆       │\n",
       "│     ┆     ┆ tim ┆     ┆ ain ┆     ┆     ┆     ┆     ┆     ┆     ┆        ┆       ┆       ┆       │\n",
       "│     ┆     ┆ e   ┆     ┆ men ┆     ┆     ┆     ┆     ┆     ┆     ┆        ┆       ┆       ┆       │\n",
       "│     ┆     ┆ to  ┆     ┆ t   ┆     ┆     ┆     ┆     ┆     ┆     ┆        ┆       ┆       ┆       │\n",
       "│     ┆     ┆ M.I ┆     ┆ (S… ┆     ┆     ┆     ┆     ┆     ┆     ┆        ┆       ┆       ┆       │\n",
       "│     ┆     ┆ …   ┆     ┆     ┆     ┆     ┆     ┆     ┆     ┆     ┆        ┆       ┆       ┆       │\n",
       "│ 181 ┆ Tra ┆ A   ┆ 201 ┆ Par ┆ 217 ┆ 446 ┆ 130 ┆ 475 ┆ 171 ┆ 201 ┆ ['Acti ┆ 154   ┆ PG-13 ┆ -4557 │\n",
       "│     ┆ nsf ┆ dea ┆ 7   ┆ amo ┆ 000 ┆ 800 ┆ 168 ┆ 256 ┆ 425 ┆ 7-0 ┆ on',   ┆       ┆       ┆ 4844  │\n",
       "│     ┆ orm ┆ dly ┆     ┆ unt ┆ 000 ┆ 73  ┆ 683 ┆ 474 ┆ 156 ┆ 6-2 ┆ 'Adven ┆       ┆       ┆       │\n",
       "│     ┆ ers ┆ thr ┆     ┆ Pic ┆     ┆     ┆     ┆     ┆     ┆ 1   ┆ ture', ┆       ┆       ┆       │\n",
       "│     ┆ :   ┆ eat ┆     ┆ tur ┆     ┆     ┆     ┆     ┆     ┆     ┆ 'Sci-F ┆       ┆       ┆       │\n",
       "│     ┆ The ┆ fro ┆     ┆ es  ┆     ┆     ┆     ┆     ┆     ┆     ┆ …      ┆       ┆       ┆       │\n",
       "│     ┆ Las ┆ m   ┆     ┆     ┆     ┆     ┆     ┆     ┆     ┆     ┆        ┆       ┆       ┆       │\n",
       "│     ┆ t   ┆ Ear ┆     ┆     ┆     ┆     ┆     ┆     ┆     ┆     ┆        ┆       ┆       ┆       │\n",
       "│     ┆ Kni ┆ th' ┆     ┆     ┆     ┆     ┆     ┆     ┆     ┆     ┆        ┆       ┆       ┆       │\n",
       "│     ┆ ght ┆ s   ┆     ┆     ┆     ┆     ┆     ┆     ┆     ┆     ┆        ┆       ┆       ┆       │\n",
       "│     ┆     ┆ h…  ┆     ┆     ┆     ┆     ┆     ┆     ┆     ┆     ┆        ┆       ┆       ┆       │\n",
       "│ 184 ┆ Tan ┆ The ┆ 201 ┆ Wal ┆ 260 ┆ 487 ┆ 200 ┆ 391 ┆ 724 ┆ 201 ┆ ['Adve ┆ 100   ┆ PG    ┆ -1875 │\n",
       "│     ┆ gle ┆ mag ┆ 0   ┆ t   ┆ 000 ┆ 670 ┆ 821 ┆ 640 ┆ 628 ┆ 0-1 ┆ nture' ┆       ┆       ┆ 37185 │\n",
       "│     ┆ d   ┆ ica ┆     ┆ Dis ┆ 000 ┆ 52  ┆ 936 ┆ 880 ┆ 15  ┆ 1-2 ┆ , 'Ani ┆       ┆       ┆       │\n",
       "│     ┆     ┆ lly ┆     ┆ ney ┆     ┆     ┆     ┆     ┆     ┆ 4   ┆ mation ┆       ┆       ┆       │\n",
       "│     ┆     ┆ lon ┆     ┆ Stu ┆     ┆     ┆     ┆     ┆     ┆     ┆ ',     ┆       ┆       ┆       │\n",
       "│     ┆     ┆ g-h ┆     ┆ dio ┆     ┆     ┆     ┆     ┆     ┆     ┆ 'Co…   ┆       ┆       ┆       │\n",
       "│     ┆     ┆ air ┆     ┆ s   ┆     ┆     ┆     ┆     ┆     ┆     ┆        ┆       ┆       ┆       │\n",
       "│     ┆     ┆ ed  ┆     ┆ Mot ┆     ┆     ┆     ┆     ┆     ┆     ┆        ┆       ┆       ┆       │\n",
       "│     ┆     ┆ Rap ┆     ┆ ion ┆     ┆     ┆     ┆     ┆     ┆     ┆        ┆       ┆       ┆       │\n",
       "│     ┆     ┆ u…  ┆     ┆ Pic ┆     ┆     ┆     ┆     ┆     ┆     ┆        ┆       ┆       ┆       │\n",
       "│     ┆     ┆     ┆     ┆ …   ┆     ┆     ┆     ┆     ┆     ┆     ┆        ┆       ┆       ┆       │\n",
       "│ 185 ┆ Qua ┆ Jam ┆ 200 ┆ Son ┆ 200 ┆ 675 ┆ 168 ┆ 421 ┆ 189 ┆ 200 ┆ ['Acti ┆ 106   ┆ PG-13 ┆ -1041 │\n",
       "│     ┆ ntu ┆ es  ┆ 8   ┆ y   ┆ 000 ┆ 288 ┆ 368 ┆ 212 ┆ 580 ┆ 8-1 ┆ on',   ┆       ┆       ┆ 9519  │\n",
       "│     ┆ m   ┆ Bon ┆     ┆ Pic ┆ 000 ┆ 82  ┆ 427 ┆ 055 ┆ 481 ┆ 0-3 ┆ 'Adven ┆       ┆       ┆       │\n",
       "│     ┆ of  ┆ d   ┆     ┆ tur ┆     ┆     ┆     ┆     ┆     ┆ 1   ┆ ture', ┆       ┆       ┆       │\n",
       "│     ┆ Sol ┆ des ┆     ┆ es  ┆     ┆     ┆     ┆     ┆     ┆     ┆ 'Myste ┆       ┆       ┆       │\n",
       "│     ┆ ace ┆ cen ┆     ┆ Ent ┆     ┆     ┆     ┆     ┆     ┆     ┆ …      ┆       ┆       ┆       │\n",
       "│     ┆     ┆ ds  ┆     ┆ ert ┆     ┆     ┆     ┆     ┆     ┆     ┆        ┆       ┆       ┆       │\n",
       "│     ┆     ┆ int ┆     ┆ ain ┆     ┆     ┆     ┆     ┆     ┆     ┆        ┆       ┆       ┆       │\n",
       "│     ┆     ┆ o   ┆     ┆ men ┆     ┆     ┆     ┆     ┆     ┆     ┆        ┆       ┆       ┆       │\n",
       "│     ┆     ┆ mys ┆     ┆ t   ┆     ┆     ┆     ┆     ┆     ┆     ┆        ┆       ┆       ┆       │\n",
       "│     ┆     ┆ te… ┆     ┆ (S… ┆     ┆     ┆     ┆     ┆     ┆     ┆        ┆       ┆       ┆       │\n",
       "│ …   ┆ …   ┆ …   ┆ …   ┆ …   ┆ …   ┆ …   ┆ …   ┆ …   ┆ …   ┆ …   ┆ …      ┆ …     ┆ …     ┆ …     │\n",
       "│ 982 ┆ The ┆ A   ┆ 200 ┆ Wal ┆ 900 ┆ 242 ┆ 758 ┆ 106 ┆ 229 ┆ 200 ┆ ['Come ┆ 99    ┆ PG    ┆ -8770 │\n",
       "│     ┆ Hau ┆ rea ┆ 3   ┆ t   ┆ 000 ┆ 784 ┆ 472 ┆ 443 ┆ 026 ┆ 3-1 ┆ dy',   ┆       ┆       ┆ 9735  │\n",
       "│     ┆ nte ┆ lto ┆     ┆ Dis ┆ 00  ┆ 10  ┆ 66  ┆ 000 ┆ 5   ┆ 1-2 ┆ 'Famil ┆       ┆       ┆       │\n",
       "│     ┆ d   ┆ r   ┆     ┆ ney ┆     ┆     ┆     ┆     ┆     ┆ 6   ┆ y',    ┆       ┆       ┆       │\n",
       "│     ┆ Man ┆ and ┆     ┆ Stu ┆     ┆     ┆     ┆     ┆     ┆     ┆ 'Fanta ┆       ┆       ┆       │\n",
       "│     ┆ sio ┆ his ┆     ┆ dio ┆     ┆     ┆     ┆     ┆     ┆     ┆ sy'…   ┆       ┆       ┆       │\n",
       "│     ┆ n   ┆ wif ┆     ┆ s   ┆     ┆     ┆     ┆     ┆     ┆     ┆        ┆       ┆       ┆       │\n",
       "│     ┆     ┆ e   ┆     ┆ Mot ┆     ┆     ┆     ┆     ┆     ┆     ┆        ┆       ┆       ┆       │\n",
       "│     ┆     ┆ and ┆     ┆ ion ┆     ┆     ┆     ┆     ┆     ┆     ┆        ┆       ┆       ┆       │\n",
       "│     ┆     ┆ chi ┆     ┆ Pic ┆     ┆     ┆     ┆     ┆     ┆     ┆        ┆       ┆       ┆       │\n",
       "│     ┆     ┆ …   ┆     ┆ …   ┆     ┆     ┆     ┆     ┆     ┆     ┆        ┆       ┆       ┆       │\n",
       "│ 987 ┆ Pos ┆ On  ┆ 200 ┆ War ┆ 160 ┆ 221 ┆ 606 ┆ 121 ┆ -13 ┆ 200 ┆ ['Acti ┆ 98    ┆ PG-13 ┆ -2983 │\n",
       "│     ┆ eid ┆ New ┆ 6   ┆ ner ┆ 000 ┆ 554 ┆ 748 ┆ 000 ┆ 832 ┆ 6-0 ┆ on',   ┆       ┆       ┆ 25184 │\n",
       "│     ┆ on  ┆ Yea ┆     ┆ Bro ┆ 000 ┆ 10  ┆ 17  ┆ 000 ┆ 518 ┆ 5-1 ┆ 'Adven ┆       ┆       ┆       │\n",
       "│     ┆     ┆ r's ┆     ┆ s.  ┆     ┆     ┆     ┆     ┆ 4   ┆ 0   ┆ ture', ┆       ┆       ┆       │\n",
       "│     ┆     ┆ Eve ┆     ┆     ┆     ┆     ┆     ┆     ┆     ┆     ┆ 'Thril ┆       ┆       ┆       │\n",
       "│     ┆     ┆ ,   ┆     ┆     ┆     ┆     ┆     ┆     ┆     ┆     ┆ …      ┆       ┆       ┆       │\n",
       "│     ┆     ┆ the ┆     ┆     ┆     ┆     ┆     ┆     ┆     ┆     ┆        ┆       ┆       ┆       │\n",
       "│     ┆     ┆ lux ┆     ┆     ┆     ┆     ┆     ┆     ┆     ┆     ┆        ┆       ┆       ┆       │\n",
       "│     ┆     ┆ ury ┆     ┆     ┆     ┆     ┆     ┆     ┆     ┆     ┆        ┆       ┆       ┆       │\n",
       "│     ┆     ┆ …   ┆     ┆     ┆     ┆     ┆     ┆     ┆     ┆     ┆        ┆       ┆       ┆       │\n",
       "│ 992 ┆ Roa ┆ A   ┆ 200 ┆ Dre ┆ 800 ┆ 220 ┆ 104 ┆ 765 ┆ 210 ┆ 200 ┆ ['Crim ┆ 117   ┆ R     ┆ -5899 │\n",
       "│     ┆ d   ┆ mob ┆ 2   ┆ amW ┆ 000 ┆ 794 ┆ 454 ┆ 467 ┆ 014 ┆ 2-0 ┆ e',    ┆       ┆       ┆ 8523  │\n",
       "│     ┆ to  ┆ enf ┆     ┆ ork ┆ 00  ┆ 81  ┆ 762 ┆ 16  ┆ 77  ┆ 7-1 ┆ 'Drama ┆       ┆       ┆       │\n",
       "│     ┆ Per ┆ orc ┆     ┆ s   ┆     ┆     ┆     ┆     ┆     ┆ 2   ┆ ', 'Th ┆       ┆       ┆       │\n",
       "│     ┆ dit ┆ er' ┆     ┆ Dis ┆     ┆     ┆     ┆     ┆     ┆     ┆ riller ┆       ┆       ┆       │\n",
       "│     ┆ ion ┆ s   ┆     ┆ tri ┆     ┆     ┆     ┆     ┆     ┆     ┆ ']     ┆       ┆       ┆       │\n",
       "│     ┆     ┆ son ┆     ┆ but ┆     ┆     ┆     ┆     ┆     ┆     ┆        ┆       ┆       ┆       │\n",
       "│     ┆     ┆ in  ┆     ┆ ion ┆     ┆     ┆     ┆     ┆     ┆     ┆        ┆       ┆       ┆       │\n",
       "│     ┆     ┆ 193 ┆     ┆     ┆     ┆     ┆     ┆     ┆     ┆     ┆        ┆       ┆       ┆       │\n",
       "│     ┆     ┆ 0s  ┆     ┆     ┆     ┆     ┆     ┆     ┆     ┆     ┆        ┆       ┆       ┆       │\n",
       "│     ┆     ┆ …   ┆     ┆     ┆     ┆     ┆     ┆     ┆     ┆     ┆        ┆       ┆       ┆       │\n",
       "│ 996 ┆ Dad ┆ Hav ┆ 201 ┆ Par ┆ 690 ┆ 296 ┆ 104 ┆ 765 ┆ 426 ┆ 201 ┆ ['Come ┆ 100   ┆ PG-13 ┆ -2638 │\n",
       "│     ┆ dy' ┆ ing ┆ 7   ┆ amo ┆ 000 ┆ 511 ┆ 029 ┆ 843 ┆ 138 ┆ 7-1 ┆ dy']   ┆       ┆       ┆ 6177  │\n",
       "│     ┆ s   ┆ fin ┆     ┆ unt ┆ 00  ┆ 93  ┆ 443 ┆ 81  ┆ 23  ┆ 1-0 ┆        ┆       ┆       ┆       │\n",
       "│     ┆ Hom ┆ all ┆     ┆ Pic ┆     ┆     ┆     ┆     ┆     ┆ 9   ┆        ┆       ┆       ┆       │\n",
       "│     ┆ e 2 ┆ y   ┆     ┆ tur ┆     ┆     ┆     ┆     ┆     ┆     ┆        ┆       ┆       ┆       │\n",
       "│     ┆     ┆ got ┆     ┆ es  ┆     ┆     ┆     ┆     ┆     ┆     ┆        ┆       ┆       ┆       │\n",
       "│     ┆     ┆ ten ┆     ┆     ┆     ┆     ┆     ┆     ┆     ┆     ┆        ┆       ┆       ┆       │\n",
       "│     ┆     ┆ use ┆     ┆     ┆     ┆     ┆     ┆     ┆     ┆     ┆        ┆       ┆       ┆       │\n",
       "│     ┆     ┆ d   ┆     ┆     ┆     ┆     ┆     ┆     ┆     ┆     ┆        ┆       ┆       ┆       │\n",
       "│     ┆     ┆ to  ┆     ┆     ┆     ┆     ┆     ┆     ┆     ┆     ┆        ┆       ┆       ┆       │\n",
       "│     ┆     ┆ …   ┆     ┆     ┆     ┆     ┆     ┆     ┆     ┆     ┆        ┆       ┆       ┆       │\n",
       "│ 998 ┆ Dej ┆ Aft ┆ 200 ┆ Wal ┆ 750 ┆ 205 ┆ 640 ┆ 116 ┆ 305 ┆ 200 ┆ ['Acti ┆ 126   ┆ PG-13 ┆ -4444 │\n",
       "│     ┆ a   ┆ er  ┆ 6   ┆ t   ┆ 000 ┆ 748 ┆ 386 ┆ 518 ┆ 575 ┆ 6-1 ┆ on',   ┆       ┆       ┆ 2451  │\n",
       "│     ┆ Vu  ┆ a   ┆     ┆ Dis ┆ 00  ┆ 02  ┆ 16  ┆ 934 ┆ 49  ┆ 1-2 ┆ 'Crime ┆       ┆       ┆       │\n",
       "│     ┆     ┆ fer ┆     ┆ ney ┆     ┆     ┆     ┆     ┆     ┆ 2   ┆ ', 'Sc ┆       ┆       ┆       │\n",
       "│     ┆     ┆ ry  ┆     ┆ Stu ┆     ┆     ┆     ┆     ┆     ┆     ┆ i-Fi', ┆       ┆       ┆       │\n",
       "│     ┆     ┆ is  ┆     ┆ dio ┆     ┆     ┆     ┆     ┆     ┆     ┆ …      ┆       ┆       ┆       │\n",
       "│     ┆     ┆ bom ┆     ┆ s   ┆     ┆     ┆     ┆     ┆     ┆     ┆        ┆       ┆       ┆       │\n",
       "│     ┆     ┆ bed ┆     ┆ Mot ┆     ┆     ┆     ┆     ┆     ┆     ┆        ┆       ┆       ┆       │\n",
       "│     ┆     ┆ in  ┆     ┆ ion ┆     ┆     ┆     ┆     ┆     ┆     ┆        ┆       ┆       ┆       │\n",
       "│     ┆     ┆ New ┆     ┆ Pic ┆     ┆     ┆     ┆     ┆     ┆     ┆        ┆       ┆       ┆       │\n",
       "│     ┆     ┆ …   ┆     ┆ …   ┆     ┆     ┆     ┆     ┆     ┆     ┆        ┆       ┆       ┆       │\n",
       "└─────┴─────┴─────┴─────┴─────┴─────┴─────┴─────┴─────┴─────┴─────┴────────┴───────┴───────┴───────┘"
      ]
     },
     "execution_count": 115,
     "metadata": {},
     "output_type": "execute_result"
    }
   ],
   "source": [
    "df3.filter(\n",
    "    pl.col(\"Profit (in $)\") < 0\n",
    ")"
   ]
  },
  {
   "cell_type": "code",
   "execution_count": null,
   "metadata": {},
   "outputs": [],
   "source": []
  }
 ],
 "metadata": {
  "kernelspec": {
   "display_name": "Python 3",
   "language": "python",
   "name": "python3"
  },
  "language_info": {
   "codemirror_mode": {
    "name": "ipython",
    "version": 3
   },
   "file_extension": ".py",
   "mimetype": "text/x-python",
   "name": "python",
   "nbconvert_exporter": "python",
   "pygments_lexer": "ipython3",
   "version": "3.11.1"
  }
 },
 "nbformat": 4,
 "nbformat_minor": 2
}
