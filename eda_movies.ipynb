{
 "cells": [
  {
   "cell_type": "code",
   "execution_count": 6,
   "metadata": {},
   "outputs": [
    {
     "data": {
      "text/plain": [
       "polars.config.Config"
      ]
     },
     "execution_count": 6,
     "metadata": {},
     "output_type": "execute_result"
    }
   ],
   "source": [
    "import polars as pl\n",
    "import matplotlib.pyplot as plt\n",
    "import numpy as np\n",
    "pl.Config.set_tbl_cols(100)"
   ]
  },
  {
   "cell_type": "code",
   "execution_count": 9,
   "metadata": {},
   "outputs": [
    {
     "data": {
      "text/html": [
       "<div><style>\n",
       ".dataframe > thead > tr,\n",
       ".dataframe > tbody > tr {\n",
       "  text-align: right;\n",
       "  white-space: pre-wrap;\n",
       "}\n",
       "</style>\n",
       "<small>shape: (5, 14)</small><table border=\"1\" class=\"dataframe\"><thead><tr><th>idx</th><th>Title</th><th>Movie Info</th><th>Year</th><th>Distributor</th><th>Budget (in $)</th><th>Domestic Opening (in $)</th><th>Domestic Sales (in $)</th><th>International Sales (in $)</th><th>World Wide Sales (in $)</th><th>Release Date</th><th>Genre</th><th>Running Time</th><th>License</th></tr><tr><td>i64</td><td>str</td><td>str</td><td>i64</td><td>str</td><td>i64</td><td>i64</td><td>i64</td><td>i64</td><td>i64</td><td>str</td><td>str</td><td>i64</td><td>str</td></tr></thead><tbody><tr><td>0</td><td>&quot;Avatar&quot;</td><td>&quot;A paraplegic Marine dispatched…</td><td>2009</td><td>&quot;Twentieth Century Fox&quot;</td><td>237000000</td><td>77025481</td><td>785221649</td><td>2138484377</td><td>2923706026</td><td>&quot;2009-12-16&quot;</td><td>&quot;[&#x27;Action&#x27;, &#x27;Adventure&#x27;, &#x27;Fanta…</td><td>162</td><td>&quot;PG-13&quot;</td></tr><tr><td>1</td><td>&quot;Avengers: Endgame&quot;</td><td>&quot;After the devastating events o…</td><td>2019</td><td>&quot;Walt Disney Studios Motion Pic…</td><td>356000000</td><td>357115007</td><td>858373000</td><td>1941066100</td><td>2799439100</td><td>&quot;2019-04-24&quot;</td><td>&quot;[&#x27;Action&#x27;, &#x27;Adventure&#x27;, &#x27;Drama…</td><td>181</td><td>&quot;PG-13&quot;</td></tr><tr><td>2</td><td>&quot;Avatar: The Way of Water&quot;</td><td>&quot;Jake Sully lives with his newf…</td><td>2022</td><td>&quot;20th Century Studios&quot;</td><td>null</td><td>134100226</td><td>684075767</td><td>1636174514</td><td>2320250281</td><td>&quot;2019-04-24&quot;</td><td>&quot;[&#x27;Action&#x27;, &#x27;Adventure&#x27;, &#x27;Drama…</td><td>181</td><td>&quot;PG-13&quot;</td></tr><tr><td>3</td><td>&quot;Titanic&quot;</td><td>&quot;A seventeen-year-old aristocra…</td><td>1997</td><td>&quot;Paramount Pictures&quot;</td><td>200000000</td><td>28638131</td><td>674292608</td><td>1590450697</td><td>2264743305</td><td>&quot;1997-12-19&quot;</td><td>&quot;[&#x27;Drama&#x27;, &#x27;Romance&#x27;]&quot;</td><td>194</td><td>&quot;PG-13&quot;</td></tr><tr><td>4</td><td>&quot;Star Wars: Episode VII - The F…</td><td>&quot;As a new threat to the galaxy …</td><td>2015</td><td>&quot;Walt Disney Studios Motion Pic…</td><td>245000000</td><td>247966675</td><td>936662225</td><td>1134647993</td><td>2071310218</td><td>&quot;2015-12-16&quot;</td><td>&quot;[&#x27;Action&#x27;, &#x27;Adventure&#x27;, &#x27;Sci-F…</td><td>138</td><td>&quot;PG-13&quot;</td></tr></tbody></table></div>"
      ],
      "text/plain": [
       "shape: (5, 14)\n",
       "┌─────┬─────┬─────┬─────┬─────┬─────┬─────┬────────┬───────┬───────┬───────┬───────┬───────┬───────┐\n",
       "│ idx ┆ Tit ┆ Mov ┆ Yea ┆ Dis ┆ Bud ┆ Dom ┆ Domest ┆ Inter ┆ World ┆ Relea ┆ Genre ┆ Runni ┆ Licen │\n",
       "│ --- ┆ le  ┆ ie  ┆ r   ┆ tri ┆ get ┆ est ┆ ic     ┆ natio ┆ Wide  ┆ se    ┆ ---   ┆ ng    ┆ se    │\n",
       "│ i64 ┆ --- ┆ Inf ┆ --- ┆ but ┆ (in ┆ ic  ┆ Sales  ┆ nal   ┆ Sales ┆ Date  ┆ str   ┆ Time  ┆ ---   │\n",
       "│     ┆ str ┆ o   ┆ i64 ┆ or  ┆ $)  ┆ Ope ┆ (in $) ┆ Sales ┆ (in   ┆ ---   ┆       ┆ ---   ┆ str   │\n",
       "│     ┆     ┆ --- ┆     ┆ --- ┆ --- ┆ nin ┆ ---    ┆ (in   ┆ $)    ┆ str   ┆       ┆ i64   ┆       │\n",
       "│     ┆     ┆ str ┆     ┆ str ┆ i64 ┆ g   ┆ i64    ┆ $)    ┆ ---   ┆       ┆       ┆       ┆       │\n",
       "│     ┆     ┆     ┆     ┆     ┆     ┆ (in ┆        ┆ ---   ┆ i64   ┆       ┆       ┆       ┆       │\n",
       "│     ┆     ┆     ┆     ┆     ┆     ┆ $)  ┆        ┆ i64   ┆       ┆       ┆       ┆       ┆       │\n",
       "│     ┆     ┆     ┆     ┆     ┆     ┆ --- ┆        ┆       ┆       ┆       ┆       ┆       ┆       │\n",
       "│     ┆     ┆     ┆     ┆     ┆     ┆ i64 ┆        ┆       ┆       ┆       ┆       ┆       ┆       │\n",
       "╞═════╪═════╪═════╪═════╪═════╪═════╪═════╪════════╪═══════╪═══════╪═══════╪═══════╪═══════╪═══════╡\n",
       "│ 0   ┆ Ava ┆ A   ┆ 200 ┆ Twe ┆ 237 ┆ 770 ┆ 785221 ┆ 21384 ┆ 29237 ┆ 2009- ┆ ['Act ┆ 162   ┆ PG-13 │\n",
       "│     ┆ tar ┆ par ┆ 9   ┆ nti ┆ 000 ┆ 254 ┆ 649    ┆ 84377 ┆ 06026 ┆ 12-16 ┆ ion', ┆       ┆       │\n",
       "│     ┆     ┆ apl ┆     ┆ eth ┆ 000 ┆ 81  ┆        ┆       ┆       ┆       ┆ 'Adve ┆       ┆       │\n",
       "│     ┆     ┆ egi ┆     ┆ Cen ┆     ┆     ┆        ┆       ┆       ┆       ┆ nture ┆       ┆       │\n",
       "│     ┆     ┆ c   ┆     ┆ tur ┆     ┆     ┆        ┆       ┆       ┆       ┆ ',    ┆       ┆       │\n",
       "│     ┆     ┆ Mar ┆     ┆ y   ┆     ┆     ┆        ┆       ┆       ┆       ┆ 'Fant ┆       ┆       │\n",
       "│     ┆     ┆ ine ┆     ┆ Fox ┆     ┆     ┆        ┆       ┆       ┆       ┆ a…    ┆       ┆       │\n",
       "│     ┆     ┆ dis ┆     ┆     ┆     ┆     ┆        ┆       ┆       ┆       ┆       ┆       ┆       │\n",
       "│     ┆     ┆ pat ┆     ┆     ┆     ┆     ┆        ┆       ┆       ┆       ┆       ┆       ┆       │\n",
       "│     ┆     ┆ che ┆     ┆     ┆     ┆     ┆        ┆       ┆       ┆       ┆       ┆       ┆       │\n",
       "│     ┆     ┆ d…  ┆     ┆     ┆     ┆     ┆        ┆       ┆       ┆       ┆       ┆       ┆       │\n",
       "│ 1   ┆ Ave ┆ Aft ┆ 201 ┆ Wal ┆ 356 ┆ 357 ┆ 858373 ┆ 19410 ┆ 27994 ┆ 2019- ┆ ['Act ┆ 181   ┆ PG-13 │\n",
       "│     ┆ nge ┆ er  ┆ 9   ┆ t   ┆ 000 ┆ 115 ┆ 000    ┆ 66100 ┆ 39100 ┆ 04-24 ┆ ion', ┆       ┆       │\n",
       "│     ┆ rs: ┆ the ┆     ┆ Dis ┆ 000 ┆ 007 ┆        ┆       ┆       ┆       ┆ 'Adve ┆       ┆       │\n",
       "│     ┆ End ┆ dev ┆     ┆ ney ┆     ┆     ┆        ┆       ┆       ┆       ┆ nture ┆       ┆       │\n",
       "│     ┆ gam ┆ ast ┆     ┆ Stu ┆     ┆     ┆        ┆       ┆       ┆       ┆ ',    ┆       ┆       │\n",
       "│     ┆ e   ┆ ati ┆     ┆ dio ┆     ┆     ┆        ┆       ┆       ┆       ┆ 'Dram ┆       ┆       │\n",
       "│     ┆     ┆ ng  ┆     ┆ s   ┆     ┆     ┆        ┆       ┆       ┆       ┆ a…    ┆       ┆       │\n",
       "│     ┆     ┆ eve ┆     ┆ Mot ┆     ┆     ┆        ┆       ┆       ┆       ┆       ┆       ┆       │\n",
       "│     ┆     ┆ nts ┆     ┆ ion ┆     ┆     ┆        ┆       ┆       ┆       ┆       ┆       ┆       │\n",
       "│     ┆     ┆ o…  ┆     ┆ Pic ┆     ┆     ┆        ┆       ┆       ┆       ┆       ┆       ┆       │\n",
       "│     ┆     ┆     ┆     ┆ …   ┆     ┆     ┆        ┆       ┆       ┆       ┆       ┆       ┆       │\n",
       "│ 2   ┆ Ava ┆ Jak ┆ 202 ┆ 20t ┆ nul ┆ 134 ┆ 684075 ┆ 16361 ┆ 23202 ┆ 2019- ┆ ['Act ┆ 181   ┆ PG-13 │\n",
       "│     ┆ tar ┆ e   ┆ 2   ┆ h   ┆ l   ┆ 100 ┆ 767    ┆ 74514 ┆ 50281 ┆ 04-24 ┆ ion', ┆       ┆       │\n",
       "│     ┆ :   ┆ Sul ┆     ┆ Cen ┆     ┆ 226 ┆        ┆       ┆       ┆       ┆ 'Adve ┆       ┆       │\n",
       "│     ┆ The ┆ ly  ┆     ┆ tur ┆     ┆     ┆        ┆       ┆       ┆       ┆ nture ┆       ┆       │\n",
       "│     ┆ Way ┆ liv ┆     ┆ y   ┆     ┆     ┆        ┆       ┆       ┆       ┆ ',    ┆       ┆       │\n",
       "│     ┆ of  ┆ es  ┆     ┆ Stu ┆     ┆     ┆        ┆       ┆       ┆       ┆ 'Dram ┆       ┆       │\n",
       "│     ┆ Wat ┆ wit ┆     ┆ dio ┆     ┆     ┆        ┆       ┆       ┆       ┆ a…    ┆       ┆       │\n",
       "│     ┆ er  ┆ h   ┆     ┆ s   ┆     ┆     ┆        ┆       ┆       ┆       ┆       ┆       ┆       │\n",
       "│     ┆     ┆ his ┆     ┆     ┆     ┆     ┆        ┆       ┆       ┆       ┆       ┆       ┆       │\n",
       "│     ┆     ┆ new ┆     ┆     ┆     ┆     ┆        ┆       ┆       ┆       ┆       ┆       ┆       │\n",
       "│     ┆     ┆ f…  ┆     ┆     ┆     ┆     ┆        ┆       ┆       ┆       ┆       ┆       ┆       │\n",
       "│ 3   ┆ Tit ┆ A   ┆ 199 ┆ Par ┆ 200 ┆ 286 ┆ 674292 ┆ 15904 ┆ 22647 ┆ 1997- ┆ ['Dra ┆ 194   ┆ PG-13 │\n",
       "│     ┆ ani ┆ sev ┆ 7   ┆ amo ┆ 000 ┆ 381 ┆ 608    ┆ 50697 ┆ 43305 ┆ 12-19 ┆ ma',  ┆       ┆       │\n",
       "│     ┆ c   ┆ ent ┆     ┆ unt ┆ 000 ┆ 31  ┆        ┆       ┆       ┆       ┆ 'Roma ┆       ┆       │\n",
       "│     ┆     ┆ een ┆     ┆ Pic ┆     ┆     ┆        ┆       ┆       ┆       ┆ nce'] ┆       ┆       │\n",
       "│     ┆     ┆ -ye ┆     ┆ tur ┆     ┆     ┆        ┆       ┆       ┆       ┆       ┆       ┆       │\n",
       "│     ┆     ┆ ar- ┆     ┆ es  ┆     ┆     ┆        ┆       ┆       ┆       ┆       ┆       ┆       │\n",
       "│     ┆     ┆ old ┆     ┆     ┆     ┆     ┆        ┆       ┆       ┆       ┆       ┆       ┆       │\n",
       "│     ┆     ┆ ari ┆     ┆     ┆     ┆     ┆        ┆       ┆       ┆       ┆       ┆       ┆       │\n",
       "│     ┆     ┆ sto ┆     ┆     ┆     ┆     ┆        ┆       ┆       ┆       ┆       ┆       ┆       │\n",
       "│     ┆     ┆ cra ┆     ┆     ┆     ┆     ┆        ┆       ┆       ┆       ┆       ┆       ┆       │\n",
       "│     ┆     ┆ …   ┆     ┆     ┆     ┆     ┆        ┆       ┆       ┆       ┆       ┆       ┆       │\n",
       "│ 4   ┆ Sta ┆ As  ┆ 201 ┆ Wal ┆ 245 ┆ 247 ┆ 936662 ┆ 11346 ┆ 20713 ┆ 2015- ┆ ['Act ┆ 138   ┆ PG-13 │\n",
       "│     ┆ r   ┆ a   ┆ 5   ┆ t   ┆ 000 ┆ 966 ┆ 225    ┆ 47993 ┆ 10218 ┆ 12-16 ┆ ion', ┆       ┆       │\n",
       "│     ┆ War ┆ new ┆     ┆ Dis ┆ 000 ┆ 675 ┆        ┆       ┆       ┆       ┆ 'Adve ┆       ┆       │\n",
       "│     ┆ s:  ┆ thr ┆     ┆ ney ┆     ┆     ┆        ┆       ┆       ┆       ┆ nture ┆       ┆       │\n",
       "│     ┆ Epi ┆ eat ┆     ┆ Stu ┆     ┆     ┆        ┆       ┆       ┆       ┆ ',    ┆       ┆       │\n",
       "│     ┆ sod ┆ to  ┆     ┆ dio ┆     ┆     ┆        ┆       ┆       ┆       ┆ 'Sci- ┆       ┆       │\n",
       "│     ┆ e   ┆ the ┆     ┆ s   ┆     ┆     ┆        ┆       ┆       ┆       ┆ F…    ┆       ┆       │\n",
       "│     ┆ VII ┆ gal ┆     ┆ Mot ┆     ┆     ┆        ┆       ┆       ┆       ┆       ┆       ┆       │\n",
       "│     ┆ -   ┆ axy ┆     ┆ ion ┆     ┆     ┆        ┆       ┆       ┆       ┆       ┆       ┆       │\n",
       "│     ┆ The ┆ …   ┆     ┆ Pic ┆     ┆     ┆        ┆       ┆       ┆       ┆       ┆       ┆       │\n",
       "│     ┆ F…  ┆     ┆     ┆ …   ┆     ┆     ┆        ┆       ┆       ┆       ┆       ┆       ┆       │\n",
       "└─────┴─────┴─────┴─────┴─────┴─────┴─────┴────────┴───────┴───────┴───────┴───────┴───────┴───────┘"
      ]
     },
     "execution_count": 9,
     "metadata": {},
     "output_type": "execute_result"
    }
   ],
   "source": [
    "df = pl.read_csv(\"./dataset/clean_movies.csv\")\n",
    "df.head()"
   ]
  },
  {
   "cell_type": "code",
   "execution_count": 95,
   "metadata": {},
   "outputs": [
    {
     "data": {
      "image/png": "[encoded data removed]",
      "text/plain": [
       "<Figure size 640x480 with 1 Axes>"
      ]
     },
     "metadata": {},
     "output_type": "display_data"
    }
   ],
   "source": [
    "df2 = df.with_columns(\n",
    "    ((pl.col(\"Year\")) // 10 * 10).alias(\"Decade\")\n",
    ")\n",
    "group_year = df2.group_by(\"Decade\", maintain_order=True).agg(pl.col(\"Title\").count()).sort(by=\"Decade\", descending=False)\n",
    "\n",
    "plt.bar(group_year[\"Decade\"], group_year[\"Title\"], width=3)\n",
    "plt.xticks(np.arange(1970, group_year[\"Decade\"].max() + 10, 10), rotation = 45) \n",
    "plt.xlim(1965, 2030)\n",
    "plt.xlabel(\"Decade\")\n",
    "plt.ylabel(\"No. of Movies\")\n",
    "plt.title(\"Movies count in each decade\")\n",
    "plt.show()"
   ]
  },
  {
   "cell_type": "code",
   "execution_count": 97,
   "metadata": {},
   "outputs": [
    {
     "data": {
      "text/html": [
       "<div><style>\n",
       ".dataframe > thead > tr,\n",
       ".dataframe > tbody > tr {\n",
       "  text-align: right;\n",
       "  white-space: pre-wrap;\n",
       "}\n",
       "</style>\n",
       "<small>shape: (1, 14)</small><table border=\"1\" class=\"dataframe\"><thead><tr><th>idx</th><th>Title</th><th>Movie Info</th><th>Year</th><th>Distributor</th><th>Budget (in $)</th><th>Domestic Opening (in $)</th><th>Domestic Sales (in $)</th><th>International Sales (in $)</th><th>World Wide Sales (in $)</th><th>Release Date</th><th>Genre</th><th>Running Time</th><th>License</th></tr><tr><td>i64</td><td>str</td><td>str</td><td>i64</td><td>str</td><td>i64</td><td>i64</td><td>i64</td><td>i64</td><td>i64</td><td>str</td><td>str</td><td>i64</td><td>str</td></tr></thead><tbody><tr><td>0</td><td>&quot;Avatar&quot;</td><td>&quot;A paraplegic Marine dispatched…</td><td>2009</td><td>&quot;Twentieth Century Fox&quot;</td><td>237000000</td><td>77025481</td><td>785221649</td><td>2138484377</td><td>2923706026</td><td>&quot;2009-12-16&quot;</td><td>&quot;[&#x27;Action&#x27;, &#x27;Adventure&#x27;, &#x27;Fanta…</td><td>162</td><td>&quot;PG-13&quot;</td></tr></tbody></table></div>"
      ],
      "text/plain": [
       "shape: (1, 14)\n",
       "┌─────┬─────┬─────┬─────┬─────┬─────┬─────┬────────┬───────┬───────┬───────┬───────┬───────┬───────┐\n",
       "│ idx ┆ Tit ┆ Mov ┆ Yea ┆ Dis ┆ Bud ┆ Dom ┆ Domest ┆ Inter ┆ World ┆ Relea ┆ Genre ┆ Runni ┆ Licen │\n",
       "│ --- ┆ le  ┆ ie  ┆ r   ┆ tri ┆ get ┆ est ┆ ic     ┆ natio ┆ Wide  ┆ se    ┆ ---   ┆ ng    ┆ se    │\n",
       "│ i64 ┆ --- ┆ Inf ┆ --- ┆ but ┆ (in ┆ ic  ┆ Sales  ┆ nal   ┆ Sales ┆ Date  ┆ str   ┆ Time  ┆ ---   │\n",
       "│     ┆ str ┆ o   ┆ i64 ┆ or  ┆ $)  ┆ Ope ┆ (in $) ┆ Sales ┆ (in   ┆ ---   ┆       ┆ ---   ┆ str   │\n",
       "│     ┆     ┆ --- ┆     ┆ --- ┆ --- ┆ nin ┆ ---    ┆ (in   ┆ $)    ┆ str   ┆       ┆ i64   ┆       │\n",
       "│     ┆     ┆ str ┆     ┆ str ┆ i64 ┆ g   ┆ i64    ┆ $)    ┆ ---   ┆       ┆       ┆       ┆       │\n",
       "│     ┆     ┆     ┆     ┆     ┆     ┆ (in ┆        ┆ ---   ┆ i64   ┆       ┆       ┆       ┆       │\n",
       "│     ┆     ┆     ┆     ┆     ┆     ┆ $)  ┆        ┆ i64   ┆       ┆       ┆       ┆       ┆       │\n",
       "│     ┆     ┆     ┆     ┆     ┆     ┆ --- ┆        ┆       ┆       ┆       ┆       ┆       ┆       │\n",
       "│     ┆     ┆     ┆     ┆     ┆     ┆ i64 ┆        ┆       ┆       ┆       ┆       ┆       ┆       │\n",
       "╞═════╪═════╪═════╪═════╪═════╪═════╪═════╪════════╪═══════╪═══════╪═══════╪═══════╪═══════╪═══════╡\n",
       "│ 0   ┆ Ava ┆ A   ┆ 200 ┆ Twe ┆ 237 ┆ 770 ┆ 785221 ┆ 21384 ┆ 29237 ┆ 2009- ┆ ['Act ┆ 162   ┆ PG-13 │\n",
       "│     ┆ tar ┆ par ┆ 9   ┆ nti ┆ 000 ┆ 254 ┆ 649    ┆ 84377 ┆ 06026 ┆ 12-16 ┆ ion', ┆       ┆       │\n",
       "│     ┆     ┆ apl ┆     ┆ eth ┆ 000 ┆ 81  ┆        ┆       ┆       ┆       ┆ 'Adve ┆       ┆       │\n",
       "│     ┆     ┆ egi ┆     ┆ Cen ┆     ┆     ┆        ┆       ┆       ┆       ┆ nture ┆       ┆       │\n",
       "│     ┆     ┆ c   ┆     ┆ tur ┆     ┆     ┆        ┆       ┆       ┆       ┆ ',    ┆       ┆       │\n",
       "│     ┆     ┆ Mar ┆     ┆ y   ┆     ┆     ┆        ┆       ┆       ┆       ┆ 'Fant ┆       ┆       │\n",
       "│     ┆     ┆ ine ┆     ┆ Fox ┆     ┆     ┆        ┆       ┆       ┆       ┆ a…    ┆       ┆       │\n",
       "│     ┆     ┆ dis ┆     ┆     ┆     ┆     ┆        ┆       ┆       ┆       ┆       ┆       ┆       │\n",
       "│     ┆     ┆ pat ┆     ┆     ┆     ┆     ┆        ┆       ┆       ┆       ┆       ┆       ┆       │\n",
       "│     ┆     ┆ che ┆     ┆     ┆     ┆     ┆        ┆       ┆       ┆       ┆       ┆       ┆       │\n",
       "│     ┆     ┆ d…  ┆     ┆     ┆     ┆     ┆        ┆       ┆       ┆       ┆       ┆       ┆       │\n",
       "└─────┴─────┴─────┴─────┴─────┴─────┴─────┴────────┴───────┴───────┴───────┴───────┴───────┴───────┘"
      ]
     },
     "execution_count": 97,
     "metadata": {},
     "output_type": "execute_result"
    }
   ],
   "source": [
    "#Highest Budget \n",
    "\n",
    "df.filter(\n",
    "    pl.col(\"Budget (in $)\") == pl.col(\"Budget (in $)\").max()\n",
    ")\n",
    "\n",
    "#Highest Earning\n",
    "\n",
    "df.filter(\n",
    "    pl.col(\"World Wide Sales (in $)\") == pl.col(\"World Wide Sales (in $)\").max()\n",
    ")"
   ]
  },
  {
   "cell_type": "code",
   "execution_count": null,
   "metadata": {},
   "outputs": [],
   "source": []
  },
  {
   "cell_type": "code",
   "execution_count": null,
   "metadata": {},
   "outputs": [],
   "source": []
  }
 ],
 "metadata": {
  "kernelspec": {
   "display_name": "Python 3",
   "language": "python",
   "name": "python3"
  },
  "language_info": {
   "codemirror_mode": {
    "name": "ipython",
    "version": 3
   },
   "file_extension": ".py",
   "mimetype": "text/x-python",
   "name": "python",
   "nbconvert_exporter": "python",
   "pygments_lexer": "ipython3",
   "version": "3.11.1"
  }
 },
 "nbformat": 4,
 "nbformat_minor": 2
}
