{
 "cells": [
  {
   "cell_type": "code",
   "execution_count": 5,
   "metadata": {},
   "outputs": [
    {
     "data": {
      "text/plain": [
       "polars.config.Config"
      ]
     },
     "execution_count": 5,
     "metadata": {},
     "output_type": "execute_result"
    }
   ],
   "source": [
    "import polars as pl\n",
    "pl.Config.set_tbl_cols(100)"
   ]
  },
  {
   "cell_type": "code",
   "execution_count": 144,
   "metadata": {},
   "outputs": [
    {
     "data": {
      "text/html": [
       "<div><style>\n",
       ".dataframe > thead > tr,\n",
       ".dataframe > tbody > tr {\n",
       "  text-align: right;\n",
       "  white-space: pre-wrap;\n",
       "}\n",
       "</style>\n",
       "<small>shape: (5, 14)</small><table border=\"1\" class=\"dataframe\"><thead><tr><th></th><th>Title</th><th>Movie Info</th><th>Year</th><th>Distributor</th><th>Budget (in $)</th><th>Domestic Opening (in $)</th><th>Domestic Sales (in $)</th><th>International Sales (in $)</th><th>World Wide Sales (in $)</th><th>Release Date</th><th>Genre</th><th>Running Time</th><th>License</th></tr><tr><td>i64</td><td>str</td><td>str</td><td>i64</td><td>str</td><td>str</td><td>str</td><td>i64</td><td>i64</td><td>i64</td><td>str</td><td>str</td><td>str</td><td>str</td></tr></thead><tbody><tr><td>0</td><td>&quot;Avatar&quot;</td><td>&quot;A paraplegic Marine dispatched…</td><td>2009</td><td>&quot;Twentieth Century Fox&quot;</td><td>&quot;237000000&quot;</td><td>&quot;77025481&quot;</td><td>785221649</td><td>2138484377</td><td>2923706026</td><td>&quot;16-Dec-09&quot;</td><td>&quot;[&#x27;Action&#x27;, &#x27;Adventure&#x27;, &#x27;Fanta…</td><td>&quot;2 hr 42 min&quot;</td><td>&quot;PG-13&quot;</td></tr><tr><td>1</td><td>&quot;Avengers: Endgame&quot;</td><td>&quot;After the devastating events o…</td><td>2019</td><td>&quot;Walt Disney Studios Motion Pic…</td><td>&quot;356000000&quot;</td><td>&quot;357115007&quot;</td><td>858373000</td><td>1941066100</td><td>2799439100</td><td>&quot;24-Apr-19&quot;</td><td>&quot;[&#x27;Action&#x27;, &#x27;Adventure&#x27;, &#x27;Drama…</td><td>&quot;3 hr 1 min&quot;</td><td>&quot;PG-13&quot;</td></tr><tr><td>2</td><td>&quot;Avatar: The Way of Water&quot;</td><td>&quot;Jake Sully lives with his newf…</td><td>2022</td><td>&quot;20th Century Studios&quot;</td><td>&quot;December 14 2022 (EMEA APAC)&quot;</td><td>&quot;134100226&quot;</td><td>684075767</td><td>1636174514</td><td>2320250281</td><td>&quot;24-Apr-19&quot;</td><td>&quot;[&#x27;Action&#x27;, &#x27;Adventure&#x27;, &#x27;Drama…</td><td>&quot;3 hr 1 min&quot;</td><td>&quot;PG-13&quot;</td></tr><tr><td>3</td><td>&quot;Titanic&quot;</td><td>&quot;A seventeen-year-old aristocra…</td><td>1997</td><td>&quot;Paramount Pictures&quot;</td><td>&quot;200000000&quot;</td><td>&quot;28638131&quot;</td><td>674292608</td><td>1590450697</td><td>2264743305</td><td>&quot;19-Dec-97&quot;</td><td>&quot;[&#x27;Drama&#x27;, &#x27;Romance&#x27;]&quot;</td><td>&quot;3 hr 14 min&quot;</td><td>&quot;PG-13&quot;</td></tr><tr><td>4</td><td>&quot;Star Wars: Episode VII - The F…</td><td>&quot;As a new threat to the galaxy …</td><td>2015</td><td>&quot;Walt Disney Studios Motion Pic…</td><td>&quot;245000000&quot;</td><td>&quot;247966675&quot;</td><td>936662225</td><td>1134647993</td><td>2071310218</td><td>&quot;16-Dec-15&quot;</td><td>&quot;[&#x27;Action&#x27;, &#x27;Adventure&#x27;, &#x27;Sci-F…</td><td>&quot;2 hr 18 min&quot;</td><td>&quot;PG-13&quot;</td></tr></tbody></table></div>"
      ],
      "text/plain": [
       "shape: (5, 14)\n",
       "┌─────┬─────┬─────┬─────┬─────┬─────┬─────┬────────┬───────┬───────┬───────┬───────┬───────┬───────┐\n",
       "│     ┆ Tit ┆ Mov ┆ Yea ┆ Dis ┆ Bud ┆ Dom ┆ Domest ┆ Inter ┆ World ┆ Relea ┆ Genre ┆ Runni ┆ Licen │\n",
       "│ --- ┆ le  ┆ ie  ┆ r   ┆ tri ┆ get ┆ est ┆ ic     ┆ natio ┆ Wide  ┆ se    ┆ ---   ┆ ng    ┆ se    │\n",
       "│ i64 ┆ --- ┆ Inf ┆ --- ┆ but ┆ (in ┆ ic  ┆ Sales  ┆ nal   ┆ Sales ┆ Date  ┆ str   ┆ Time  ┆ ---   │\n",
       "│     ┆ str ┆ o   ┆ i64 ┆ or  ┆ $)  ┆ Ope ┆ (in $) ┆ Sales ┆ (in   ┆ ---   ┆       ┆ ---   ┆ str   │\n",
       "│     ┆     ┆ --- ┆     ┆ --- ┆ --- ┆ nin ┆ ---    ┆ (in   ┆ $)    ┆ str   ┆       ┆ str   ┆       │\n",
       "│     ┆     ┆ str ┆     ┆ str ┆ str ┆ g   ┆ i64    ┆ $)    ┆ ---   ┆       ┆       ┆       ┆       │\n",
       "│     ┆     ┆     ┆     ┆     ┆     ┆ (in ┆        ┆ ---   ┆ i64   ┆       ┆       ┆       ┆       │\n",
       "│     ┆     ┆     ┆     ┆     ┆     ┆ $)  ┆        ┆ i64   ┆       ┆       ┆       ┆       ┆       │\n",
       "│     ┆     ┆     ┆     ┆     ┆     ┆ --- ┆        ┆       ┆       ┆       ┆       ┆       ┆       │\n",
       "│     ┆     ┆     ┆     ┆     ┆     ┆ str ┆        ┆       ┆       ┆       ┆       ┆       ┆       │\n",
       "╞═════╪═════╪═════╪═════╪═════╪═════╪═════╪════════╪═══════╪═══════╪═══════╪═══════╪═══════╪═══════╡\n",
       "│ 0   ┆ Ava ┆ A   ┆ 200 ┆ Twe ┆ 237 ┆ 770 ┆ 785221 ┆ 21384 ┆ 29237 ┆ 16-De ┆ ['Act ┆ 2 hr  ┆ PG-13 │\n",
       "│     ┆ tar ┆ par ┆ 9   ┆ nti ┆ 000 ┆ 254 ┆ 649    ┆ 84377 ┆ 06026 ┆ c-09  ┆ ion', ┆ 42    ┆       │\n",
       "│     ┆     ┆ apl ┆     ┆ eth ┆ 000 ┆ 81  ┆        ┆       ┆       ┆       ┆ 'Adve ┆ min   ┆       │\n",
       "│     ┆     ┆ egi ┆     ┆ Cen ┆     ┆     ┆        ┆       ┆       ┆       ┆ nture ┆       ┆       │\n",
       "│     ┆     ┆ c   ┆     ┆ tur ┆     ┆     ┆        ┆       ┆       ┆       ┆ ',    ┆       ┆       │\n",
       "│     ┆     ┆ Mar ┆     ┆ y   ┆     ┆     ┆        ┆       ┆       ┆       ┆ 'Fant ┆       ┆       │\n",
       "│     ┆     ┆ ine ┆     ┆ Fox ┆     ┆     ┆        ┆       ┆       ┆       ┆ a…    ┆       ┆       │\n",
       "│     ┆     ┆ dis ┆     ┆     ┆     ┆     ┆        ┆       ┆       ┆       ┆       ┆       ┆       │\n",
       "│     ┆     ┆ pat ┆     ┆     ┆     ┆     ┆        ┆       ┆       ┆       ┆       ┆       ┆       │\n",
       "│     ┆     ┆ che ┆     ┆     ┆     ┆     ┆        ┆       ┆       ┆       ┆       ┆       ┆       │\n",
       "│     ┆     ┆ d…  ┆     ┆     ┆     ┆     ┆        ┆       ┆       ┆       ┆       ┆       ┆       │\n",
       "│ 1   ┆ Ave ┆ Aft ┆ 201 ┆ Wal ┆ 356 ┆ 357 ┆ 858373 ┆ 19410 ┆ 27994 ┆ 24-Ap ┆ ['Act ┆ 3 hr  ┆ PG-13 │\n",
       "│     ┆ nge ┆ er  ┆ 9   ┆ t   ┆ 000 ┆ 115 ┆ 000    ┆ 66100 ┆ 39100 ┆ r-19  ┆ ion', ┆ 1 min ┆       │\n",
       "│     ┆ rs: ┆ the ┆     ┆ Dis ┆ 000 ┆ 007 ┆        ┆       ┆       ┆       ┆ 'Adve ┆       ┆       │\n",
       "│     ┆ End ┆ dev ┆     ┆ ney ┆     ┆     ┆        ┆       ┆       ┆       ┆ nture ┆       ┆       │\n",
       "│     ┆ gam ┆ ast ┆     ┆ Stu ┆     ┆     ┆        ┆       ┆       ┆       ┆ ',    ┆       ┆       │\n",
       "│     ┆ e   ┆ ati ┆     ┆ dio ┆     ┆     ┆        ┆       ┆       ┆       ┆ 'Dram ┆       ┆       │\n",
       "│     ┆     ┆ ng  ┆     ┆ s   ┆     ┆     ┆        ┆       ┆       ┆       ┆ a…    ┆       ┆       │\n",
       "│     ┆     ┆ eve ┆     ┆ Mot ┆     ┆     ┆        ┆       ┆       ┆       ┆       ┆       ┆       │\n",
       "│     ┆     ┆ nts ┆     ┆ ion ┆     ┆     ┆        ┆       ┆       ┆       ┆       ┆       ┆       │\n",
       "│     ┆     ┆ o…  ┆     ┆ Pic ┆     ┆     ┆        ┆       ┆       ┆       ┆       ┆       ┆       │\n",
       "│     ┆     ┆     ┆     ┆ …   ┆     ┆     ┆        ┆       ┆       ┆       ┆       ┆       ┆       │\n",
       "│ 2   ┆ Ava ┆ Jak ┆ 202 ┆ 20t ┆ Dec ┆ 134 ┆ 684075 ┆ 16361 ┆ 23202 ┆ 24-Ap ┆ ['Act ┆ 3 hr  ┆ PG-13 │\n",
       "│     ┆ tar ┆ e   ┆ 2   ┆ h   ┆ emb ┆ 100 ┆ 767    ┆ 74514 ┆ 50281 ┆ r-19  ┆ ion', ┆ 1 min ┆       │\n",
       "│     ┆ :   ┆ Sul ┆     ┆ Cen ┆ er  ┆ 226 ┆        ┆       ┆       ┆       ┆ 'Adve ┆       ┆       │\n",
       "│     ┆ The ┆ ly  ┆     ┆ tur ┆ 14  ┆     ┆        ┆       ┆       ┆       ┆ nture ┆       ┆       │\n",
       "│     ┆ Way ┆ liv ┆     ┆ y   ┆ 202 ┆     ┆        ┆       ┆       ┆       ┆ ',    ┆       ┆       │\n",
       "│     ┆ of  ┆ es  ┆     ┆ Stu ┆ 2   ┆     ┆        ┆       ┆       ┆       ┆ 'Dram ┆       ┆       │\n",
       "│     ┆ Wat ┆ wit ┆     ┆ dio ┆ (EM ┆     ┆        ┆       ┆       ┆       ┆ a…    ┆       ┆       │\n",
       "│     ┆ er  ┆ h   ┆     ┆ s   ┆ EA  ┆     ┆        ┆       ┆       ┆       ┆       ┆       ┆       │\n",
       "│     ┆     ┆ his ┆     ┆     ┆ APA ┆     ┆        ┆       ┆       ┆       ┆       ┆       ┆       │\n",
       "│     ┆     ┆ new ┆     ┆     ┆ C)  ┆     ┆        ┆       ┆       ┆       ┆       ┆       ┆       │\n",
       "│     ┆     ┆ f…  ┆     ┆     ┆     ┆     ┆        ┆       ┆       ┆       ┆       ┆       ┆       │\n",
       "│ 3   ┆ Tit ┆ A   ┆ 199 ┆ Par ┆ 200 ┆ 286 ┆ 674292 ┆ 15904 ┆ 22647 ┆ 19-De ┆ ['Dra ┆ 3 hr  ┆ PG-13 │\n",
       "│     ┆ ani ┆ sev ┆ 7   ┆ amo ┆ 000 ┆ 381 ┆ 608    ┆ 50697 ┆ 43305 ┆ c-97  ┆ ma',  ┆ 14    ┆       │\n",
       "│     ┆ c   ┆ ent ┆     ┆ unt ┆ 000 ┆ 31  ┆        ┆       ┆       ┆       ┆ 'Roma ┆ min   ┆       │\n",
       "│     ┆     ┆ een ┆     ┆ Pic ┆     ┆     ┆        ┆       ┆       ┆       ┆ nce'] ┆       ┆       │\n",
       "│     ┆     ┆ -ye ┆     ┆ tur ┆     ┆     ┆        ┆       ┆       ┆       ┆       ┆       ┆       │\n",
       "│     ┆     ┆ ar- ┆     ┆ es  ┆     ┆     ┆        ┆       ┆       ┆       ┆       ┆       ┆       │\n",
       "│     ┆     ┆ old ┆     ┆     ┆     ┆     ┆        ┆       ┆       ┆       ┆       ┆       ┆       │\n",
       "│     ┆     ┆ ari ┆     ┆     ┆     ┆     ┆        ┆       ┆       ┆       ┆       ┆       ┆       │\n",
       "│     ┆     ┆ sto ┆     ┆     ┆     ┆     ┆        ┆       ┆       ┆       ┆       ┆       ┆       │\n",
       "│     ┆     ┆ cra ┆     ┆     ┆     ┆     ┆        ┆       ┆       ┆       ┆       ┆       ┆       │\n",
       "│     ┆     ┆ …   ┆     ┆     ┆     ┆     ┆        ┆       ┆       ┆       ┆       ┆       ┆       │\n",
       "│ 4   ┆ Sta ┆ As  ┆ 201 ┆ Wal ┆ 245 ┆ 247 ┆ 936662 ┆ 11346 ┆ 20713 ┆ 16-De ┆ ['Act ┆ 2 hr  ┆ PG-13 │\n",
       "│     ┆ r   ┆ a   ┆ 5   ┆ t   ┆ 000 ┆ 966 ┆ 225    ┆ 47993 ┆ 10218 ┆ c-15  ┆ ion', ┆ 18    ┆       │\n",
       "│     ┆ War ┆ new ┆     ┆ Dis ┆ 000 ┆ 675 ┆        ┆       ┆       ┆       ┆ 'Adve ┆ min   ┆       │\n",
       "│     ┆ s:  ┆ thr ┆     ┆ ney ┆     ┆     ┆        ┆       ┆       ┆       ┆ nture ┆       ┆       │\n",
       "│     ┆ Epi ┆ eat ┆     ┆ Stu ┆     ┆     ┆        ┆       ┆       ┆       ┆ ',    ┆       ┆       │\n",
       "│     ┆ sod ┆ to  ┆     ┆ dio ┆     ┆     ┆        ┆       ┆       ┆       ┆ 'Sci- ┆       ┆       │\n",
       "│     ┆ e   ┆ the ┆     ┆ s   ┆     ┆     ┆        ┆       ┆       ┆       ┆ F…    ┆       ┆       │\n",
       "│     ┆ VII ┆ gal ┆     ┆ Mot ┆     ┆     ┆        ┆       ┆       ┆       ┆       ┆       ┆       │\n",
       "│     ┆ -   ┆ axy ┆     ┆ ion ┆     ┆     ┆        ┆       ┆       ┆       ┆       ┆       ┆       │\n",
       "│     ┆ The ┆ …   ┆     ┆ Pic ┆     ┆     ┆        ┆       ┆       ┆       ┆       ┆       ┆       │\n",
       "│     ┆ F…  ┆     ┆     ┆ …   ┆     ┆     ┆        ┆       ┆       ┆       ┆       ┆       ┆       │\n",
       "└─────┴─────┴─────┴─────┴─────┴─────┴─────┴────────┴───────┴───────┴───────┴───────┴───────┴───────┘"
      ]
     },
     "execution_count": 144,
     "metadata": {},
     "output_type": "execute_result"
    }
   ],
   "source": [
    "df = pl.read_csv(\"Movies.csv\")\n",
    "df.head()"
   ]
  },
  {
   "cell_type": "code",
   "execution_count": 145,
   "metadata": {},
   "outputs": [],
   "source": [
    "df = df.rename({\"\" : \"idx\"})"
   ]
  },
  {
   "cell_type": "code",
   "execution_count": 146,
   "metadata": {},
   "outputs": [
    {
     "data": {
      "text/html": [
       "<div><style>\n",
       ".dataframe > thead > tr,\n",
       ".dataframe > tbody > tr {\n",
       "  text-align: right;\n",
       "  white-space: pre-wrap;\n",
       "}\n",
       "</style>\n",
       "<small>shape: (5, 14)</small><table border=\"1\" class=\"dataframe\"><thead><tr><th>idx</th><th>Title</th><th>Movie Info</th><th>Year</th><th>Distributor</th><th>Budget (in $)</th><th>Domestic Opening (in $)</th><th>Domestic Sales (in $)</th><th>International Sales (in $)</th><th>World Wide Sales (in $)</th><th>Release Date</th><th>Genre</th><th>Running Time</th><th>License</th></tr><tr><td>i64</td><td>str</td><td>str</td><td>i64</td><td>str</td><td>str</td><td>str</td><td>i64</td><td>i64</td><td>i64</td><td>str</td><td>str</td><td>str</td><td>str</td></tr></thead><tbody><tr><td>0</td><td>&quot;Avatar&quot;</td><td>&quot;A paraplegic Marine dispatched…</td><td>2009</td><td>&quot;Twentieth Century Fox&quot;</td><td>&quot;237000000&quot;</td><td>&quot;77025481&quot;</td><td>785221649</td><td>2138484377</td><td>2923706026</td><td>&quot;16-Dec-09&quot;</td><td>&quot;[&#x27;Action&#x27;, &#x27;Adventure&#x27;, &#x27;Fanta…</td><td>&quot;2 hr 42 min&quot;</td><td>&quot;PG-13&quot;</td></tr><tr><td>1</td><td>&quot;Avengers: Endgame&quot;</td><td>&quot;After the devastating events o…</td><td>2019</td><td>&quot;Walt Disney Studios Motion Pic…</td><td>&quot;356000000&quot;</td><td>&quot;357115007&quot;</td><td>858373000</td><td>1941066100</td><td>2799439100</td><td>&quot;24-Apr-19&quot;</td><td>&quot;[&#x27;Action&#x27;, &#x27;Adventure&#x27;, &#x27;Drama…</td><td>&quot;3 hr 1 min&quot;</td><td>&quot;PG-13&quot;</td></tr><tr><td>2</td><td>&quot;Avatar: The Way of Water&quot;</td><td>&quot;Jake Sully lives with his newf…</td><td>2022</td><td>&quot;20th Century Studios&quot;</td><td>&quot;December 14 2022 (EMEA APAC)&quot;</td><td>&quot;134100226&quot;</td><td>684075767</td><td>1636174514</td><td>2320250281</td><td>&quot;24-Apr-19&quot;</td><td>&quot;[&#x27;Action&#x27;, &#x27;Adventure&#x27;, &#x27;Drama…</td><td>&quot;3 hr 1 min&quot;</td><td>&quot;PG-13&quot;</td></tr><tr><td>3</td><td>&quot;Titanic&quot;</td><td>&quot;A seventeen-year-old aristocra…</td><td>1997</td><td>&quot;Paramount Pictures&quot;</td><td>&quot;200000000&quot;</td><td>&quot;28638131&quot;</td><td>674292608</td><td>1590450697</td><td>2264743305</td><td>&quot;19-Dec-97&quot;</td><td>&quot;[&#x27;Drama&#x27;, &#x27;Romance&#x27;]&quot;</td><td>&quot;3 hr 14 min&quot;</td><td>&quot;PG-13&quot;</td></tr><tr><td>4</td><td>&quot;Star Wars: Episode VII - The F…</td><td>&quot;As a new threat to the galaxy …</td><td>2015</td><td>&quot;Walt Disney Studios Motion Pic…</td><td>&quot;245000000&quot;</td><td>&quot;247966675&quot;</td><td>936662225</td><td>1134647993</td><td>2071310218</td><td>&quot;16-Dec-15&quot;</td><td>&quot;[&#x27;Action&#x27;, &#x27;Adventure&#x27;, &#x27;Sci-F…</td><td>&quot;2 hr 18 min&quot;</td><td>&quot;PG-13&quot;</td></tr></tbody></table></div>"
      ],
      "text/plain": [
       "shape: (5, 14)\n",
       "┌─────┬─────┬─────┬─────┬─────┬─────┬─────┬────────┬───────┬───────┬───────┬───────┬───────┬───────┐\n",
       "│ idx ┆ Tit ┆ Mov ┆ Yea ┆ Dis ┆ Bud ┆ Dom ┆ Domest ┆ Inter ┆ World ┆ Relea ┆ Genre ┆ Runni ┆ Licen │\n",
       "│ --- ┆ le  ┆ ie  ┆ r   ┆ tri ┆ get ┆ est ┆ ic     ┆ natio ┆ Wide  ┆ se    ┆ ---   ┆ ng    ┆ se    │\n",
       "│ i64 ┆ --- ┆ Inf ┆ --- ┆ but ┆ (in ┆ ic  ┆ Sales  ┆ nal   ┆ Sales ┆ Date  ┆ str   ┆ Time  ┆ ---   │\n",
       "│     ┆ str ┆ o   ┆ i64 ┆ or  ┆ $)  ┆ Ope ┆ (in $) ┆ Sales ┆ (in   ┆ ---   ┆       ┆ ---   ┆ str   │\n",
       "│     ┆     ┆ --- ┆     ┆ --- ┆ --- ┆ nin ┆ ---    ┆ (in   ┆ $)    ┆ str   ┆       ┆ str   ┆       │\n",
       "│     ┆     ┆ str ┆     ┆ str ┆ str ┆ g   ┆ i64    ┆ $)    ┆ ---   ┆       ┆       ┆       ┆       │\n",
       "│     ┆     ┆     ┆     ┆     ┆     ┆ (in ┆        ┆ ---   ┆ i64   ┆       ┆       ┆       ┆       │\n",
       "│     ┆     ┆     ┆     ┆     ┆     ┆ $)  ┆        ┆ i64   ┆       ┆       ┆       ┆       ┆       │\n",
       "│     ┆     ┆     ┆     ┆     ┆     ┆ --- ┆        ┆       ┆       ┆       ┆       ┆       ┆       │\n",
       "│     ┆     ┆     ┆     ┆     ┆     ┆ str ┆        ┆       ┆       ┆       ┆       ┆       ┆       │\n",
       "╞═════╪═════╪═════╪═════╪═════╪═════╪═════╪════════╪═══════╪═══════╪═══════╪═══════╪═══════╪═══════╡\n",
       "│ 0   ┆ Ava ┆ A   ┆ 200 ┆ Twe ┆ 237 ┆ 770 ┆ 785221 ┆ 21384 ┆ 29237 ┆ 16-De ┆ ['Act ┆ 2 hr  ┆ PG-13 │\n",
       "│     ┆ tar ┆ par ┆ 9   ┆ nti ┆ 000 ┆ 254 ┆ 649    ┆ 84377 ┆ 06026 ┆ c-09  ┆ ion', ┆ 42    ┆       │\n",
       "│     ┆     ┆ apl ┆     ┆ eth ┆ 000 ┆ 81  ┆        ┆       ┆       ┆       ┆ 'Adve ┆ min   ┆       │\n",
       "│     ┆     ┆ egi ┆     ┆ Cen ┆     ┆     ┆        ┆       ┆       ┆       ┆ nture ┆       ┆       │\n",
       "│     ┆     ┆ c   ┆     ┆ tur ┆     ┆     ┆        ┆       ┆       ┆       ┆ ',    ┆       ┆       │\n",
       "│     ┆     ┆ Mar ┆     ┆ y   ┆     ┆     ┆        ┆       ┆       ┆       ┆ 'Fant ┆       ┆       │\n",
       "│     ┆     ┆ ine ┆     ┆ Fox ┆     ┆     ┆        ┆       ┆       ┆       ┆ a…    ┆       ┆       │\n",
       "│     ┆     ┆ dis ┆     ┆     ┆     ┆     ┆        ┆       ┆       ┆       ┆       ┆       ┆       │\n",
       "│     ┆     ┆ pat ┆     ┆     ┆     ┆     ┆        ┆       ┆       ┆       ┆       ┆       ┆       │\n",
       "│     ┆     ┆ che ┆     ┆     ┆     ┆     ┆        ┆       ┆       ┆       ┆       ┆       ┆       │\n",
       "│     ┆     ┆ d…  ┆     ┆     ┆     ┆     ┆        ┆       ┆       ┆       ┆       ┆       ┆       │\n",
       "│ 1   ┆ Ave ┆ Aft ┆ 201 ┆ Wal ┆ 356 ┆ 357 ┆ 858373 ┆ 19410 ┆ 27994 ┆ 24-Ap ┆ ['Act ┆ 3 hr  ┆ PG-13 │\n",
       "│     ┆ nge ┆ er  ┆ 9   ┆ t   ┆ 000 ┆ 115 ┆ 000    ┆ 66100 ┆ 39100 ┆ r-19  ┆ ion', ┆ 1 min ┆       │\n",
       "│     ┆ rs: ┆ the ┆     ┆ Dis ┆ 000 ┆ 007 ┆        ┆       ┆       ┆       ┆ 'Adve ┆       ┆       │\n",
       "│     ┆ End ┆ dev ┆     ┆ ney ┆     ┆     ┆        ┆       ┆       ┆       ┆ nture ┆       ┆       │\n",
       "│     ┆ gam ┆ ast ┆     ┆ Stu ┆     ┆     ┆        ┆       ┆       ┆       ┆ ',    ┆       ┆       │\n",
       "│     ┆ e   ┆ ati ┆     ┆ dio ┆     ┆     ┆        ┆       ┆       ┆       ┆ 'Dram ┆       ┆       │\n",
       "│     ┆     ┆ ng  ┆     ┆ s   ┆     ┆     ┆        ┆       ┆       ┆       ┆ a…    ┆       ┆       │\n",
       "│     ┆     ┆ eve ┆     ┆ Mot ┆     ┆     ┆        ┆       ┆       ┆       ┆       ┆       ┆       │\n",
       "│     ┆     ┆ nts ┆     ┆ ion ┆     ┆     ┆        ┆       ┆       ┆       ┆       ┆       ┆       │\n",
       "│     ┆     ┆ o…  ┆     ┆ Pic ┆     ┆     ┆        ┆       ┆       ┆       ┆       ┆       ┆       │\n",
       "│     ┆     ┆     ┆     ┆ …   ┆     ┆     ┆        ┆       ┆       ┆       ┆       ┆       ┆       │\n",
       "│ 2   ┆ Ava ┆ Jak ┆ 202 ┆ 20t ┆ Dec ┆ 134 ┆ 684075 ┆ 16361 ┆ 23202 ┆ 24-Ap ┆ ['Act ┆ 3 hr  ┆ PG-13 │\n",
       "│     ┆ tar ┆ e   ┆ 2   ┆ h   ┆ emb ┆ 100 ┆ 767    ┆ 74514 ┆ 50281 ┆ r-19  ┆ ion', ┆ 1 min ┆       │\n",
       "│     ┆ :   ┆ Sul ┆     ┆ Cen ┆ er  ┆ 226 ┆        ┆       ┆       ┆       ┆ 'Adve ┆       ┆       │\n",
       "│     ┆ The ┆ ly  ┆     ┆ tur ┆ 14  ┆     ┆        ┆       ┆       ┆       ┆ nture ┆       ┆       │\n",
       "│     ┆ Way ┆ liv ┆     ┆ y   ┆ 202 ┆     ┆        ┆       ┆       ┆       ┆ ',    ┆       ┆       │\n",
       "│     ┆ of  ┆ es  ┆     ┆ Stu ┆ 2   ┆     ┆        ┆       ┆       ┆       ┆ 'Dram ┆       ┆       │\n",
       "│     ┆ Wat ┆ wit ┆     ┆ dio ┆ (EM ┆     ┆        ┆       ┆       ┆       ┆ a…    ┆       ┆       │\n",
       "│     ┆ er  ┆ h   ┆     ┆ s   ┆ EA  ┆     ┆        ┆       ┆       ┆       ┆       ┆       ┆       │\n",
       "│     ┆     ┆ his ┆     ┆     ┆ APA ┆     ┆        ┆       ┆       ┆       ┆       ┆       ┆       │\n",
       "│     ┆     ┆ new ┆     ┆     ┆ C)  ┆     ┆        ┆       ┆       ┆       ┆       ┆       ┆       │\n",
       "│     ┆     ┆ f…  ┆     ┆     ┆     ┆     ┆        ┆       ┆       ┆       ┆       ┆       ┆       │\n",
       "│ 3   ┆ Tit ┆ A   ┆ 199 ┆ Par ┆ 200 ┆ 286 ┆ 674292 ┆ 15904 ┆ 22647 ┆ 19-De ┆ ['Dra ┆ 3 hr  ┆ PG-13 │\n",
       "│     ┆ ani ┆ sev ┆ 7   ┆ amo ┆ 000 ┆ 381 ┆ 608    ┆ 50697 ┆ 43305 ┆ c-97  ┆ ma',  ┆ 14    ┆       │\n",
       "│     ┆ c   ┆ ent ┆     ┆ unt ┆ 000 ┆ 31  ┆        ┆       ┆       ┆       ┆ 'Roma ┆ min   ┆       │\n",
       "│     ┆     ┆ een ┆     ┆ Pic ┆     ┆     ┆        ┆       ┆       ┆       ┆ nce'] ┆       ┆       │\n",
       "│     ┆     ┆ -ye ┆     ┆ tur ┆     ┆     ┆        ┆       ┆       ┆       ┆       ┆       ┆       │\n",
       "│     ┆     ┆ ar- ┆     ┆ es  ┆     ┆     ┆        ┆       ┆       ┆       ┆       ┆       ┆       │\n",
       "│     ┆     ┆ old ┆     ┆     ┆     ┆     ┆        ┆       ┆       ┆       ┆       ┆       ┆       │\n",
       "│     ┆     ┆ ari ┆     ┆     ┆     ┆     ┆        ┆       ┆       ┆       ┆       ┆       ┆       │\n",
       "│     ┆     ┆ sto ┆     ┆     ┆     ┆     ┆        ┆       ┆       ┆       ┆       ┆       ┆       │\n",
       "│     ┆     ┆ cra ┆     ┆     ┆     ┆     ┆        ┆       ┆       ┆       ┆       ┆       ┆       │\n",
       "│     ┆     ┆ …   ┆     ┆     ┆     ┆     ┆        ┆       ┆       ┆       ┆       ┆       ┆       │\n",
       "│ 4   ┆ Sta ┆ As  ┆ 201 ┆ Wal ┆ 245 ┆ 247 ┆ 936662 ┆ 11346 ┆ 20713 ┆ 16-De ┆ ['Act ┆ 2 hr  ┆ PG-13 │\n",
       "│     ┆ r   ┆ a   ┆ 5   ┆ t   ┆ 000 ┆ 966 ┆ 225    ┆ 47993 ┆ 10218 ┆ c-15  ┆ ion', ┆ 18    ┆       │\n",
       "│     ┆ War ┆ new ┆     ┆ Dis ┆ 000 ┆ 675 ┆        ┆       ┆       ┆       ┆ 'Adve ┆ min   ┆       │\n",
       "│     ┆ s:  ┆ thr ┆     ┆ ney ┆     ┆     ┆        ┆       ┆       ┆       ┆ nture ┆       ┆       │\n",
       "│     ┆ Epi ┆ eat ┆     ┆ Stu ┆     ┆     ┆        ┆       ┆       ┆       ┆ ',    ┆       ┆       │\n",
       "│     ┆ sod ┆ to  ┆     ┆ dio ┆     ┆     ┆        ┆       ┆       ┆       ┆ 'Sci- ┆       ┆       │\n",
       "│     ┆ e   ┆ the ┆     ┆ s   ┆     ┆     ┆        ┆       ┆       ┆       ┆ F…    ┆       ┆       │\n",
       "│     ┆ VII ┆ gal ┆     ┆ Mot ┆     ┆     ┆        ┆       ┆       ┆       ┆       ┆       ┆       │\n",
       "│     ┆ -   ┆ axy ┆     ┆ ion ┆     ┆     ┆        ┆       ┆       ┆       ┆       ┆       ┆       │\n",
       "│     ┆ The ┆ …   ┆     ┆ Pic ┆     ┆     ┆        ┆       ┆       ┆       ┆       ┆       ┆       │\n",
       "│     ┆ F…  ┆     ┆     ┆ …   ┆     ┆     ┆        ┆       ┆       ┆       ┆       ┆       ┆       │\n",
       "└─────┴─────┴─────┴─────┴─────┴─────┴─────┴────────┴───────┴───────┴───────┴───────┴───────┴───────┘"
      ]
     },
     "execution_count": 146,
     "metadata": {},
     "output_type": "execute_result"
    }
   ],
   "source": [
    "df.head()"
   ]
  },
  {
   "cell_type": "markdown",
   "metadata": {},
   "source": [
    "#### Handling string values in integer columns"
   ]
  },
  {
   "cell_type": "code",
   "execution_count": 147,
   "metadata": {},
   "outputs": [
    {
     "data": {
      "text/html": [
       "<div><style>\n",
       ".dataframe > thead > tr,\n",
       ".dataframe > tbody > tr {\n",
       "  text-align: right;\n",
       "  white-space: pre-wrap;\n",
       "}\n",
       "</style>\n",
       "<small>shape: (215,)</small><table border=\"1\" class=\"dataframe\"><thead><tr><th>Budget (in $)</th></tr><tr><td>str</td></tr></thead><tbody><tr><td>&quot;December 14 2022 (EMEA APAC)&quot;</td></tr><tr><td>&quot;April 25 2018 (APAC EMEA)&quot;</td></tr><tr><td>&quot;December 15 2021 (14 markets)&quot;</td></tr><tr><td>&quot;May 20 2022 (Iceland)&quot;</td></tr><tr><td>&quot;July 19 2023 (EMEA APAC)&quot;</td></tr><tr><td>&hellip;</td></tr><tr><td>&quot;November 15 1991 (Domestic)&quot;</td></tr><tr><td>&quot;September 20 1996 (Domestic)&quot;</td></tr><tr><td>&quot;April 29 2021 (New Zealand)&quot;</td></tr><tr><td>&quot;March 26 2004 (10 markets)&quot;</td></tr><tr><td>&quot;December 28 2022 (EMEA)&quot;</td></tr></tbody></table></div>"
      ],
      "text/plain": [
       "shape: (215,)\n",
       "Series: 'Budget (in $)' [str]\n",
       "[\n",
       "\t\"December 14 2022 (EMEA APAC)\"\n",
       "\t\"April 25 2018 (APAC EMEA)\"\n",
       "\t\"December 15 2021 (14 markets)\"\n",
       "\t\"May 20 2022 (Iceland)\"\n",
       "\t\"July 19 2023 (EMEA APAC)\"\n",
       "\t…\n",
       "\t\"November 15 1991 (Domestic)\"\n",
       "\t\"September 20 1996 (Domestic)\"\n",
       "\t\"April 29 2021 (New Zealand)\"\n",
       "\t\"March 26 2004 (10 markets)\"\n",
       "\t\"December 28 2022 (EMEA)\"\n",
       "]"
      ]
     },
     "execution_count": 147,
     "metadata": {},
     "output_type": "execute_result"
    }
   ],
   "source": [
    "df.filter(\n",
    "    pl.col(\"Budget (in $)\").str.contains(r\"\\D\")\n",
    ")[\"Budget (in $)\"]"
   ]
  },
  {
   "cell_type": "code",
   "execution_count": 148,
   "metadata": {},
   "outputs": [],
   "source": [
    "df = df.with_columns(\n",
    "    pl.when(pl.col(\"Budget (in $)\").str.contains(r\"\\D\"))\n",
    "    .then(None)\n",
    "    .otherwise(\"Budget (in $)\")\n",
    "    .alias(\"Budget (in $)\")\n",
    ")\n",
    "\n",
    "df = df.with_columns(\n",
    "    pl.col(\"Budget (in $)\").cast(pl.Int64)\n",
    ")\n"
   ]
  },
  {
   "cell_type": "code",
   "execution_count": 149,
   "metadata": {},
   "outputs": [
    {
     "data": {
      "text/html": [
       "<div><style>\n",
       ".dataframe > thead > tr,\n",
       ".dataframe > tbody > tr {\n",
       "  text-align: right;\n",
       "  white-space: pre-wrap;\n",
       "}\n",
       "</style>\n",
       "<small>shape: (5, 14)</small><table border=\"1\" class=\"dataframe\"><thead><tr><th>idx</th><th>Title</th><th>Movie Info</th><th>Year</th><th>Distributor</th><th>Budget (in $)</th><th>Domestic Opening (in $)</th><th>Domestic Sales (in $)</th><th>International Sales (in $)</th><th>World Wide Sales (in $)</th><th>Release Date</th><th>Genre</th><th>Running Time</th><th>License</th></tr><tr><td>i64</td><td>str</td><td>str</td><td>i64</td><td>str</td><td>i64</td><td>str</td><td>i64</td><td>i64</td><td>i64</td><td>str</td><td>str</td><td>str</td><td>str</td></tr></thead><tbody><tr><td>0</td><td>&quot;Avatar&quot;</td><td>&quot;A paraplegic Marine dispatched…</td><td>2009</td><td>&quot;Twentieth Century Fox&quot;</td><td>237000000</td><td>&quot;77025481&quot;</td><td>785221649</td><td>2138484377</td><td>2923706026</td><td>&quot;16-Dec-09&quot;</td><td>&quot;[&#x27;Action&#x27;, &#x27;Adventure&#x27;, &#x27;Fanta…</td><td>&quot;2 hr 42 min&quot;</td><td>&quot;PG-13&quot;</td></tr><tr><td>1</td><td>&quot;Avengers: Endgame&quot;</td><td>&quot;After the devastating events o…</td><td>2019</td><td>&quot;Walt Disney Studios Motion Pic…</td><td>356000000</td><td>&quot;357115007&quot;</td><td>858373000</td><td>1941066100</td><td>2799439100</td><td>&quot;24-Apr-19&quot;</td><td>&quot;[&#x27;Action&#x27;, &#x27;Adventure&#x27;, &#x27;Drama…</td><td>&quot;3 hr 1 min&quot;</td><td>&quot;PG-13&quot;</td></tr><tr><td>2</td><td>&quot;Avatar: The Way of Water&quot;</td><td>&quot;Jake Sully lives with his newf…</td><td>2022</td><td>&quot;20th Century Studios&quot;</td><td>null</td><td>&quot;134100226&quot;</td><td>684075767</td><td>1636174514</td><td>2320250281</td><td>&quot;24-Apr-19&quot;</td><td>&quot;[&#x27;Action&#x27;, &#x27;Adventure&#x27;, &#x27;Drama…</td><td>&quot;3 hr 1 min&quot;</td><td>&quot;PG-13&quot;</td></tr><tr><td>3</td><td>&quot;Titanic&quot;</td><td>&quot;A seventeen-year-old aristocra…</td><td>1997</td><td>&quot;Paramount Pictures&quot;</td><td>200000000</td><td>&quot;28638131&quot;</td><td>674292608</td><td>1590450697</td><td>2264743305</td><td>&quot;19-Dec-97&quot;</td><td>&quot;[&#x27;Drama&#x27;, &#x27;Romance&#x27;]&quot;</td><td>&quot;3 hr 14 min&quot;</td><td>&quot;PG-13&quot;</td></tr><tr><td>4</td><td>&quot;Star Wars: Episode VII - The F…</td><td>&quot;As a new threat to the galaxy …</td><td>2015</td><td>&quot;Walt Disney Studios Motion Pic…</td><td>245000000</td><td>&quot;247966675&quot;</td><td>936662225</td><td>1134647993</td><td>2071310218</td><td>&quot;16-Dec-15&quot;</td><td>&quot;[&#x27;Action&#x27;, &#x27;Adventure&#x27;, &#x27;Sci-F…</td><td>&quot;2 hr 18 min&quot;</td><td>&quot;PG-13&quot;</td></tr></tbody></table></div>"
      ],
      "text/plain": [
       "shape: (5, 14)\n",
       "┌─────┬─────┬─────┬─────┬─────┬─────┬─────┬────────┬───────┬───────┬───────┬───────┬───────┬───────┐\n",
       "│ idx ┆ Tit ┆ Mov ┆ Yea ┆ Dis ┆ Bud ┆ Dom ┆ Domest ┆ Inter ┆ World ┆ Relea ┆ Genre ┆ Runni ┆ Licen │\n",
       "│ --- ┆ le  ┆ ie  ┆ r   ┆ tri ┆ get ┆ est ┆ ic     ┆ natio ┆ Wide  ┆ se    ┆ ---   ┆ ng    ┆ se    │\n",
       "│ i64 ┆ --- ┆ Inf ┆ --- ┆ but ┆ (in ┆ ic  ┆ Sales  ┆ nal   ┆ Sales ┆ Date  ┆ str   ┆ Time  ┆ ---   │\n",
       "│     ┆ str ┆ o   ┆ i64 ┆ or  ┆ $)  ┆ Ope ┆ (in $) ┆ Sales ┆ (in   ┆ ---   ┆       ┆ ---   ┆ str   │\n",
       "│     ┆     ┆ --- ┆     ┆ --- ┆ --- ┆ nin ┆ ---    ┆ (in   ┆ $)    ┆ str   ┆       ┆ str   ┆       │\n",
       "│     ┆     ┆ str ┆     ┆ str ┆ i64 ┆ g   ┆ i64    ┆ $)    ┆ ---   ┆       ┆       ┆       ┆       │\n",
       "│     ┆     ┆     ┆     ┆     ┆     ┆ (in ┆        ┆ ---   ┆ i64   ┆       ┆       ┆       ┆       │\n",
       "│     ┆     ┆     ┆     ┆     ┆     ┆ $)  ┆        ┆ i64   ┆       ┆       ┆       ┆       ┆       │\n",
       "│     ┆     ┆     ┆     ┆     ┆     ┆ --- ┆        ┆       ┆       ┆       ┆       ┆       ┆       │\n",
       "│     ┆     ┆     ┆     ┆     ┆     ┆ str ┆        ┆       ┆       ┆       ┆       ┆       ┆       │\n",
       "╞═════╪═════╪═════╪═════╪═════╪═════╪═════╪════════╪═══════╪═══════╪═══════╪═══════╪═══════╪═══════╡\n",
       "│ 0   ┆ Ava ┆ A   ┆ 200 ┆ Twe ┆ 237 ┆ 770 ┆ 785221 ┆ 21384 ┆ 29237 ┆ 16-De ┆ ['Act ┆ 2 hr  ┆ PG-13 │\n",
       "│     ┆ tar ┆ par ┆ 9   ┆ nti ┆ 000 ┆ 254 ┆ 649    ┆ 84377 ┆ 06026 ┆ c-09  ┆ ion', ┆ 42    ┆       │\n",
       "│     ┆     ┆ apl ┆     ┆ eth ┆ 000 ┆ 81  ┆        ┆       ┆       ┆       ┆ 'Adve ┆ min   ┆       │\n",
       "│     ┆     ┆ egi ┆     ┆ Cen ┆     ┆     ┆        ┆       ┆       ┆       ┆ nture ┆       ┆       │\n",
       "│     ┆     ┆ c   ┆     ┆ tur ┆     ┆     ┆        ┆       ┆       ┆       ┆ ',    ┆       ┆       │\n",
       "│     ┆     ┆ Mar ┆     ┆ y   ┆     ┆     ┆        ┆       ┆       ┆       ┆ 'Fant ┆       ┆       │\n",
       "│     ┆     ┆ ine ┆     ┆ Fox ┆     ┆     ┆        ┆       ┆       ┆       ┆ a…    ┆       ┆       │\n",
       "│     ┆     ┆ dis ┆     ┆     ┆     ┆     ┆        ┆       ┆       ┆       ┆       ┆       ┆       │\n",
       "│     ┆     ┆ pat ┆     ┆     ┆     ┆     ┆        ┆       ┆       ┆       ┆       ┆       ┆       │\n",
       "│     ┆     ┆ che ┆     ┆     ┆     ┆     ┆        ┆       ┆       ┆       ┆       ┆       ┆       │\n",
       "│     ┆     ┆ d…  ┆     ┆     ┆     ┆     ┆        ┆       ┆       ┆       ┆       ┆       ┆       │\n",
       "│ 1   ┆ Ave ┆ Aft ┆ 201 ┆ Wal ┆ 356 ┆ 357 ┆ 858373 ┆ 19410 ┆ 27994 ┆ 24-Ap ┆ ['Act ┆ 3 hr  ┆ PG-13 │\n",
       "│     ┆ nge ┆ er  ┆ 9   ┆ t   ┆ 000 ┆ 115 ┆ 000    ┆ 66100 ┆ 39100 ┆ r-19  ┆ ion', ┆ 1 min ┆       │\n",
       "│     ┆ rs: ┆ the ┆     ┆ Dis ┆ 000 ┆ 007 ┆        ┆       ┆       ┆       ┆ 'Adve ┆       ┆       │\n",
       "│     ┆ End ┆ dev ┆     ┆ ney ┆     ┆     ┆        ┆       ┆       ┆       ┆ nture ┆       ┆       │\n",
       "│     ┆ gam ┆ ast ┆     ┆ Stu ┆     ┆     ┆        ┆       ┆       ┆       ┆ ',    ┆       ┆       │\n",
       "│     ┆ e   ┆ ati ┆     ┆ dio ┆     ┆     ┆        ┆       ┆       ┆       ┆ 'Dram ┆       ┆       │\n",
       "│     ┆     ┆ ng  ┆     ┆ s   ┆     ┆     ┆        ┆       ┆       ┆       ┆ a…    ┆       ┆       │\n",
       "│     ┆     ┆ eve ┆     ┆ Mot ┆     ┆     ┆        ┆       ┆       ┆       ┆       ┆       ┆       │\n",
       "│     ┆     ┆ nts ┆     ┆ ion ┆     ┆     ┆        ┆       ┆       ┆       ┆       ┆       ┆       │\n",
       "│     ┆     ┆ o…  ┆     ┆ Pic ┆     ┆     ┆        ┆       ┆       ┆       ┆       ┆       ┆       │\n",
       "│     ┆     ┆     ┆     ┆ …   ┆     ┆     ┆        ┆       ┆       ┆       ┆       ┆       ┆       │\n",
       "│ 2   ┆ Ava ┆ Jak ┆ 202 ┆ 20t ┆ nul ┆ 134 ┆ 684075 ┆ 16361 ┆ 23202 ┆ 24-Ap ┆ ['Act ┆ 3 hr  ┆ PG-13 │\n",
       "│     ┆ tar ┆ e   ┆ 2   ┆ h   ┆ l   ┆ 100 ┆ 767    ┆ 74514 ┆ 50281 ┆ r-19  ┆ ion', ┆ 1 min ┆       │\n",
       "│     ┆ :   ┆ Sul ┆     ┆ Cen ┆     ┆ 226 ┆        ┆       ┆       ┆       ┆ 'Adve ┆       ┆       │\n",
       "│     ┆ The ┆ ly  ┆     ┆ tur ┆     ┆     ┆        ┆       ┆       ┆       ┆ nture ┆       ┆       │\n",
       "│     ┆ Way ┆ liv ┆     ┆ y   ┆     ┆     ┆        ┆       ┆       ┆       ┆ ',    ┆       ┆       │\n",
       "│     ┆ of  ┆ es  ┆     ┆ Stu ┆     ┆     ┆        ┆       ┆       ┆       ┆ 'Dram ┆       ┆       │\n",
       "│     ┆ Wat ┆ wit ┆     ┆ dio ┆     ┆     ┆        ┆       ┆       ┆       ┆ a…    ┆       ┆       │\n",
       "│     ┆ er  ┆ h   ┆     ┆ s   ┆     ┆     ┆        ┆       ┆       ┆       ┆       ┆       ┆       │\n",
       "│     ┆     ┆ his ┆     ┆     ┆     ┆     ┆        ┆       ┆       ┆       ┆       ┆       ┆       │\n",
       "│     ┆     ┆ new ┆     ┆     ┆     ┆     ┆        ┆       ┆       ┆       ┆       ┆       ┆       │\n",
       "│     ┆     ┆ f…  ┆     ┆     ┆     ┆     ┆        ┆       ┆       ┆       ┆       ┆       ┆       │\n",
       "│ 3   ┆ Tit ┆ A   ┆ 199 ┆ Par ┆ 200 ┆ 286 ┆ 674292 ┆ 15904 ┆ 22647 ┆ 19-De ┆ ['Dra ┆ 3 hr  ┆ PG-13 │\n",
       "│     ┆ ani ┆ sev ┆ 7   ┆ amo ┆ 000 ┆ 381 ┆ 608    ┆ 50697 ┆ 43305 ┆ c-97  ┆ ma',  ┆ 14    ┆       │\n",
       "│     ┆ c   ┆ ent ┆     ┆ unt ┆ 000 ┆ 31  ┆        ┆       ┆       ┆       ┆ 'Roma ┆ min   ┆       │\n",
       "│     ┆     ┆ een ┆     ┆ Pic ┆     ┆     ┆        ┆       ┆       ┆       ┆ nce'] ┆       ┆       │\n",
       "│     ┆     ┆ -ye ┆     ┆ tur ┆     ┆     ┆        ┆       ┆       ┆       ┆       ┆       ┆       │\n",
       "│     ┆     ┆ ar- ┆     ┆ es  ┆     ┆     ┆        ┆       ┆       ┆       ┆       ┆       ┆       │\n",
       "│     ┆     ┆ old ┆     ┆     ┆     ┆     ┆        ┆       ┆       ┆       ┆       ┆       ┆       │\n",
       "│     ┆     ┆ ari ┆     ┆     ┆     ┆     ┆        ┆       ┆       ┆       ┆       ┆       ┆       │\n",
       "│     ┆     ┆ sto ┆     ┆     ┆     ┆     ┆        ┆       ┆       ┆       ┆       ┆       ┆       │\n",
       "│     ┆     ┆ cra ┆     ┆     ┆     ┆     ┆        ┆       ┆       ┆       ┆       ┆       ┆       │\n",
       "│     ┆     ┆ …   ┆     ┆     ┆     ┆     ┆        ┆       ┆       ┆       ┆       ┆       ┆       │\n",
       "│ 4   ┆ Sta ┆ As  ┆ 201 ┆ Wal ┆ 245 ┆ 247 ┆ 936662 ┆ 11346 ┆ 20713 ┆ 16-De ┆ ['Act ┆ 2 hr  ┆ PG-13 │\n",
       "│     ┆ r   ┆ a   ┆ 5   ┆ t   ┆ 000 ┆ 966 ┆ 225    ┆ 47993 ┆ 10218 ┆ c-15  ┆ ion', ┆ 18    ┆       │\n",
       "│     ┆ War ┆ new ┆     ┆ Dis ┆ 000 ┆ 675 ┆        ┆       ┆       ┆       ┆ 'Adve ┆ min   ┆       │\n",
       "│     ┆ s:  ┆ thr ┆     ┆ ney ┆     ┆     ┆        ┆       ┆       ┆       ┆ nture ┆       ┆       │\n",
       "│     ┆ Epi ┆ eat ┆     ┆ Stu ┆     ┆     ┆        ┆       ┆       ┆       ┆ ',    ┆       ┆       │\n",
       "│     ┆ sod ┆ to  ┆     ┆ dio ┆     ┆     ┆        ┆       ┆       ┆       ┆ 'Sci- ┆       ┆       │\n",
       "│     ┆ e   ┆ the ┆     ┆ s   ┆     ┆     ┆        ┆       ┆       ┆       ┆ F…    ┆       ┆       │\n",
       "│     ┆ VII ┆ gal ┆     ┆ Mot ┆     ┆     ┆        ┆       ┆       ┆       ┆       ┆       ┆       │\n",
       "│     ┆ -   ┆ axy ┆     ┆ ion ┆     ┆     ┆        ┆       ┆       ┆       ┆       ┆       ┆       │\n",
       "│     ┆ The ┆ …   ┆     ┆ Pic ┆     ┆     ┆        ┆       ┆       ┆       ┆       ┆       ┆       │\n",
       "│     ┆ F…  ┆     ┆     ┆ …   ┆     ┆     ┆        ┆       ┆       ┆       ┆       ┆       ┆       │\n",
       "└─────┴─────┴─────┴─────┴─────┴─────┴─────┴────────┴───────┴───────┴───────┴───────┴───────┴───────┘"
      ]
     },
     "execution_count": 149,
     "metadata": {},
     "output_type": "execute_result"
    }
   ],
   "source": [
    "df.head()"
   ]
  },
  {
   "cell_type": "code",
   "execution_count": 150,
   "metadata": {},
   "outputs": [
    {
     "data": {
      "text/html": [
       "<div><style>\n",
       ".dataframe > thead > tr,\n",
       ".dataframe > tbody > tr {\n",
       "  text-align: right;\n",
       "  white-space: pre-wrap;\n",
       "}\n",
       "</style>\n",
       "<small>shape: (28,)</small><table border=\"1\" class=\"dataframe\"><thead><tr><th>Domestic Opening (in $)</th></tr><tr><td>str</td></tr></thead><tbody><tr><td>&quot;2 hr 8 min&quot;</td></tr><tr><td>&quot;February 12 2021 (China)&quot;</td></tr><tr><td>&quot;2 hr 2 min&quot;</td></tr><tr><td>&quot;1 hr 57 min&quot;</td></tr><tr><td>&quot;2 hr 33 min&quot;</td></tr><tr><td>&hellip;</td></tr><tr><td>&quot;2 hr 10 min&quot;</td></tr><tr><td>&quot;1 hr 53 min&quot;</td></tr><tr><td>&quot;1 hr 35 min&quot;</td></tr><tr><td>&quot;1 hr 59 min&quot;</td></tr><tr><td>&quot;1 hr 53 min&quot;</td></tr></tbody></table></div>"
      ],
      "text/plain": [
       "shape: (28,)\n",
       "Series: 'Domestic Opening (in $)' [str]\n",
       "[\n",
       "\t\"2 hr 8 min\"\n",
       "\t\"February 12 2021 (China)\"\n",
       "\t\"2 hr 2 min\"\n",
       "\t\"1 hr 57 min\"\n",
       "\t\"2 hr 33 min\"\n",
       "\t…\n",
       "\t\"2 hr 10 min\"\n",
       "\t\"1 hr 53 min\"\n",
       "\t\"1 hr 35 min\"\n",
       "\t\"1 hr 59 min\"\n",
       "\t\"1 hr 53 min\"\n",
       "]"
      ]
     },
     "execution_count": 150,
     "metadata": {},
     "output_type": "execute_result"
    }
   ],
   "source": [
    "df.filter(\n",
    "    pl.col(\"Domestic Opening (in $)\").str.contains(r\"\\D\")\n",
    ")[\"Domestic Opening (in $)\"]"
   ]
  },
  {
   "cell_type": "code",
   "execution_count": 151,
   "metadata": {},
   "outputs": [],
   "source": [
    "df = df.with_columns(\n",
    "    pl.when(pl.col(\"Domestic Opening (in $)\").str.contains(r\"\\D\"))\n",
    "    .then(None)\n",
    "    .otherwise(\"Domestic Opening (in $)\")\n",
    "    .alias(\"Domestic Opening (in $)\")\n",
    ")\n",
    "\n",
    "df = df.with_columns(\n",
    "    pl.col(\"Domestic Opening (in $)\").cast(pl.Int64)\n",
    ")"
   ]
  },
  {
   "cell_type": "code",
   "execution_count": 153,
   "metadata": {},
   "outputs": [
    {
     "data": {
      "text/html": [
       "<div><style>\n",
       ".dataframe > thead > tr,\n",
       ".dataframe > tbody > tr {\n",
       "  text-align: right;\n",
       "  white-space: pre-wrap;\n",
       "}\n",
       "</style>\n",
       "<small>shape: (5, 14)</small><table border=\"1\" class=\"dataframe\"><thead><tr><th>idx</th><th>Title</th><th>Movie Info</th><th>Year</th><th>Distributor</th><th>Budget (in $)</th><th>Domestic Opening (in $)</th><th>Domestic Sales (in $)</th><th>International Sales (in $)</th><th>World Wide Sales (in $)</th><th>Release Date</th><th>Genre</th><th>Running Time</th><th>License</th></tr><tr><td>i64</td><td>str</td><td>str</td><td>i64</td><td>str</td><td>i64</td><td>i64</td><td>i64</td><td>i64</td><td>i64</td><td>str</td><td>str</td><td>str</td><td>str</td></tr></thead><tbody><tr><td>0</td><td>&quot;Avatar&quot;</td><td>&quot;A paraplegic Marine dispatched…</td><td>2009</td><td>&quot;Twentieth Century Fox&quot;</td><td>237000000</td><td>77025481</td><td>785221649</td><td>2138484377</td><td>2923706026</td><td>&quot;16-Dec-09&quot;</td><td>&quot;[&#x27;Action&#x27;, &#x27;Adventure&#x27;, &#x27;Fanta…</td><td>&quot;2 hr 42 min&quot;</td><td>&quot;PG-13&quot;</td></tr><tr><td>1</td><td>&quot;Avengers: Endgame&quot;</td><td>&quot;After the devastating events o…</td><td>2019</td><td>&quot;Walt Disney Studios Motion Pic…</td><td>356000000</td><td>357115007</td><td>858373000</td><td>1941066100</td><td>2799439100</td><td>&quot;24-Apr-19&quot;</td><td>&quot;[&#x27;Action&#x27;, &#x27;Adventure&#x27;, &#x27;Drama…</td><td>&quot;3 hr 1 min&quot;</td><td>&quot;PG-13&quot;</td></tr><tr><td>2</td><td>&quot;Avatar: The Way of Water&quot;</td><td>&quot;Jake Sully lives with his newf…</td><td>2022</td><td>&quot;20th Century Studios&quot;</td><td>null</td><td>134100226</td><td>684075767</td><td>1636174514</td><td>2320250281</td><td>&quot;24-Apr-19&quot;</td><td>&quot;[&#x27;Action&#x27;, &#x27;Adventure&#x27;, &#x27;Drama…</td><td>&quot;3 hr 1 min&quot;</td><td>&quot;PG-13&quot;</td></tr><tr><td>3</td><td>&quot;Titanic&quot;</td><td>&quot;A seventeen-year-old aristocra…</td><td>1997</td><td>&quot;Paramount Pictures&quot;</td><td>200000000</td><td>28638131</td><td>674292608</td><td>1590450697</td><td>2264743305</td><td>&quot;19-Dec-97&quot;</td><td>&quot;[&#x27;Drama&#x27;, &#x27;Romance&#x27;]&quot;</td><td>&quot;3 hr 14 min&quot;</td><td>&quot;PG-13&quot;</td></tr><tr><td>4</td><td>&quot;Star Wars: Episode VII - The F…</td><td>&quot;As a new threat to the galaxy …</td><td>2015</td><td>&quot;Walt Disney Studios Motion Pic…</td><td>245000000</td><td>247966675</td><td>936662225</td><td>1134647993</td><td>2071310218</td><td>&quot;16-Dec-15&quot;</td><td>&quot;[&#x27;Action&#x27;, &#x27;Adventure&#x27;, &#x27;Sci-F…</td><td>&quot;2 hr 18 min&quot;</td><td>&quot;PG-13&quot;</td></tr></tbody></table></div>"
      ],
      "text/plain": [
       "shape: (5, 14)\n",
       "┌─────┬─────┬─────┬─────┬─────┬─────┬─────┬────────┬───────┬───────┬───────┬───────┬───────┬───────┐\n",
       "│ idx ┆ Tit ┆ Mov ┆ Yea ┆ Dis ┆ Bud ┆ Dom ┆ Domest ┆ Inter ┆ World ┆ Relea ┆ Genre ┆ Runni ┆ Licen │\n",
       "│ --- ┆ le  ┆ ie  ┆ r   ┆ tri ┆ get ┆ est ┆ ic     ┆ natio ┆ Wide  ┆ se    ┆ ---   ┆ ng    ┆ se    │\n",
       "│ i64 ┆ --- ┆ Inf ┆ --- ┆ but ┆ (in ┆ ic  ┆ Sales  ┆ nal   ┆ Sales ┆ Date  ┆ str   ┆ Time  ┆ ---   │\n",
       "│     ┆ str ┆ o   ┆ i64 ┆ or  ┆ $)  ┆ Ope ┆ (in $) ┆ Sales ┆ (in   ┆ ---   ┆       ┆ ---   ┆ str   │\n",
       "│     ┆     ┆ --- ┆     ┆ --- ┆ --- ┆ nin ┆ ---    ┆ (in   ┆ $)    ┆ str   ┆       ┆ str   ┆       │\n",
       "│     ┆     ┆ str ┆     ┆ str ┆ i64 ┆ g   ┆ i64    ┆ $)    ┆ ---   ┆       ┆       ┆       ┆       │\n",
       "│     ┆     ┆     ┆     ┆     ┆     ┆ (in ┆        ┆ ---   ┆ i64   ┆       ┆       ┆       ┆       │\n",
       "│     ┆     ┆     ┆     ┆     ┆     ┆ $)  ┆        ┆ i64   ┆       ┆       ┆       ┆       ┆       │\n",
       "│     ┆     ┆     ┆     ┆     ┆     ┆ --- ┆        ┆       ┆       ┆       ┆       ┆       ┆       │\n",
       "│     ┆     ┆     ┆     ┆     ┆     ┆ i64 ┆        ┆       ┆       ┆       ┆       ┆       ┆       │\n",
       "╞═════╪═════╪═════╪═════╪═════╪═════╪═════╪════════╪═══════╪═══════╪═══════╪═══════╪═══════╪═══════╡\n",
       "│ 0   ┆ Ava ┆ A   ┆ 200 ┆ Twe ┆ 237 ┆ 770 ┆ 785221 ┆ 21384 ┆ 29237 ┆ 16-De ┆ ['Act ┆ 2 hr  ┆ PG-13 │\n",
       "│     ┆ tar ┆ par ┆ 9   ┆ nti ┆ 000 ┆ 254 ┆ 649    ┆ 84377 ┆ 06026 ┆ c-09  ┆ ion', ┆ 42    ┆       │\n",
       "│     ┆     ┆ apl ┆     ┆ eth ┆ 000 ┆ 81  ┆        ┆       ┆       ┆       ┆ 'Adve ┆ min   ┆       │\n",
       "│     ┆     ┆ egi ┆     ┆ Cen ┆     ┆     ┆        ┆       ┆       ┆       ┆ nture ┆       ┆       │\n",
       "│     ┆     ┆ c   ┆     ┆ tur ┆     ┆     ┆        ┆       ┆       ┆       ┆ ',    ┆       ┆       │\n",
       "│     ┆     ┆ Mar ┆     ┆ y   ┆     ┆     ┆        ┆       ┆       ┆       ┆ 'Fant ┆       ┆       │\n",
       "│     ┆     ┆ ine ┆     ┆ Fox ┆     ┆     ┆        ┆       ┆       ┆       ┆ a…    ┆       ┆       │\n",
       "│     ┆     ┆ dis ┆     ┆     ┆     ┆     ┆        ┆       ┆       ┆       ┆       ┆       ┆       │\n",
       "│     ┆     ┆ pat ┆     ┆     ┆     ┆     ┆        ┆       ┆       ┆       ┆       ┆       ┆       │\n",
       "│     ┆     ┆ che ┆     ┆     ┆     ┆     ┆        ┆       ┆       ┆       ┆       ┆       ┆       │\n",
       "│     ┆     ┆ d…  ┆     ┆     ┆     ┆     ┆        ┆       ┆       ┆       ┆       ┆       ┆       │\n",
       "│ 1   ┆ Ave ┆ Aft ┆ 201 ┆ Wal ┆ 356 ┆ 357 ┆ 858373 ┆ 19410 ┆ 27994 ┆ 24-Ap ┆ ['Act ┆ 3 hr  ┆ PG-13 │\n",
       "│     ┆ nge ┆ er  ┆ 9   ┆ t   ┆ 000 ┆ 115 ┆ 000    ┆ 66100 ┆ 39100 ┆ r-19  ┆ ion', ┆ 1 min ┆       │\n",
       "│     ┆ rs: ┆ the ┆     ┆ Dis ┆ 000 ┆ 007 ┆        ┆       ┆       ┆       ┆ 'Adve ┆       ┆       │\n",
       "│     ┆ End ┆ dev ┆     ┆ ney ┆     ┆     ┆        ┆       ┆       ┆       ┆ nture ┆       ┆       │\n",
       "│     ┆ gam ┆ ast ┆     ┆ Stu ┆     ┆     ┆        ┆       ┆       ┆       ┆ ',    ┆       ┆       │\n",
       "│     ┆ e   ┆ ati ┆     ┆ dio ┆     ┆     ┆        ┆       ┆       ┆       ┆ 'Dram ┆       ┆       │\n",
       "│     ┆     ┆ ng  ┆     ┆ s   ┆     ┆     ┆        ┆       ┆       ┆       ┆ a…    ┆       ┆       │\n",
       "│     ┆     ┆ eve ┆     ┆ Mot ┆     ┆     ┆        ┆       ┆       ┆       ┆       ┆       ┆       │\n",
       "│     ┆     ┆ nts ┆     ┆ ion ┆     ┆     ┆        ┆       ┆       ┆       ┆       ┆       ┆       │\n",
       "│     ┆     ┆ o…  ┆     ┆ Pic ┆     ┆     ┆        ┆       ┆       ┆       ┆       ┆       ┆       │\n",
       "│     ┆     ┆     ┆     ┆ …   ┆     ┆     ┆        ┆       ┆       ┆       ┆       ┆       ┆       │\n",
       "│ 2   ┆ Ava ┆ Jak ┆ 202 ┆ 20t ┆ nul ┆ 134 ┆ 684075 ┆ 16361 ┆ 23202 ┆ 24-Ap ┆ ['Act ┆ 3 hr  ┆ PG-13 │\n",
       "│     ┆ tar ┆ e   ┆ 2   ┆ h   ┆ l   ┆ 100 ┆ 767    ┆ 74514 ┆ 50281 ┆ r-19  ┆ ion', ┆ 1 min ┆       │\n",
       "│     ┆ :   ┆ Sul ┆     ┆ Cen ┆     ┆ 226 ┆        ┆       ┆       ┆       ┆ 'Adve ┆       ┆       │\n",
       "│     ┆ The ┆ ly  ┆     ┆ tur ┆     ┆     ┆        ┆       ┆       ┆       ┆ nture ┆       ┆       │\n",
       "│     ┆ Way ┆ liv ┆     ┆ y   ┆     ┆     ┆        ┆       ┆       ┆       ┆ ',    ┆       ┆       │\n",
       "│     ┆ of  ┆ es  ┆     ┆ Stu ┆     ┆     ┆        ┆       ┆       ┆       ┆ 'Dram ┆       ┆       │\n",
       "│     ┆ Wat ┆ wit ┆     ┆ dio ┆     ┆     ┆        ┆       ┆       ┆       ┆ a…    ┆       ┆       │\n",
       "│     ┆ er  ┆ h   ┆     ┆ s   ┆     ┆     ┆        ┆       ┆       ┆       ┆       ┆       ┆       │\n",
       "│     ┆     ┆ his ┆     ┆     ┆     ┆     ┆        ┆       ┆       ┆       ┆       ┆       ┆       │\n",
       "│     ┆     ┆ new ┆     ┆     ┆     ┆     ┆        ┆       ┆       ┆       ┆       ┆       ┆       │\n",
       "│     ┆     ┆ f…  ┆     ┆     ┆     ┆     ┆        ┆       ┆       ┆       ┆       ┆       ┆       │\n",
       "│ 3   ┆ Tit ┆ A   ┆ 199 ┆ Par ┆ 200 ┆ 286 ┆ 674292 ┆ 15904 ┆ 22647 ┆ 19-De ┆ ['Dra ┆ 3 hr  ┆ PG-13 │\n",
       "│     ┆ ani ┆ sev ┆ 7   ┆ amo ┆ 000 ┆ 381 ┆ 608    ┆ 50697 ┆ 43305 ┆ c-97  ┆ ma',  ┆ 14    ┆       │\n",
       "│     ┆ c   ┆ ent ┆     ┆ unt ┆ 000 ┆ 31  ┆        ┆       ┆       ┆       ┆ 'Roma ┆ min   ┆       │\n",
       "│     ┆     ┆ een ┆     ┆ Pic ┆     ┆     ┆        ┆       ┆       ┆       ┆ nce'] ┆       ┆       │\n",
       "│     ┆     ┆ -ye ┆     ┆ tur ┆     ┆     ┆        ┆       ┆       ┆       ┆       ┆       ┆       │\n",
       "│     ┆     ┆ ar- ┆     ┆ es  ┆     ┆     ┆        ┆       ┆       ┆       ┆       ┆       ┆       │\n",
       "│     ┆     ┆ old ┆     ┆     ┆     ┆     ┆        ┆       ┆       ┆       ┆       ┆       ┆       │\n",
       "│     ┆     ┆ ari ┆     ┆     ┆     ┆     ┆        ┆       ┆       ┆       ┆       ┆       ┆       │\n",
       "│     ┆     ┆ sto ┆     ┆     ┆     ┆     ┆        ┆       ┆       ┆       ┆       ┆       ┆       │\n",
       "│     ┆     ┆ cra ┆     ┆     ┆     ┆     ┆        ┆       ┆       ┆       ┆       ┆       ┆       │\n",
       "│     ┆     ┆ …   ┆     ┆     ┆     ┆     ┆        ┆       ┆       ┆       ┆       ┆       ┆       │\n",
       "│ 4   ┆ Sta ┆ As  ┆ 201 ┆ Wal ┆ 245 ┆ 247 ┆ 936662 ┆ 11346 ┆ 20713 ┆ 16-De ┆ ['Act ┆ 2 hr  ┆ PG-13 │\n",
       "│     ┆ r   ┆ a   ┆ 5   ┆ t   ┆ 000 ┆ 966 ┆ 225    ┆ 47993 ┆ 10218 ┆ c-15  ┆ ion', ┆ 18    ┆       │\n",
       "│     ┆ War ┆ new ┆     ┆ Dis ┆ 000 ┆ 675 ┆        ┆       ┆       ┆       ┆ 'Adve ┆ min   ┆       │\n",
       "│     ┆ s:  ┆ thr ┆     ┆ ney ┆     ┆     ┆        ┆       ┆       ┆       ┆ nture ┆       ┆       │\n",
       "│     ┆ Epi ┆ eat ┆     ┆ Stu ┆     ┆     ┆        ┆       ┆       ┆       ┆ ',    ┆       ┆       │\n",
       "│     ┆ sod ┆ to  ┆     ┆ dio ┆     ┆     ┆        ┆       ┆       ┆       ┆ 'Sci- ┆       ┆       │\n",
       "│     ┆ e   ┆ the ┆     ┆ s   ┆     ┆     ┆        ┆       ┆       ┆       ┆ F…    ┆       ┆       │\n",
       "│     ┆ VII ┆ gal ┆     ┆ Mot ┆     ┆     ┆        ┆       ┆       ┆       ┆       ┆       ┆       │\n",
       "│     ┆ -   ┆ axy ┆     ┆ ion ┆     ┆     ┆        ┆       ┆       ┆       ┆       ┆       ┆       │\n",
       "│     ┆ The ┆ …   ┆     ┆ Pic ┆     ┆     ┆        ┆       ┆       ┆       ┆       ┆       ┆       │\n",
       "│     ┆ F…  ┆     ┆     ┆ …   ┆     ┆     ┆        ┆       ┆       ┆       ┆       ┆       ┆       │\n",
       "└─────┴─────┴─────┴─────┴─────┴─────┴─────┴────────┴───────┴───────┴───────┴───────┴───────┴───────┘"
      ]
     },
     "execution_count": 153,
     "metadata": {},
     "output_type": "execute_result"
    }
   ],
   "source": [
    "df.head()"
   ]
  },
  {
   "cell_type": "markdown",
   "metadata": {},
   "source": [
    "#### Converting the date columns into proper DateTime Format"
   ]
  },
  {
   "cell_type": "code",
   "execution_count": 154,
   "metadata": {},
   "outputs": [],
   "source": [
    "df = df.with_columns(\n",
    "    pl.col(\"Release Date\").str.to_date(format = \"%d-%b-%y\")\n",
    "    .alias(\"Release Date\")\n",
    ")"
   ]
  },
  {
   "cell_type": "code",
   "execution_count": 155,
   "metadata": {},
   "outputs": [
    {
     "data": {
      "text/html": [
       "<div><style>\n",
       ".dataframe > thead > tr,\n",
       ".dataframe > tbody > tr {\n",
       "  text-align: right;\n",
       "  white-space: pre-wrap;\n",
       "}\n",
       "</style>\n",
       "<small>shape: (1_000, 1)</small><table border=\"1\" class=\"dataframe\"><thead><tr><th>Running Time</th></tr><tr><td>str</td></tr></thead><tbody><tr><td>&quot;2 hr 42 min&quot;</td></tr><tr><td>&quot;3 hr 1 min&quot;</td></tr><tr><td>&quot;3 hr 1 min&quot;</td></tr><tr><td>&quot;3 hr 14 min&quot;</td></tr><tr><td>&quot;2 hr 18 min&quot;</td></tr><tr><td>&hellip;</td></tr><tr><td>&quot;1 hr 48 min&quot;</td></tr><tr><td>&quot;1 hr 40 min&quot;</td></tr><tr><td>&quot;2 hr 19 min&quot;</td></tr><tr><td>&quot;2 hr 6 min&quot;</td></tr><tr><td>&quot;2 hr 6 min&quot;</td></tr></tbody></table></div>"
      ],
      "text/plain": [
       "shape: (1_000, 1)\n",
       "┌──────────────┐\n",
       "│ Running Time │\n",
       "│ ---          │\n",
       "│ str          │\n",
       "╞══════════════╡\n",
       "│ 2 hr 42 min  │\n",
       "│ 3 hr 1 min   │\n",
       "│ 3 hr 1 min   │\n",
       "│ 3 hr 14 min  │\n",
       "│ 2 hr 18 min  │\n",
       "│ …            │\n",
       "│ 1 hr 48 min  │\n",
       "│ 1 hr 40 min  │\n",
       "│ 2 hr 19 min  │\n",
       "│ 2 hr 6 min   │\n",
       "│ 2 hr 6 min   │\n",
       "└──────────────┘"
      ]
     },
     "execution_count": 155,
     "metadata": {},
     "output_type": "execute_result"
    }
   ],
   "source": [
    "df.select(\n",
    "    pl.col(\"Running Time\")\n",
    ")"
   ]
  },
  {
   "cell_type": "code",
   "execution_count": 156,
   "metadata": {},
   "outputs": [],
   "source": [
    "df = df.with_columns(\n",
    "    (pl.col(\"Running Time\").str.extract(r\"(\\d+)\").cast(pl.Int64)) * 60 + \n",
    "    (pl.col(\"Running Time\").str.extract(r\"hr (\\d+)\").cast(pl.Int64))\n",
    ")"
   ]
  },
  {
   "cell_type": "code",
   "execution_count": 157,
   "metadata": {},
   "outputs": [
    {
     "data": {
      "text/html": [
       "<div><style>\n",
       ".dataframe > thead > tr,\n",
       ".dataframe > tbody > tr {\n",
       "  text-align: right;\n",
       "  white-space: pre-wrap;\n",
       "}\n",
       "</style>\n",
       "<small>shape: (5, 14)</small><table border=\"1\" class=\"dataframe\"><thead><tr><th>idx</th><th>Title</th><th>Movie Info</th><th>Year</th><th>Distributor</th><th>Budget (in $)</th><th>Domestic Opening (in $)</th><th>Domestic Sales (in $)</th><th>International Sales (in $)</th><th>World Wide Sales (in $)</th><th>Release Date</th><th>Genre</th><th>Running Time</th><th>License</th></tr><tr><td>i64</td><td>str</td><td>str</td><td>i64</td><td>str</td><td>i64</td><td>i64</td><td>i64</td><td>i64</td><td>i64</td><td>date</td><td>str</td><td>i64</td><td>str</td></tr></thead><tbody><tr><td>0</td><td>&quot;Avatar&quot;</td><td>&quot;A paraplegic Marine dispatched…</td><td>2009</td><td>&quot;Twentieth Century Fox&quot;</td><td>237000000</td><td>77025481</td><td>785221649</td><td>2138484377</td><td>2923706026</td><td>2009-12-16</td><td>&quot;[&#x27;Action&#x27;, &#x27;Adventure&#x27;, &#x27;Fanta…</td><td>162</td><td>&quot;PG-13&quot;</td></tr><tr><td>1</td><td>&quot;Avengers: Endgame&quot;</td><td>&quot;After the devastating events o…</td><td>2019</td><td>&quot;Walt Disney Studios Motion Pic…</td><td>356000000</td><td>357115007</td><td>858373000</td><td>1941066100</td><td>2799439100</td><td>2019-04-24</td><td>&quot;[&#x27;Action&#x27;, &#x27;Adventure&#x27;, &#x27;Drama…</td><td>181</td><td>&quot;PG-13&quot;</td></tr><tr><td>2</td><td>&quot;Avatar: The Way of Water&quot;</td><td>&quot;Jake Sully lives with his newf…</td><td>2022</td><td>&quot;20th Century Studios&quot;</td><td>null</td><td>134100226</td><td>684075767</td><td>1636174514</td><td>2320250281</td><td>2019-04-24</td><td>&quot;[&#x27;Action&#x27;, &#x27;Adventure&#x27;, &#x27;Drama…</td><td>181</td><td>&quot;PG-13&quot;</td></tr><tr><td>3</td><td>&quot;Titanic&quot;</td><td>&quot;A seventeen-year-old aristocra…</td><td>1997</td><td>&quot;Paramount Pictures&quot;</td><td>200000000</td><td>28638131</td><td>674292608</td><td>1590450697</td><td>2264743305</td><td>1997-12-19</td><td>&quot;[&#x27;Drama&#x27;, &#x27;Romance&#x27;]&quot;</td><td>194</td><td>&quot;PG-13&quot;</td></tr><tr><td>4</td><td>&quot;Star Wars: Episode VII - The F…</td><td>&quot;As a new threat to the galaxy …</td><td>2015</td><td>&quot;Walt Disney Studios Motion Pic…</td><td>245000000</td><td>247966675</td><td>936662225</td><td>1134647993</td><td>2071310218</td><td>2015-12-16</td><td>&quot;[&#x27;Action&#x27;, &#x27;Adventure&#x27;, &#x27;Sci-F…</td><td>138</td><td>&quot;PG-13&quot;</td></tr></tbody></table></div>"
      ],
      "text/plain": [
       "shape: (5, 14)\n",
       "┌─────┬─────┬─────┬─────┬─────┬─────┬─────┬────────┬───────┬───────┬───────┬───────┬───────┬───────┐\n",
       "│ idx ┆ Tit ┆ Mov ┆ Yea ┆ Dis ┆ Bud ┆ Dom ┆ Domest ┆ Inter ┆ World ┆ Relea ┆ Genre ┆ Runni ┆ Licen │\n",
       "│ --- ┆ le  ┆ ie  ┆ r   ┆ tri ┆ get ┆ est ┆ ic     ┆ natio ┆ Wide  ┆ se    ┆ ---   ┆ ng    ┆ se    │\n",
       "│ i64 ┆ --- ┆ Inf ┆ --- ┆ but ┆ (in ┆ ic  ┆ Sales  ┆ nal   ┆ Sales ┆ Date  ┆ str   ┆ Time  ┆ ---   │\n",
       "│     ┆ str ┆ o   ┆ i64 ┆ or  ┆ $)  ┆ Ope ┆ (in $) ┆ Sales ┆ (in   ┆ ---   ┆       ┆ ---   ┆ str   │\n",
       "│     ┆     ┆ --- ┆     ┆ --- ┆ --- ┆ nin ┆ ---    ┆ (in   ┆ $)    ┆ date  ┆       ┆ i64   ┆       │\n",
       "│     ┆     ┆ str ┆     ┆ str ┆ i64 ┆ g   ┆ i64    ┆ $)    ┆ ---   ┆       ┆       ┆       ┆       │\n",
       "│     ┆     ┆     ┆     ┆     ┆     ┆ (in ┆        ┆ ---   ┆ i64   ┆       ┆       ┆       ┆       │\n",
       "│     ┆     ┆     ┆     ┆     ┆     ┆ $)  ┆        ┆ i64   ┆       ┆       ┆       ┆       ┆       │\n",
       "│     ┆     ┆     ┆     ┆     ┆     ┆ --- ┆        ┆       ┆       ┆       ┆       ┆       ┆       │\n",
       "│     ┆     ┆     ┆     ┆     ┆     ┆ i64 ┆        ┆       ┆       ┆       ┆       ┆       ┆       │\n",
       "╞═════╪═════╪═════╪═════╪═════╪═════╪═════╪════════╪═══════╪═══════╪═══════╪═══════╪═══════╪═══════╡\n",
       "│ 0   ┆ Ava ┆ A   ┆ 200 ┆ Twe ┆ 237 ┆ 770 ┆ 785221 ┆ 21384 ┆ 29237 ┆ 2009- ┆ ['Act ┆ 162   ┆ PG-13 │\n",
       "│     ┆ tar ┆ par ┆ 9   ┆ nti ┆ 000 ┆ 254 ┆ 649    ┆ 84377 ┆ 06026 ┆ 12-16 ┆ ion', ┆       ┆       │\n",
       "│     ┆     ┆ apl ┆     ┆ eth ┆ 000 ┆ 81  ┆        ┆       ┆       ┆       ┆ 'Adve ┆       ┆       │\n",
       "│     ┆     ┆ egi ┆     ┆ Cen ┆     ┆     ┆        ┆       ┆       ┆       ┆ nture ┆       ┆       │\n",
       "│     ┆     ┆ c   ┆     ┆ tur ┆     ┆     ┆        ┆       ┆       ┆       ┆ ',    ┆       ┆       │\n",
       "│     ┆     ┆ Mar ┆     ┆ y   ┆     ┆     ┆        ┆       ┆       ┆       ┆ 'Fant ┆       ┆       │\n",
       "│     ┆     ┆ ine ┆     ┆ Fox ┆     ┆     ┆        ┆       ┆       ┆       ┆ a…    ┆       ┆       │\n",
       "│     ┆     ┆ dis ┆     ┆     ┆     ┆     ┆        ┆       ┆       ┆       ┆       ┆       ┆       │\n",
       "│     ┆     ┆ pat ┆     ┆     ┆     ┆     ┆        ┆       ┆       ┆       ┆       ┆       ┆       │\n",
       "│     ┆     ┆ che ┆     ┆     ┆     ┆     ┆        ┆       ┆       ┆       ┆       ┆       ┆       │\n",
       "│     ┆     ┆ d…  ┆     ┆     ┆     ┆     ┆        ┆       ┆       ┆       ┆       ┆       ┆       │\n",
       "│ 1   ┆ Ave ┆ Aft ┆ 201 ┆ Wal ┆ 356 ┆ 357 ┆ 858373 ┆ 19410 ┆ 27994 ┆ 2019- ┆ ['Act ┆ 181   ┆ PG-13 │\n",
       "│     ┆ nge ┆ er  ┆ 9   ┆ t   ┆ 000 ┆ 115 ┆ 000    ┆ 66100 ┆ 39100 ┆ 04-24 ┆ ion', ┆       ┆       │\n",
       "│     ┆ rs: ┆ the ┆     ┆ Dis ┆ 000 ┆ 007 ┆        ┆       ┆       ┆       ┆ 'Adve ┆       ┆       │\n",
       "│     ┆ End ┆ dev ┆     ┆ ney ┆     ┆     ┆        ┆       ┆       ┆       ┆ nture ┆       ┆       │\n",
       "│     ┆ gam ┆ ast ┆     ┆ Stu ┆     ┆     ┆        ┆       ┆       ┆       ┆ ',    ┆       ┆       │\n",
       "│     ┆ e   ┆ ati ┆     ┆ dio ┆     ┆     ┆        ┆       ┆       ┆       ┆ 'Dram ┆       ┆       │\n",
       "│     ┆     ┆ ng  ┆     ┆ s   ┆     ┆     ┆        ┆       ┆       ┆       ┆ a…    ┆       ┆       │\n",
       "│     ┆     ┆ eve ┆     ┆ Mot ┆     ┆     ┆        ┆       ┆       ┆       ┆       ┆       ┆       │\n",
       "│     ┆     ┆ nts ┆     ┆ ion ┆     ┆     ┆        ┆       ┆       ┆       ┆       ┆       ┆       │\n",
       "│     ┆     ┆ o…  ┆     ┆ Pic ┆     ┆     ┆        ┆       ┆       ┆       ┆       ┆       ┆       │\n",
       "│     ┆     ┆     ┆     ┆ …   ┆     ┆     ┆        ┆       ┆       ┆       ┆       ┆       ┆       │\n",
       "│ 2   ┆ Ava ┆ Jak ┆ 202 ┆ 20t ┆ nul ┆ 134 ┆ 684075 ┆ 16361 ┆ 23202 ┆ 2019- ┆ ['Act ┆ 181   ┆ PG-13 │\n",
       "│     ┆ tar ┆ e   ┆ 2   ┆ h   ┆ l   ┆ 100 ┆ 767    ┆ 74514 ┆ 50281 ┆ 04-24 ┆ ion', ┆       ┆       │\n",
       "│     ┆ :   ┆ Sul ┆     ┆ Cen ┆     ┆ 226 ┆        ┆       ┆       ┆       ┆ 'Adve ┆       ┆       │\n",
       "│     ┆ The ┆ ly  ┆     ┆ tur ┆     ┆     ┆        ┆       ┆       ┆       ┆ nture ┆       ┆       │\n",
       "│     ┆ Way ┆ liv ┆     ┆ y   ┆     ┆     ┆        ┆       ┆       ┆       ┆ ',    ┆       ┆       │\n",
       "│     ┆ of  ┆ es  ┆     ┆ Stu ┆     ┆     ┆        ┆       ┆       ┆       ┆ 'Dram ┆       ┆       │\n",
       "│     ┆ Wat ┆ wit ┆     ┆ dio ┆     ┆     ┆        ┆       ┆       ┆       ┆ a…    ┆       ┆       │\n",
       "│     ┆ er  ┆ h   ┆     ┆ s   ┆     ┆     ┆        ┆       ┆       ┆       ┆       ┆       ┆       │\n",
       "│     ┆     ┆ his ┆     ┆     ┆     ┆     ┆        ┆       ┆       ┆       ┆       ┆       ┆       │\n",
       "│     ┆     ┆ new ┆     ┆     ┆     ┆     ┆        ┆       ┆       ┆       ┆       ┆       ┆       │\n",
       "│     ┆     ┆ f…  ┆     ┆     ┆     ┆     ┆        ┆       ┆       ┆       ┆       ┆       ┆       │\n",
       "│ 3   ┆ Tit ┆ A   ┆ 199 ┆ Par ┆ 200 ┆ 286 ┆ 674292 ┆ 15904 ┆ 22647 ┆ 1997- ┆ ['Dra ┆ 194   ┆ PG-13 │\n",
       "│     ┆ ani ┆ sev ┆ 7   ┆ amo ┆ 000 ┆ 381 ┆ 608    ┆ 50697 ┆ 43305 ┆ 12-19 ┆ ma',  ┆       ┆       │\n",
       "│     ┆ c   ┆ ent ┆     ┆ unt ┆ 000 ┆ 31  ┆        ┆       ┆       ┆       ┆ 'Roma ┆       ┆       │\n",
       "│     ┆     ┆ een ┆     ┆ Pic ┆     ┆     ┆        ┆       ┆       ┆       ┆ nce'] ┆       ┆       │\n",
       "│     ┆     ┆ -ye ┆     ┆ tur ┆     ┆     ┆        ┆       ┆       ┆       ┆       ┆       ┆       │\n",
       "│     ┆     ┆ ar- ┆     ┆ es  ┆     ┆     ┆        ┆       ┆       ┆       ┆       ┆       ┆       │\n",
       "│     ┆     ┆ old ┆     ┆     ┆     ┆     ┆        ┆       ┆       ┆       ┆       ┆       ┆       │\n",
       "│     ┆     ┆ ari ┆     ┆     ┆     ┆     ┆        ┆       ┆       ┆       ┆       ┆       ┆       │\n",
       "│     ┆     ┆ sto ┆     ┆     ┆     ┆     ┆        ┆       ┆       ┆       ┆       ┆       ┆       │\n",
       "│     ┆     ┆ cra ┆     ┆     ┆     ┆     ┆        ┆       ┆       ┆       ┆       ┆       ┆       │\n",
       "│     ┆     ┆ …   ┆     ┆     ┆     ┆     ┆        ┆       ┆       ┆       ┆       ┆       ┆       │\n",
       "│ 4   ┆ Sta ┆ As  ┆ 201 ┆ Wal ┆ 245 ┆ 247 ┆ 936662 ┆ 11346 ┆ 20713 ┆ 2015- ┆ ['Act ┆ 138   ┆ PG-13 │\n",
       "│     ┆ r   ┆ a   ┆ 5   ┆ t   ┆ 000 ┆ 966 ┆ 225    ┆ 47993 ┆ 10218 ┆ 12-16 ┆ ion', ┆       ┆       │\n",
       "│     ┆ War ┆ new ┆     ┆ Dis ┆ 000 ┆ 675 ┆        ┆       ┆       ┆       ┆ 'Adve ┆       ┆       │\n",
       "│     ┆ s:  ┆ thr ┆     ┆ ney ┆     ┆     ┆        ┆       ┆       ┆       ┆ nture ┆       ┆       │\n",
       "│     ┆ Epi ┆ eat ┆     ┆ Stu ┆     ┆     ┆        ┆       ┆       ┆       ┆ ',    ┆       ┆       │\n",
       "│     ┆ sod ┆ to  ┆     ┆ dio ┆     ┆     ┆        ┆       ┆       ┆       ┆ 'Sci- ┆       ┆       │\n",
       "│     ┆ e   ┆ the ┆     ┆ s   ┆     ┆     ┆        ┆       ┆       ┆       ┆ F…    ┆       ┆       │\n",
       "│     ┆ VII ┆ gal ┆     ┆ Mot ┆     ┆     ┆        ┆       ┆       ┆       ┆       ┆       ┆       │\n",
       "│     ┆ -   ┆ axy ┆     ┆ ion ┆     ┆     ┆        ┆       ┆       ┆       ┆       ┆       ┆       │\n",
       "│     ┆ The ┆ …   ┆     ┆ Pic ┆     ┆     ┆        ┆       ┆       ┆       ┆       ┆       ┆       │\n",
       "│     ┆ F…  ┆     ┆     ┆ …   ┆     ┆     ┆        ┆       ┆       ┆       ┆       ┆       ┆       │\n",
       "└─────┴─────┴─────┴─────┴─────┴─────┴─────┴────────┴───────┴───────┴───────┴───────┴───────┴───────┘"
      ]
     },
     "execution_count": 157,
     "metadata": {},
     "output_type": "execute_result"
    }
   ],
   "source": [
    "df.head()"
   ]
  },
  {
   "cell_type": "code",
   "execution_count": 158,
   "metadata": {},
   "outputs": [
    {
     "data": {
      "text/html": [
       "<div><style>\n",
       ".dataframe > thead > tr,\n",
       ".dataframe > tbody > tr {\n",
       "  text-align: right;\n",
       "  white-space: pre-wrap;\n",
       "}\n",
       "</style>\n",
       "<small>shape: (1, 14)</small><table border=\"1\" class=\"dataframe\"><thead><tr><th>idx</th><th>Title</th><th>Movie Info</th><th>Year</th><th>Distributor</th><th>Budget (in $)</th><th>Domestic Opening (in $)</th><th>Domestic Sales (in $)</th><th>International Sales (in $)</th><th>World Wide Sales (in $)</th><th>Release Date</th><th>Genre</th><th>Running Time</th><th>License</th></tr><tr><td>u32</td><td>u32</td><td>u32</td><td>u32</td><td>u32</td><td>u32</td><td>u32</td><td>u32</td><td>u32</td><td>u32</td><td>u32</td><td>u32</td><td>u32</td><td>u32</td></tr></thead><tbody><tr><td>0</td><td>0</td><td>0</td><td>0</td><td>1</td><td>215</td><td>28</td><td>0</td><td>0</td><td>0</td><td>0</td><td>0</td><td>16</td><td>0</td></tr></tbody></table></div>"
      ],
      "text/plain": [
       "shape: (1, 14)\n",
       "┌─────┬─────┬─────┬─────┬─────┬─────┬─────┬────────┬───────┬───────┬───────┬───────┬───────┬───────┐\n",
       "│ idx ┆ Tit ┆ Mov ┆ Yea ┆ Dis ┆ Bud ┆ Dom ┆ Domest ┆ Inter ┆ World ┆ Relea ┆ Genre ┆ Runni ┆ Licen │\n",
       "│ --- ┆ le  ┆ ie  ┆ r   ┆ tri ┆ get ┆ est ┆ ic     ┆ natio ┆ Wide  ┆ se    ┆ ---   ┆ ng    ┆ se    │\n",
       "│ u32 ┆ --- ┆ Inf ┆ --- ┆ but ┆ (in ┆ ic  ┆ Sales  ┆ nal   ┆ Sales ┆ Date  ┆ u32   ┆ Time  ┆ ---   │\n",
       "│     ┆ u32 ┆ o   ┆ u32 ┆ or  ┆ $)  ┆ Ope ┆ (in $) ┆ Sales ┆ (in   ┆ ---   ┆       ┆ ---   ┆ u32   │\n",
       "│     ┆     ┆ --- ┆     ┆ --- ┆ --- ┆ nin ┆ ---    ┆ (in   ┆ $)    ┆ u32   ┆       ┆ u32   ┆       │\n",
       "│     ┆     ┆ u32 ┆     ┆ u32 ┆ u32 ┆ g   ┆ u32    ┆ $)    ┆ ---   ┆       ┆       ┆       ┆       │\n",
       "│     ┆     ┆     ┆     ┆     ┆     ┆ (in ┆        ┆ ---   ┆ u32   ┆       ┆       ┆       ┆       │\n",
       "│     ┆     ┆     ┆     ┆     ┆     ┆ $)  ┆        ┆ u32   ┆       ┆       ┆       ┆       ┆       │\n",
       "│     ┆     ┆     ┆     ┆     ┆     ┆ --- ┆        ┆       ┆       ┆       ┆       ┆       ┆       │\n",
       "│     ┆     ┆     ┆     ┆     ┆     ┆ u32 ┆        ┆       ┆       ┆       ┆       ┆       ┆       │\n",
       "╞═════╪═════╪═════╪═════╪═════╪═════╪═════╪════════╪═══════╪═══════╪═══════╪═══════╪═══════╪═══════╡\n",
       "│ 0   ┆ 0   ┆ 0   ┆ 0   ┆ 1   ┆ 215 ┆ 28  ┆ 0      ┆ 0     ┆ 0     ┆ 0     ┆ 0     ┆ 16    ┆ 0     │\n",
       "└─────┴─────┴─────┴─────┴─────┴─────┴─────┴────────┴───────┴───────┴───────┴───────┴───────┴───────┘"
      ]
     },
     "execution_count": 158,
     "metadata": {},
     "output_type": "execute_result"
    }
   ],
   "source": [
    "df.null_count()"
   ]
  },
  {
   "cell_type": "code",
   "execution_count": 163,
   "metadata": {},
   "outputs": [
    {
     "data": {
      "text/html": [
       "<div><style>\n",
       ".dataframe > thead > tr,\n",
       ".dataframe > tbody > tr {\n",
       "  text-align: right;\n",
       "  white-space: pre-wrap;\n",
       "}\n",
       "</style>\n",
       "<small>shape: (1, 14)</small><table border=\"1\" class=\"dataframe\"><thead><tr><th>idx</th><th>Title</th><th>Movie Info</th><th>Year</th><th>Distributor</th><th>Budget (in $)</th><th>Domestic Opening (in $)</th><th>Domestic Sales (in $)</th><th>International Sales (in $)</th><th>World Wide Sales (in $)</th><th>Release Date</th><th>Genre</th><th>Running Time</th><th>License</th></tr><tr><td>i64</td><td>str</td><td>str</td><td>i64</td><td>str</td><td>i64</td><td>i64</td><td>i64</td><td>i64</td><td>i64</td><td>date</td><td>str</td><td>i64</td><td>str</td></tr></thead><tbody><tr><td>686</td><td>&quot;Welcome to the Sticks&quot;</td><td>&quot;A French public servant from P…</td><td>2008</td><td>null</td><td>null</td><td>null</td><td>245144417</td><td>245144417</td><td>245179562</td><td>2003-06-19</td><td>&quot;[&#x27;Action&#x27;, &#x27;Sci-Fi&#x27;]&quot;</td><td>138</td><td>&quot;PG-13&quot;</td></tr></tbody></table></div>"
      ],
      "text/plain": [
       "shape: (1, 14)\n",
       "┌─────┬─────┬─────┬─────┬─────┬─────┬─────┬────────┬───────┬───────┬───────┬───────┬───────┬───────┐\n",
       "│ idx ┆ Tit ┆ Mov ┆ Yea ┆ Dis ┆ Bud ┆ Dom ┆ Domest ┆ Inter ┆ World ┆ Relea ┆ Genre ┆ Runni ┆ Licen │\n",
       "│ --- ┆ le  ┆ ie  ┆ r   ┆ tri ┆ get ┆ est ┆ ic     ┆ natio ┆ Wide  ┆ se    ┆ ---   ┆ ng    ┆ se    │\n",
       "│ i64 ┆ --- ┆ Inf ┆ --- ┆ but ┆ (in ┆ ic  ┆ Sales  ┆ nal   ┆ Sales ┆ Date  ┆ str   ┆ Time  ┆ ---   │\n",
       "│     ┆ str ┆ o   ┆ i64 ┆ or  ┆ $)  ┆ Ope ┆ (in $) ┆ Sales ┆ (in   ┆ ---   ┆       ┆ ---   ┆ str   │\n",
       "│     ┆     ┆ --- ┆     ┆ --- ┆ --- ┆ nin ┆ ---    ┆ (in   ┆ $)    ┆ date  ┆       ┆ i64   ┆       │\n",
       "│     ┆     ┆ str ┆     ┆ str ┆ i64 ┆ g   ┆ i64    ┆ $)    ┆ ---   ┆       ┆       ┆       ┆       │\n",
       "│     ┆     ┆     ┆     ┆     ┆     ┆ (in ┆        ┆ ---   ┆ i64   ┆       ┆       ┆       ┆       │\n",
       "│     ┆     ┆     ┆     ┆     ┆     ┆ $)  ┆        ┆ i64   ┆       ┆       ┆       ┆       ┆       │\n",
       "│     ┆     ┆     ┆     ┆     ┆     ┆ --- ┆        ┆       ┆       ┆       ┆       ┆       ┆       │\n",
       "│     ┆     ┆     ┆     ┆     ┆     ┆ i64 ┆        ┆       ┆       ┆       ┆       ┆       ┆       │\n",
       "╞═════╪═════╪═════╪═════╪═════╪═════╪═════╪════════╪═══════╪═══════╪═══════╪═══════╪═══════╪═══════╡\n",
       "│ 686 ┆ Wel ┆ A   ┆ 200 ┆ nul ┆ nul ┆ nul ┆ 245144 ┆ 24514 ┆ 24517 ┆ 2003- ┆ ['Act ┆ 138   ┆ PG-13 │\n",
       "│     ┆ com ┆ Fre ┆ 8   ┆ l   ┆ l   ┆ l   ┆ 417    ┆ 4417  ┆ 9562  ┆ 06-19 ┆ ion', ┆       ┆       │\n",
       "│     ┆ e   ┆ nch ┆     ┆     ┆     ┆     ┆        ┆       ┆       ┆       ┆ 'Sci- ┆       ┆       │\n",
       "│     ┆ to  ┆ pub ┆     ┆     ┆     ┆     ┆        ┆       ┆       ┆       ┆ Fi']  ┆       ┆       │\n",
       "│     ┆ the ┆ lic ┆     ┆     ┆     ┆     ┆        ┆       ┆       ┆       ┆       ┆       ┆       │\n",
       "│     ┆ Sti ┆ ser ┆     ┆     ┆     ┆     ┆        ┆       ┆       ┆       ┆       ┆       ┆       │\n",
       "│     ┆ cks ┆ van ┆     ┆     ┆     ┆     ┆        ┆       ┆       ┆       ┆       ┆       ┆       │\n",
       "│     ┆     ┆ t   ┆     ┆     ┆     ┆     ┆        ┆       ┆       ┆       ┆       ┆       ┆       │\n",
       "│     ┆     ┆ fro ┆     ┆     ┆     ┆     ┆        ┆       ┆       ┆       ┆       ┆       ┆       │\n",
       "│     ┆     ┆ m   ┆     ┆     ┆     ┆     ┆        ┆       ┆       ┆       ┆       ┆       ┆       │\n",
       "│     ┆     ┆ P…  ┆     ┆     ┆     ┆     ┆        ┆       ┆       ┆       ┆       ┆       ┆       │\n",
       "└─────┴─────┴─────┴─────┴─────┴─────┴─────┴────────┴───────┴───────┴───────┴───────┴───────┴───────┘"
      ]
     },
     "execution_count": 163,
     "metadata": {},
     "output_type": "execute_result"
    }
   ],
   "source": [
    "df.filter(\n",
    "    pl.col(\"Distributor\").is_null()\n",
    ")"
   ]
  },
  {
   "cell_type": "code",
   "execution_count": 164,
   "metadata": {},
   "outputs": [],
   "source": [
    "df.write_csv(\"clean_movies.csv\")"
   ]
  }
 ],
 "metadata": {
  "kernelspec": {
   "display_name": "Python 3",
   "language": "python",
   "name": "python3"
  },
  "language_info": {
   "codemirror_mode": {
    "name": "ipython",
    "version": 3
   },
   "file_extension": ".py",
   "mimetype": "text/x-python",
   "name": "python",
   "nbconvert_exporter": "python",
   "pygments_lexer": "ipython3",
   "version": "3.11.1"
  }
 },
 "nbformat": 4,
 "nbformat_minor": 2
}
