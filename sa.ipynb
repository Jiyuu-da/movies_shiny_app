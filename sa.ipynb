{
 "cells": [
  {
   "cell_type": "code",
   "execution_count": 15,
   "metadata": {},
   "outputs": [
    {
     "name": "stdout",
     "output_type": "stream",
     "text": [
      "                                         Title  World Wide Sales (in $)\n",
      "6                      Spider-Man: No Way Home               1921847111\n",
      "71                 The Battle at Lake Changjin                902548476\n",
      "111                             No Time to Die                774153007\n",
      "130                          F9: The Fast Saga                726229501\n",
      "147                      Detective Chinatown 3                687228908\n",
      "232                Venom: Let There Be Carnage                506863592\n",
      "267                          Godzilla vs. Kong                470116094\n",
      "302  Shang-Chi and the Legend of the Ten Rings                432243292\n",
      "330                                     Sing 2                408402141\n",
      "342                                   Eternals                402064899\n",
      "343                                       Dune                402027830\n",
      "372                                Black Widow                379751655\n",
      "468                                   Free Guy                331526598\n",
      "636                                    Encanto                256786742\n",
      "717                                    Cruella                233503234\n",
      "763                     My Country, My Parents                221831086\n",
      "766                              Jungle Cruise                220889446\n",
      "841     The Conjuring: The Devil Made Me Do It                206431050\n",
      "845                                Raging Fire                205842393\n",
      "858                    Ghostbusters: Afterlife                204334455\n",
      "969                              Cliff Walkers                181325565\n"
     ]
    }
   ],
   "source": [
    "import pandas as pd\n",
    "from pathlib import Path\n",
    "\n",
    "df = pd.read_csv(\"./dataset/clean_movies.csv\")\n",
    "by_year = df[df[\"Year\"] == 2021]\n",
    "print(by_year.sort_values(by=\"World Wide Sales (in $)\", ascending=False)[[\"Title\", \"World Wide Sales (in $)\"]])\n"
   ]
  },
  {
   "cell_type": "code",
   "execution_count": 17,
   "metadata": {},
   "outputs": [
    {
     "data": {
      "text/plain": [
       "(980, 14)"
      ]
     },
     "execution_count": 17,
     "metadata": {},
     "output_type": "execute_result"
    }
   ],
   "source": [
    "df.shape"
   ]
  },
  {
   "cell_type": "code",
   "execution_count": null,
   "metadata": {},
   "outputs": [],
   "source": []
  }
 ],
 "metadata": {
  "kernelspec": {
   "display_name": "Python 3",
   "language": "python",
   "name": "python3"
  },
  "language_info": {
   "codemirror_mode": {
    "name": "ipython",
    "version": 3
   },
   "file_extension": ".py",
   "mimetype": "text/x-python",
   "name": "python",
   "nbconvert_exporter": "python",
   "pygments_lexer": "ipython3",
   "version": "3.11.1"
  }
 },
 "nbformat": 4,
 "nbformat_minor": 2
}
